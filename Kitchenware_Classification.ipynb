{
  "nbformat": 4,
  "nbformat_minor": 0,
  "metadata": {
    "colab": {
      "provenance": [],
      "collapsed_sections": [
        "ZllaF9B_e11I"
      ]
    },
    "kernelspec": {
      "name": "python3",
      "display_name": "Python 3"
    },
    "language_info": {
      "name": "python"
    },
    "gpuClass": "standard",
    "accelerator": "GPU"
  },
  "cells": [
    {
      "cell_type": "markdown",
      "source": [
        "# 1. Description of the Kitchenware Classification"
      ],
      "metadata": {
        "id": "8rVYlc9tOYmM"
      }
    },
    {
      "cell_type": "markdown",
      "source": [
        "<p align=\"center\">\n",
        "  <img src=\"https://cdn.shopify.com/s/files/1/0577/0438/2655/collections/Affordable_Cookware_available_at_ronis_store_38c91459-77be-44d9-89f3-725b966fa321_1350x600.jpg?v=1645194620\">\n",
        "</p>\n"
      ],
      "metadata": {
        "id": "qGmDPSJfOzBa"
      }
    },
    {
      "cell_type": "markdown",
      "source": [
        "\n",
        "\n",
        "---\n",
        "\n",
        "\n",
        "**Data Set**:\n",
        "\n",
        "> https://www.kaggle.com/competitions/kitchenware-classification/data\n",
        "\n"
      ],
      "metadata": {
        "id": "Gcjyyo-vPCZC"
      }
    },
    {
      "cell_type": "markdown",
      "source": [
        "## 1.1. Importing Data"
      ],
      "metadata": {
        "id": "zijs72qZPP-5"
      }
    },
    {
      "cell_type": "code",
      "source": [
        "import numpy as np\n",
        "import pandas as pd \n",
        "\n",
        "import os \n",
        "import shutil\n",
        "\n",
        "from sklearn.model_selection import train_test_split\n",
        "# from sklearn.manifold import Isomap\n",
        "# from sklearn.decomposition import PCA \n",
        "\n",
        "\n",
        "import matplotlib.pyplot as plt         # Importing seaborn and matplotlib library for graphics\n",
        "import seaborn as sns                   \n",
        "from warnings import filterwarnings     # import filterwarnings to avoid warnings"
      ],
      "metadata": {
        "id": "zesJkLD_EHt-"
      },
      "execution_count": null,
      "outputs": []
    },
    {
      "cell_type": "code",
      "execution_count": null,
      "metadata": {
        "id": "X-DdkjJg5CBI",
        "colab": {
          "base_uri": "https://localhost:8080/",
          "height": 74
        },
        "outputId": "2cf5c455-7cfc-4d1f-ccfe-70a16d3c5c88"
      },
      "outputs": [
        {
          "output_type": "display_data",
          "data": {
            "text/plain": [
              "<IPython.core.display.HTML object>"
            ],
            "text/html": [
              "\n",
              "     <input type=\"file\" id=\"files-72c6ecbb-56a6-446e-bf8a-1617bca7a2ac\" name=\"files[]\" multiple disabled\n",
              "        style=\"border:none\" />\n",
              "     <output id=\"result-72c6ecbb-56a6-446e-bf8a-1617bca7a2ac\">\n",
              "      Upload widget is only available when the cell has been executed in the\n",
              "      current browser session. Please rerun this cell to enable.\n",
              "      </output>\n",
              "      <script>// Copyright 2017 Google LLC\n",
              "//\n",
              "// Licensed under the Apache License, Version 2.0 (the \"License\");\n",
              "// you may not use this file except in compliance with the License.\n",
              "// You may obtain a copy of the License at\n",
              "//\n",
              "//      http://www.apache.org/licenses/LICENSE-2.0\n",
              "//\n",
              "// Unless required by applicable law or agreed to in writing, software\n",
              "// distributed under the License is distributed on an \"AS IS\" BASIS,\n",
              "// WITHOUT WARRANTIES OR CONDITIONS OF ANY KIND, either express or implied.\n",
              "// See the License for the specific language governing permissions and\n",
              "// limitations under the License.\n",
              "\n",
              "/**\n",
              " * @fileoverview Helpers for google.colab Python module.\n",
              " */\n",
              "(function(scope) {\n",
              "function span(text, styleAttributes = {}) {\n",
              "  const element = document.createElement('span');\n",
              "  element.textContent = text;\n",
              "  for (const key of Object.keys(styleAttributes)) {\n",
              "    element.style[key] = styleAttributes[key];\n",
              "  }\n",
              "  return element;\n",
              "}\n",
              "\n",
              "// Max number of bytes which will be uploaded at a time.\n",
              "const MAX_PAYLOAD_SIZE = 100 * 1024;\n",
              "\n",
              "function _uploadFiles(inputId, outputId) {\n",
              "  const steps = uploadFilesStep(inputId, outputId);\n",
              "  const outputElement = document.getElementById(outputId);\n",
              "  // Cache steps on the outputElement to make it available for the next call\n",
              "  // to uploadFilesContinue from Python.\n",
              "  outputElement.steps = steps;\n",
              "\n",
              "  return _uploadFilesContinue(outputId);\n",
              "}\n",
              "\n",
              "// This is roughly an async generator (not supported in the browser yet),\n",
              "// where there are multiple asynchronous steps and the Python side is going\n",
              "// to poll for completion of each step.\n",
              "// This uses a Promise to block the python side on completion of each step,\n",
              "// then passes the result of the previous step as the input to the next step.\n",
              "function _uploadFilesContinue(outputId) {\n",
              "  const outputElement = document.getElementById(outputId);\n",
              "  const steps = outputElement.steps;\n",
              "\n",
              "  const next = steps.next(outputElement.lastPromiseValue);\n",
              "  return Promise.resolve(next.value.promise).then((value) => {\n",
              "    // Cache the last promise value to make it available to the next\n",
              "    // step of the generator.\n",
              "    outputElement.lastPromiseValue = value;\n",
              "    return next.value.response;\n",
              "  });\n",
              "}\n",
              "\n",
              "/**\n",
              " * Generator function which is called between each async step of the upload\n",
              " * process.\n",
              " * @param {string} inputId Element ID of the input file picker element.\n",
              " * @param {string} outputId Element ID of the output display.\n",
              " * @return {!Iterable<!Object>} Iterable of next steps.\n",
              " */\n",
              "function* uploadFilesStep(inputId, outputId) {\n",
              "  const inputElement = document.getElementById(inputId);\n",
              "  inputElement.disabled = false;\n",
              "\n",
              "  const outputElement = document.getElementById(outputId);\n",
              "  outputElement.innerHTML = '';\n",
              "\n",
              "  const pickedPromise = new Promise((resolve) => {\n",
              "    inputElement.addEventListener('change', (e) => {\n",
              "      resolve(e.target.files);\n",
              "    });\n",
              "  });\n",
              "\n",
              "  const cancel = document.createElement('button');\n",
              "  inputElement.parentElement.appendChild(cancel);\n",
              "  cancel.textContent = 'Cancel upload';\n",
              "  const cancelPromise = new Promise((resolve) => {\n",
              "    cancel.onclick = () => {\n",
              "      resolve(null);\n",
              "    };\n",
              "  });\n",
              "\n",
              "  // Wait for the user to pick the files.\n",
              "  const files = yield {\n",
              "    promise: Promise.race([pickedPromise, cancelPromise]),\n",
              "    response: {\n",
              "      action: 'starting',\n",
              "    }\n",
              "  };\n",
              "\n",
              "  cancel.remove();\n",
              "\n",
              "  // Disable the input element since further picks are not allowed.\n",
              "  inputElement.disabled = true;\n",
              "\n",
              "  if (!files) {\n",
              "    return {\n",
              "      response: {\n",
              "        action: 'complete',\n",
              "      }\n",
              "    };\n",
              "  }\n",
              "\n",
              "  for (const file of files) {\n",
              "    const li = document.createElement('li');\n",
              "    li.append(span(file.name, {fontWeight: 'bold'}));\n",
              "    li.append(span(\n",
              "        `(${file.type || 'n/a'}) - ${file.size} bytes, ` +\n",
              "        `last modified: ${\n",
              "            file.lastModifiedDate ? file.lastModifiedDate.toLocaleDateString() :\n",
              "                                    'n/a'} - `));\n",
              "    const percent = span('0% done');\n",
              "    li.appendChild(percent);\n",
              "\n",
              "    outputElement.appendChild(li);\n",
              "\n",
              "    const fileDataPromise = new Promise((resolve) => {\n",
              "      const reader = new FileReader();\n",
              "      reader.onload = (e) => {\n",
              "        resolve(e.target.result);\n",
              "      };\n",
              "      reader.readAsArrayBuffer(file);\n",
              "    });\n",
              "    // Wait for the data to be ready.\n",
              "    let fileData = yield {\n",
              "      promise: fileDataPromise,\n",
              "      response: {\n",
              "        action: 'continue',\n",
              "      }\n",
              "    };\n",
              "\n",
              "    // Use a chunked sending to avoid message size limits. See b/62115660.\n",
              "    let position = 0;\n",
              "    do {\n",
              "      const length = Math.min(fileData.byteLength - position, MAX_PAYLOAD_SIZE);\n",
              "      const chunk = new Uint8Array(fileData, position, length);\n",
              "      position += length;\n",
              "\n",
              "      const base64 = btoa(String.fromCharCode.apply(null, chunk));\n",
              "      yield {\n",
              "        response: {\n",
              "          action: 'append',\n",
              "          file: file.name,\n",
              "          data: base64,\n",
              "        },\n",
              "      };\n",
              "\n",
              "      let percentDone = fileData.byteLength === 0 ?\n",
              "          100 :\n",
              "          Math.round((position / fileData.byteLength) * 100);\n",
              "      percent.textContent = `${percentDone}% done`;\n",
              "\n",
              "    } while (position < fileData.byteLength);\n",
              "  }\n",
              "\n",
              "  // All done.\n",
              "  yield {\n",
              "    response: {\n",
              "      action: 'complete',\n",
              "    }\n",
              "  };\n",
              "}\n",
              "\n",
              "scope.google = scope.google || {};\n",
              "scope.google.colab = scope.google.colab || {};\n",
              "scope.google.colab._files = {\n",
              "  _uploadFiles,\n",
              "  _uploadFilesContinue,\n",
              "};\n",
              "})(self);\n",
              "</script> "
            ]
          },
          "metadata": {}
        },
        {
          "output_type": "stream",
          "name": "stdout",
          "text": [
            "Saving kaggle.json to kaggle.json\n"
          ]
        }
      ],
      "source": [
        "# Install Kaggle\n",
        "!pip install -q kaggle\n",
        "# Import Kaggle.json file\n",
        "if not os.path.exists(\"./kaggle.json\"):\n",
        "  from google.colab import files\n",
        "  files.upload()\n",
        "# Create a Kaggle folder\n",
        "if not os.path.exists(os.path.expanduser('~/.kaggle')):\n",
        "  os.mkdir(os.path.expanduser('~/.kaggle'))\n",
        "  #!mkdir '~/.kaggle'\n",
        "# Copy the Kaggle.json to folder created\n",
        "!cp kaggle.json ~/.kaggle\n",
        "# Permissions\n",
        "!chmod 600 ~/.kaggle/kaggle.json"
      ]
    },
    {
      "cell_type": "markdown",
      "source": [
        "If you have problems using Kaggle library reinstall it using the code below"
      ],
      "metadata": {
        "id": "bUJYwdouPUg5"
      }
    },
    {
      "cell_type": "code",
      "source": [
        "#!pip install --upgrade --force-reinstall --no-deps kaggle"
      ],
      "metadata": {
        "colab": {
          "base_uri": "https://localhost:8080/"
        },
        "id": "hhOXMzCUlg7F",
        "outputId": "2be05a72-8efe-49fb-d5f4-9e093d945748"
      },
      "execution_count": null,
      "outputs": [
        {
          "output_type": "stream",
          "name": "stdout",
          "text": [
            "Collecting kaggle\n",
            "  Downloading kaggle-1.5.12.tar.gz (58 kB)\n",
            "\u001b[?25l\r\u001b[K     |█████▋                          | 10 kB 32.5 MB/s eta 0:00:01\r\u001b[K     |███████████▏                    | 20 kB 19.7 MB/s eta 0:00:01\r\u001b[K     |████████████████▊               | 30 kB 10.7 MB/s eta 0:00:01\r\u001b[K     |██████████████████████▎         | 40 kB 6.3 MB/s eta 0:00:01\r\u001b[K     |███████████████████████████▉    | 51 kB 7.6 MB/s eta 0:00:01\r\u001b[K     |████████████████████████████████| 58 kB 4.4 MB/s \n",
            "\u001b[?25hBuilding wheels for collected packages: kaggle\n",
            "  Building wheel for kaggle (setup.py) ... \u001b[?25l\u001b[?25hdone\n",
            "  Created wheel for kaggle: filename=kaggle-1.5.12-py3-none-any.whl size=73051 sha256=3e439d8a2f782356cf17691aa07254aee03470d0e8a3aed72fa5125058a52cb8\n",
            "  Stored in directory: /root/.cache/pip/wheels/62/d6/58/5853130f941e75b2177d281eb7e44b4a98ed46dd155f556dc5\n",
            "Successfully built kaggle\n",
            "Installing collected packages: kaggle\n",
            "  Attempting uninstall: kaggle\n",
            "    Found existing installation: kaggle 1.5.12\n",
            "    Uninstalling kaggle-1.5.12:\n",
            "      Successfully uninstalled kaggle-1.5.12\n",
            "Successfully installed kaggle-1.5.12\n"
          ]
        }
      ]
    },
    {
      "cell_type": "code",
      "source": [
        "!kaggle competitions download -c kitchenware-classification\n",
        "!mkdir data\n",
        "!unzip kitchenware-classification.zip -d data > /dev/null\n",
        "!rm kitchenware-classification.zip"
      ],
      "metadata": {
        "colab": {
          "base_uri": "https://localhost:8080/"
        },
        "id": "jy7dIRyjF15E",
        "outputId": "f57ba7ef-5150-4ae1-ea17-822475a58e03"
      },
      "execution_count": null,
      "outputs": [
        {
          "output_type": "stream",
          "name": "stdout",
          "text": [
            "Downloading kitchenware-classification.zip to /content\n",
            "100% 1.63G/1.63G [01:25<00:00, 23.8MB/s]\n",
            "100% 1.63G/1.63G [01:25<00:00, 20.6MB/s]\n"
          ]
        }
      ]
    },
    {
      "cell_type": "markdown",
      "source": [
        "### Getting Data from csv File"
      ],
      "metadata": {
        "id": "PJakpr52PasD"
      }
    },
    {
      "cell_type": "code",
      "source": [
        "df_train = pd.read_csv('data/train.csv', dtype={'Id': str})\n",
        "df_train['filename'] = 'data/images/' + df_train['Id'] + '.jpg'\n",
        "df_train"
      ],
      "metadata": {
        "colab": {
          "base_uri": "https://localhost:8080/",
          "height": 423
        },
        "id": "bQ3JnRem-zZ9",
        "outputId": "7c0f23f8-54b6-4024-f257-768107985b85"
      },
      "execution_count": null,
      "outputs": [
        {
          "output_type": "execute_result",
          "data": {
            "text/plain": [
              "        Id  label              filename\n",
              "0     0560  glass  data/images/0560.jpg\n",
              "1     4675    cup  data/images/4675.jpg\n",
              "2     0875  glass  data/images/0875.jpg\n",
              "3     4436  spoon  data/images/4436.jpg\n",
              "4     8265  plate  data/images/8265.jpg\n",
              "...    ...    ...                   ...\n",
              "5554  6742    cup  data/images/6742.jpg\n",
              "5555  1574    cup  data/images/1574.jpg\n",
              "5556  6746  knife  data/images/6746.jpg\n",
              "5557  3562    cup  data/images/3562.jpg\n",
              "5558  5052  glass  data/images/5052.jpg\n",
              "\n",
              "[5559 rows x 3 columns]"
            ],
            "text/html": [
              "\n",
              "  <div id=\"df-3566450b-2ff2-4d71-841a-28b2180ac781\">\n",
              "    <div class=\"colab-df-container\">\n",
              "      <div>\n",
              "<style scoped>\n",
              "    .dataframe tbody tr th:only-of-type {\n",
              "        vertical-align: middle;\n",
              "    }\n",
              "\n",
              "    .dataframe tbody tr th {\n",
              "        vertical-align: top;\n",
              "    }\n",
              "\n",
              "    .dataframe thead th {\n",
              "        text-align: right;\n",
              "    }\n",
              "</style>\n",
              "<table border=\"1\" class=\"dataframe\">\n",
              "  <thead>\n",
              "    <tr style=\"text-align: right;\">\n",
              "      <th></th>\n",
              "      <th>Id</th>\n",
              "      <th>label</th>\n",
              "      <th>filename</th>\n",
              "    </tr>\n",
              "  </thead>\n",
              "  <tbody>\n",
              "    <tr>\n",
              "      <th>0</th>\n",
              "      <td>0560</td>\n",
              "      <td>glass</td>\n",
              "      <td>data/images/0560.jpg</td>\n",
              "    </tr>\n",
              "    <tr>\n",
              "      <th>1</th>\n",
              "      <td>4675</td>\n",
              "      <td>cup</td>\n",
              "      <td>data/images/4675.jpg</td>\n",
              "    </tr>\n",
              "    <tr>\n",
              "      <th>2</th>\n",
              "      <td>0875</td>\n",
              "      <td>glass</td>\n",
              "      <td>data/images/0875.jpg</td>\n",
              "    </tr>\n",
              "    <tr>\n",
              "      <th>3</th>\n",
              "      <td>4436</td>\n",
              "      <td>spoon</td>\n",
              "      <td>data/images/4436.jpg</td>\n",
              "    </tr>\n",
              "    <tr>\n",
              "      <th>4</th>\n",
              "      <td>8265</td>\n",
              "      <td>plate</td>\n",
              "      <td>data/images/8265.jpg</td>\n",
              "    </tr>\n",
              "    <tr>\n",
              "      <th>...</th>\n",
              "      <td>...</td>\n",
              "      <td>...</td>\n",
              "      <td>...</td>\n",
              "    </tr>\n",
              "    <tr>\n",
              "      <th>5554</th>\n",
              "      <td>6742</td>\n",
              "      <td>cup</td>\n",
              "      <td>data/images/6742.jpg</td>\n",
              "    </tr>\n",
              "    <tr>\n",
              "      <th>5555</th>\n",
              "      <td>1574</td>\n",
              "      <td>cup</td>\n",
              "      <td>data/images/1574.jpg</td>\n",
              "    </tr>\n",
              "    <tr>\n",
              "      <th>5556</th>\n",
              "      <td>6746</td>\n",
              "      <td>knife</td>\n",
              "      <td>data/images/6746.jpg</td>\n",
              "    </tr>\n",
              "    <tr>\n",
              "      <th>5557</th>\n",
              "      <td>3562</td>\n",
              "      <td>cup</td>\n",
              "      <td>data/images/3562.jpg</td>\n",
              "    </tr>\n",
              "    <tr>\n",
              "      <th>5558</th>\n",
              "      <td>5052</td>\n",
              "      <td>glass</td>\n",
              "      <td>data/images/5052.jpg</td>\n",
              "    </tr>\n",
              "  </tbody>\n",
              "</table>\n",
              "<p>5559 rows × 3 columns</p>\n",
              "</div>\n",
              "      <button class=\"colab-df-convert\" onclick=\"convertToInteractive('df-3566450b-2ff2-4d71-841a-28b2180ac781')\"\n",
              "              title=\"Convert this dataframe to an interactive table.\"\n",
              "              style=\"display:none;\">\n",
              "        \n",
              "  <svg xmlns=\"http://www.w3.org/2000/svg\" height=\"24px\"viewBox=\"0 0 24 24\"\n",
              "       width=\"24px\">\n",
              "    <path d=\"M0 0h24v24H0V0z\" fill=\"none\"/>\n",
              "    <path d=\"M18.56 5.44l.94 2.06.94-2.06 2.06-.94-2.06-.94-.94-2.06-.94 2.06-2.06.94zm-11 1L8.5 8.5l.94-2.06 2.06-.94-2.06-.94L8.5 2.5l-.94 2.06-2.06.94zm10 10l.94 2.06.94-2.06 2.06-.94-2.06-.94-.94-2.06-.94 2.06-2.06.94z\"/><path d=\"M17.41 7.96l-1.37-1.37c-.4-.4-.92-.59-1.43-.59-.52 0-1.04.2-1.43.59L10.3 9.45l-7.72 7.72c-.78.78-.78 2.05 0 2.83L4 21.41c.39.39.9.59 1.41.59.51 0 1.02-.2 1.41-.59l7.78-7.78 2.81-2.81c.8-.78.8-2.07 0-2.86zM5.41 20L4 18.59l7.72-7.72 1.47 1.35L5.41 20z\"/>\n",
              "  </svg>\n",
              "      </button>\n",
              "      \n",
              "  <style>\n",
              "    .colab-df-container {\n",
              "      display:flex;\n",
              "      flex-wrap:wrap;\n",
              "      gap: 12px;\n",
              "    }\n",
              "\n",
              "    .colab-df-convert {\n",
              "      background-color: #E8F0FE;\n",
              "      border: none;\n",
              "      border-radius: 50%;\n",
              "      cursor: pointer;\n",
              "      display: none;\n",
              "      fill: #1967D2;\n",
              "      height: 32px;\n",
              "      padding: 0 0 0 0;\n",
              "      width: 32px;\n",
              "    }\n",
              "\n",
              "    .colab-df-convert:hover {\n",
              "      background-color: #E2EBFA;\n",
              "      box-shadow: 0px 1px 2px rgba(60, 64, 67, 0.3), 0px 1px 3px 1px rgba(60, 64, 67, 0.15);\n",
              "      fill: #174EA6;\n",
              "    }\n",
              "\n",
              "    [theme=dark] .colab-df-convert {\n",
              "      background-color: #3B4455;\n",
              "      fill: #D2E3FC;\n",
              "    }\n",
              "\n",
              "    [theme=dark] .colab-df-convert:hover {\n",
              "      background-color: #434B5C;\n",
              "      box-shadow: 0px 1px 3px 1px rgba(0, 0, 0, 0.15);\n",
              "      filter: drop-shadow(0px 1px 2px rgba(0, 0, 0, 0.3));\n",
              "      fill: #FFFFFF;\n",
              "    }\n",
              "  </style>\n",
              "\n",
              "      <script>\n",
              "        const buttonEl =\n",
              "          document.querySelector('#df-3566450b-2ff2-4d71-841a-28b2180ac781 button.colab-df-convert');\n",
              "        buttonEl.style.display =\n",
              "          google.colab.kernel.accessAllowed ? 'block' : 'none';\n",
              "\n",
              "        async function convertToInteractive(key) {\n",
              "          const element = document.querySelector('#df-3566450b-2ff2-4d71-841a-28b2180ac781');\n",
              "          const dataTable =\n",
              "            await google.colab.kernel.invokeFunction('convertToInteractive',\n",
              "                                                     [key], {});\n",
              "          if (!dataTable) return;\n",
              "\n",
              "          const docLinkHtml = 'Like what you see? Visit the ' +\n",
              "            '<a target=\"_blank\" href=https://colab.research.google.com/notebooks/data_table.ipynb>data table notebook</a>'\n",
              "            + ' to learn more about interactive tables.';\n",
              "          element.innerHTML = '';\n",
              "          dataTable['output_type'] = 'display_data';\n",
              "          await google.colab.output.renderOutput(dataTable, element);\n",
              "          const docLink = document.createElement('div');\n",
              "          docLink.innerHTML = docLinkHtml;\n",
              "          element.appendChild(docLink);\n",
              "        }\n",
              "      </script>\n",
              "    </div>\n",
              "  </div>\n",
              "  "
            ]
          },
          "metadata": {},
          "execution_count": 5
        }
      ]
    },
    {
      "cell_type": "markdown",
      "source": [
        "#2. Exploratory Data Analysis (EDA)"
      ],
      "metadata": {
        "id": "mqDoo0GAPxnM"
      }
    },
    {
      "cell_type": "markdown",
      "source": [
        "## 2.1. Target distribution"
      ],
      "metadata": {
        "id": "NSl9Zv0YPzS6"
      }
    },
    {
      "cell_type": "code",
      "source": [
        "\"\"\"\"\n",
        "plt.subplots:\n",
        "-Create a figure and a set of subplots.\n",
        "-This utility wrapper makes it convenient to create common layouts of subplots, \n",
        "including the enclosing figure object, in a single call.\n",
        "\"\"\"\n",
        "\n",
        "fig, ax = plt.subplots(figsize=(15, 5))  # figsize=(15, 5)   , size of the plot\n",
        "sns.set_style('darkgrid')                # set_style method , modifies the style of  the grid\n",
        "sns.countplot(data = df_train,           # data = df        , choose the dataframe\n",
        "              x ='label')                # x ='label'       , feature to be plotted on the x-axis\n",
        "plt.show()                               # show the plot"
      ],
      "metadata": {
        "colab": {
          "base_uri": "https://localhost:8080/",
          "height": 334
        },
        "id": "9bEp_TlqaAe_",
        "outputId": "cb703efa-3b0d-487e-8e6d-4c005ab0544f"
      },
      "execution_count": null,
      "outputs": [
        {
          "output_type": "display_data",
          "data": {
            "text/plain": [
              "<Figure size 1080x360 with 1 Axes>"
            ],
            "image/png": "[encoded data removed]"
          },
          "metadata": {
            "needs_background": "light"
          }
        }
      ]
    },
    {
      "cell_type": "markdown",
      "source": [
        "From the image above we can see that there are over 1100 images where the target variable is 'cup' or 'plate'. Both classes along with 'spoon' are the three largest classes, on the other hand 'glass','knife', and 'fork' have images lower than 900. Also, we notice that 'fork' class has about 600 images, this could generate problems to generalize this class later, but for the moment I'm not going to duplicate images from this class, instead of it I will use data augmentation."
      ],
      "metadata": {
        "id": "kE-yoeop65NJ"
      }
    },
    {
      "cell_type": "markdown",
      "source": [
        "# Extra-data"
      ],
      "metadata": {
        "id": "ZllaF9B_e11I"
      }
    },
    {
      "cell_type": "code",
      "source": [
        "# !kaggle datasets download -d agrigorev/kitchenware-extra-images\n",
        "# !mkdir extra-data\n",
        "# !unzip kitchenware-extra-images.zip -d extra-data > /dev/null\n",
        "# !rm kitchenware-extra-images.zip"
      ],
      "metadata": {
        "id": "vkNxNTO8DLLV"
      },
      "execution_count": null,
      "outputs": []
    },
    {
      "cell_type": "code",
      "source": [
        "# df_extra_train = pd.read_csv('extra-data/data.csv')\n",
        "# df_extra_train['filename'] = 'extra-data/data/' + df_extra_train['Id'] + '.jpg'\n",
        "# df_extra_train"
      ],
      "metadata": {
        "id": "BmFSJ4RVOU72"
      },
      "execution_count": null,
      "outputs": []
    },
    {
      "cell_type": "code",
      "source": [
        "# fig, ax = plt.subplots(figsize=(15, 5))  # figsize=(15, 5)  , size of the plot\n",
        "# sns.set_style('darkgrid')                # set_style method , modifies the style of  the grid\n",
        "# sns.countplot(data = df_extra_train,     # data = df        , choose the dataframe\n",
        "#               x ='label')                # x ='label'       , feature to be plotted on the x-axis\n",
        "# plt.show()                               # show the plot"
      ],
      "metadata": {
        "id": "tCqgpyu5VIlf"
      },
      "execution_count": null,
      "outputs": []
    },
    {
      "cell_type": "markdown",
      "source": [
        "# 3. Splitting Data: Full_Train, Test, Train, Val"
      ],
      "metadata": {
        "id": "baCT6GcNfACu"
      }
    },
    {
      "cell_type": "code",
      "source": [
        "def Making_Directory(ProjectDirectory,\n",
        "                     Directories,\n",
        "                     DataFrame,\n",
        "                     FullTrainSize,\n",
        "                     RandomState):    \n",
        "        \n",
        "    df_Full_Train, df_Test = train_test_split(DataFrame,\n",
        "                                              train_size = FullTrainSize,              \n",
        "                                              random_state = RandomState,\n",
        "                                              stratify = DataFrame['label']) \n",
        "    \n",
        "    df_Train, df_Val = train_test_split(df_Full_Train,\n",
        "                                        train_size = 0.75,\n",
        "                                        random_state = RandomState,            \n",
        "                                        stratify = df_Full_Train['label']) \n",
        "    \n",
        "    df_Tuple = (df_Full_Train, df_Test, df_Train, df_Val)\n",
        "\n",
        "    df_Dictionary = dict(zip(Directories, df_Tuple))\n",
        "\n",
        "    CategoryArray = np.unique(DataFrame['label']) \n",
        "\n",
        "    # Directory   \n",
        "    if not os.path.exists(ProjectDirectory):\n",
        "        os.mkdir(ProjectDirectory) \n",
        "\n",
        "    # SubDirectory\n",
        "    for k, v in df_Dictionary.items():\n",
        "\n",
        "      if not os.path.exists(f\"{ProjectDirectory}/{k}\"):\n",
        "        os.mkdir(f\"{ProjectDirectory}/{k}\")\n",
        "\n",
        "      #print(f\"Subdirectory: {k}\\tDimensions: {v.shape}\")\n",
        "\n",
        "      for j in CategoryArray:\n",
        "\n",
        "        if not os.path.exists(f\"{ProjectDirectory}/{k}/{j}\"):\n",
        "          os.mkdir(f\"{ProjectDirectory}/{k}/{j}\")\n",
        "\n",
        "        df_Category = v[v['label']==j]\n",
        "\n",
        "        for i in df_Category['filename'].to_list():\n",
        "          shutil.copy(i, f\"{ProjectDirectory}/{k}/{j}\")\n",
        "\n",
        "        #print(f\"\\tCategoryArray : {j}\\tDimensions : {df_Category.shape}\")\n",
        "\n",
        "    return df_Full_Train, df_Test, df_Train, df_Val"
      ],
      "metadata": {
        "id": "XoFmdYt6nJTf"
      },
      "execution_count": null,
      "outputs": []
    },
    {
      "cell_type": "code",
      "source": [
        "Dir_Data = \"Kitchenware_data\"\n",
        "\n",
        "Dir = (\"Full_Train\", \"Test\", \"Train\", \"Val\")\n",
        "\n",
        "Full_Train_Size = 0.8\n",
        "Random_State = 1\n",
        "\n",
        "df_Full_Train, df_Test, df_Train, df_Val = Making_Directory(ProjectDirectory= Dir_Data,\n",
        "                                                            Directories = Dir,\n",
        "                                                            DataFrame = df_train,\n",
        "                                                            FullTrainSize = Full_Train_Size,\n",
        "                                                            RandomState = Random_State)"
      ],
      "metadata": {
        "colab": {
          "base_uri": "https://localhost:8080/"
        },
        "id": "BLEbT-yJ9-6Y",
        "outputId": "0f7b7404-a05c-4ec7-9e95-ef43ff457026"
      },
      "execution_count": null,
      "outputs": [
        {
          "output_type": "stream",
          "name": "stdout",
          "text": [
            "Subdirectory: Full_Train\tDimensions: (4447, 3)\n",
            "\tCategoryArray : cup\tDimensions : (908, 3)\n",
            "\tCategoryArray : fork\tDimensions : (446, 3)\n",
            "\tCategoryArray : glass\tDimensions : (594, 3)\n",
            "\tCategoryArray : knife\tDimensions : (727, 3)\n",
            "\tCategoryArray : plate\tDimensions : (981, 3)\n",
            "\tCategoryArray : spoon\tDimensions : (791, 3)\n",
            "Subdirectory: Test\tDimensions: (1112, 3)\n",
            "\tCategoryArray : cup\tDimensions : (227, 3)\n",
            "\tCategoryArray : fork\tDimensions : (111, 3)\n",
            "\tCategoryArray : glass\tDimensions : (148, 3)\n",
            "\tCategoryArray : knife\tDimensions : (182, 3)\n",
            "\tCategoryArray : plate\tDimensions : (246, 3)\n",
            "\tCategoryArray : spoon\tDimensions : (198, 3)\n",
            "Subdirectory: Train\tDimensions: (3335, 3)\n",
            "\tCategoryArray : cup\tDimensions : (681, 3)\n",
            "\tCategoryArray : fork\tDimensions : (335, 3)\n",
            "\tCategoryArray : glass\tDimensions : (445, 3)\n",
            "\tCategoryArray : knife\tDimensions : (545, 3)\n",
            "\tCategoryArray : plate\tDimensions : (736, 3)\n",
            "\tCategoryArray : spoon\tDimensions : (593, 3)\n",
            "Subdirectory: Val\tDimensions: (1112, 3)\n",
            "\tCategoryArray : cup\tDimensions : (227, 3)\n",
            "\tCategoryArray : fork\tDimensions : (111, 3)\n",
            "\tCategoryArray : glass\tDimensions : (149, 3)\n",
            "\tCategoryArray : knife\tDimensions : (182, 3)\n",
            "\tCategoryArray : plate\tDimensions : (245, 3)\n",
            "\tCategoryArray : spoon\tDimensions : (198, 3)\n"
          ]
        }
      ]
    },
    {
      "cell_type": "markdown",
      "source": [
        "# 4. Image Data Generator and Image Augmentation"
      ],
      "metadata": {
        "id": "KB5bWmm9QU3S"
      }
    },
    {
      "cell_type": "code",
      "source": [
        "import tensorflow as tf\n",
        "from tensorflow import keras\n",
        "from keras.preprocessing.image import ImageDataGenerator"
      ],
      "metadata": {
        "id": "z4qkTFXXqJ1U"
      },
      "execution_count": null,
      "outputs": []
    },
    {
      "cell_type": "code",
      "source": [
        "TamImagen =  299\n",
        "batch_size = 32\n",
        "\n",
        "train_data_gen = ImageDataGenerator(zoom_range =   [0.80, 1.0],\n",
        "                                    brightness_range =[0.8,1.2],\n",
        "                                    vertical_flip = True,  \n",
        "                                    horizontal_flip = True, \n",
        "                                    #shear_range = 30,\n",
        "                                    #rotation_range = 90,                                \n",
        "                                    preprocessing_function=keras.applications.xception.preprocess_input)\n",
        "\n",
        "test_data_gen = ImageDataGenerator(preprocessing_function=keras.applications.xception.preprocess_input)\n",
        "\n",
        "train_generator = train_data_gen.flow_from_directory(\"./Kitchenware_data/Full_Train\", \n",
        "                                                     (TamImagen, TamImagen),\n",
        "                                                     batch_size = batch_size,\n",
        "                                                     class_mode = \"categorical\")\n",
        "\n",
        "valid_generator = test_data_gen.flow_from_directory(\"./Kitchenware_data/Test\", \n",
        "                                                     (TamImagen, TamImagen),\n",
        "                                                     batch_size = batch_size,\n",
        "                                                     class_mode = \"categorical\")"
      ],
      "metadata": {
        "colab": {
          "base_uri": "https://localhost:8080/"
        },
        "id": "5YOT0qJaqGz0",
        "outputId": "cab1f3c3-1b75-4b38-9b00-7bd5f8003974"
      },
      "execution_count": null,
      "outputs": [
        {
          "output_type": "stream",
          "name": "stdout",
          "text": [
            "Found 4447 images belonging to 6 classes.\n",
            "Found 1112 images belonging to 6 classes.\n"
          ]
        }
      ]
    },
    {
      "cell_type": "code",
      "source": [
        "import keras.applications\n",
        "\n",
        "from keras.preprocessing.image import ImageDataGenerator\n",
        "from keras.layers import Input,GlobalAveragePooling2D,Dense, Dropout\n",
        "from keras.models import Model\n",
        "from tensorflow.keras.optimizers import SGD"
      ],
      "metadata": {
        "id": "kEZCv8kK52GM"
      },
      "execution_count": null,
      "outputs": []
    },
    {
      "cell_type": "code",
      "source": [
        "!pip uninstall imgaug\n",
        "!pip install imgaug==0.2.6"
      ],
      "metadata": {
        "id": "Rdf3is8XrII7",
        "colab": {
          "base_uri": "https://localhost:8080/"
        },
        "outputId": "35d97eef-9e57-46fa-b626-6fb763f4ecac"
      },
      "execution_count": null,
      "outputs": [
        {
          "output_type": "stream",
          "name": "stdout",
          "text": [
            "Found existing installation: imgaug 0.2.9\n",
            "Uninstalling imgaug-0.2.9:\n",
            "  Would remove:\n",
            "    /usr/local/lib/python3.7/dist-packages/imgaug-0.2.9.dist-info/*\n",
            "    /usr/local/lib/python3.7/dist-packages/imgaug/*\n",
            "Proceed (y/n)? y\n",
            "  Successfully uninstalled imgaug-0.2.9\n",
            "Collecting imgaug==0.2.6\n",
            "  Downloading imgaug-0.2.6.tar.gz (631 kB)\n",
            "\u001b[K     |████████████████████████████████| 631 kB 6.4 MB/s \n",
            "\u001b[?25hRequirement already satisfied: scipy in /usr/local/lib/python3.7/dist-packages (from imgaug==0.2.6) (1.4.1)\n",
            "Requirement already satisfied: scikit-image>=0.11.0 in /usr/local/lib/python3.7/dist-packages (from imgaug==0.2.6) (0.18.3)\n",
            "Requirement already satisfied: numpy>=1.7.0 in /usr/local/lib/python3.7/dist-packages (from imgaug==0.2.6) (1.21.5)\n",
            "Requirement already satisfied: six in /usr/local/lib/python3.7/dist-packages (from imgaug==0.2.6) (1.15.0)\n",
            "Requirement already satisfied: PyWavelets>=1.1.1 in /usr/local/lib/python3.7/dist-packages (from scikit-image>=0.11.0->imgaug==0.2.6) (1.2.0)\n",
            "Requirement already satisfied: imageio>=2.3.0 in /usr/local/lib/python3.7/dist-packages (from scikit-image>=0.11.0->imgaug==0.2.6) (2.4.1)\n",
            "Requirement already satisfied: tifffile>=2019.7.26 in /usr/local/lib/python3.7/dist-packages (from scikit-image>=0.11.0->imgaug==0.2.6) (2021.11.2)\n",
            "Requirement already satisfied: pillow!=7.1.0,!=7.1.1,>=4.3.0 in /usr/local/lib/python3.7/dist-packages (from scikit-image>=0.11.0->imgaug==0.2.6) (7.1.2)\n",
            "Requirement already satisfied: networkx>=2.0 in /usr/local/lib/python3.7/dist-packages (from scikit-image>=0.11.0->imgaug==0.2.6) (2.6.3)\n",
            "Requirement already satisfied: matplotlib!=3.0.0,>=2.0.0 in /usr/local/lib/python3.7/dist-packages (from scikit-image>=0.11.0->imgaug==0.2.6) (3.2.2)\n",
            "Requirement already satisfied: python-dateutil>=2.1 in /usr/local/lib/python3.7/dist-packages (from matplotlib!=3.0.0,>=2.0.0->scikit-image>=0.11.0->imgaug==0.2.6) (2.8.2)\n",
            "Requirement already satisfied: cycler>=0.10 in /usr/local/lib/python3.7/dist-packages (from matplotlib!=3.0.0,>=2.0.0->scikit-image>=0.11.0->imgaug==0.2.6) (0.11.0)\n",
            "Requirement already satisfied: pyparsing!=2.0.4,!=2.1.2,!=2.1.6,>=2.0.1 in /usr/local/lib/python3.7/dist-packages (from matplotlib!=3.0.0,>=2.0.0->scikit-image>=0.11.0->imgaug==0.2.6) (3.0.7)\n",
            "Requirement already satisfied: kiwisolver>=1.0.1 in /usr/local/lib/python3.7/dist-packages (from matplotlib!=3.0.0,>=2.0.0->scikit-image>=0.11.0->imgaug==0.2.6) (1.3.2)\n",
            "Building wheels for collected packages: imgaug\n",
            "  Building wheel for imgaug (setup.py) ... \u001b[?25l\u001b[?25hdone\n",
            "  Created wheel for imgaug: filename=imgaug-0.2.6-py3-none-any.whl size=654017 sha256=2d7dd72dcd50e92eecec2e0b0baf313641cadee068e1960e1becec1871ac9ca1\n",
            "  Stored in directory: /root/.cache/pip/wheels/89/72/98/3ebfdba1069a9a8eaaa7ae7265cfd67d63ef0197aaee2e5f9c\n",
            "Successfully built imgaug\n",
            "Installing collected packages: imgaug\n",
            "Successfully installed imgaug-0.2.6\n"
          ]
        }
      ]
    },
    {
      "cell_type": "markdown",
      "source": [
        "# 5. Convolutional Neuronal Network (CNN)"
      ],
      "metadata": {
        "id": "cSUN8ZdNvn-J"
      }
    },
    {
      "cell_type": "markdown",
      "source": [
        "For the CNN model, we'll use optuna library to find the best parameters for this model, measure the accuracy as a measure of performance, and use Keras API to build a CNN model ."
      ],
      "metadata": {
        "id": "kcnwhW8GwX7g"
      }
    },
    {
      "cell_type": "markdown",
      "source": [
        "## 5.1. Hyperparameter Tuning-Optuna"
      ],
      "metadata": {
        "id": "BlsoTXJPwdYg"
      }
    },
    {
      "cell_type": "code",
      "source": [
        "!pip install --quiet optuna"
      ],
      "metadata": {
        "id": "XTKhkQuurMZS",
        "colab": {
          "base_uri": "https://localhost:8080/"
        },
        "outputId": "7126c419-b92f-42d6-ba9b-2c6beb524025"
      },
      "execution_count": null,
      "outputs": [
        {
          "output_type": "stream",
          "name": "stdout",
          "text": [
            "\u001b[K     |████████████████████████████████| 348 kB 32.8 MB/s \n",
            "\u001b[K     |████████████████████████████████| 81 kB 11.4 MB/s \n",
            "\u001b[K     |████████████████████████████████| 210 kB 53.2 MB/s \n",
            "\u001b[K     |████████████████████████████████| 78 kB 8.6 MB/s \n",
            "\u001b[K     |████████████████████████████████| 147 kB 79.1 MB/s \n",
            "\u001b[K     |████████████████████████████████| 50 kB 7.3 MB/s \n",
            "\u001b[K     |████████████████████████████████| 112 kB 69.4 MB/s \n",
            "\u001b[?25h  Building wheel for pyperclip (setup.py) ... \u001b[?25l\u001b[?25hdone\n"
          ]
        }
      ]
    },
    {
      "cell_type": "code",
      "source": [
        "#optuna library\n",
        "import optuna\n",
        "from optuna.integration import TFKerasPruningCallback\n",
        "from optuna.trial import TrialState"
      ],
      "metadata": {
        "id": "dELRTjP0rOwS"
      },
      "execution_count": null,
      "outputs": []
    },
    {
      "cell_type": "code",
      "source": [
        "\"\"\" Define objective function for the structure of the CNN \"\"\"\n",
        "\n",
        "def create_model(trial):\n",
        "\n",
        "    BaseModel = tf.keras.applications.Xception(weights = \"imagenet\",\n",
        "                                              input_shape=(299, 299, 3),\n",
        "                                              include_top = False)\n",
        "    BaseModel.trainable = False\n",
        "    inputs = Input(shape=(299, 299, 3))\n",
        "    x = BaseModel(inputs, training=False)\n",
        "    x = GlobalAveragePooling2D()(x)\n",
        "\n",
        "    n_layers = trial.suggest_int(\"n_layers\", 1, 6,step=1)                 # Number of hidden layers\n",
        "    # Number of neurons and activation function of each Hidden layer\n",
        "    for i in range(n_layers):\n",
        "        num_hidden = trial.suggest_int(f'n_units_L{i}',                   # Number of neurons for the ith hidden layer\n",
        "                                       32, 512, step = 32)      \n",
        "        # Activation function for the ith hidden layer\n",
        "        func_activation = trial.suggest_categorical( f'f_activation_L{i}',\n",
        "                                                    ['relu','sigmoid','tanh','selu','elu'])\n",
        "        x = Dense(units=num_hidden,\n",
        "                        activation=func_activation)(x)\n",
        "        # Dropout Layer\n",
        "        dropout = trial.suggest_categorical(f'dropout_L{i}',              \n",
        "                                            [0.0,0.2,0.4,0.6,0.8])\n",
        "        x = Dropout(rate=dropout)(x)\n",
        "\n",
        "    # Output layer (Number of dependent variables)\n",
        "    outputs = Dense(units=6, \n",
        "                    activation = \"softmax\")(x)                            # Activation function for the output layer\n",
        "\n",
        "    model = Model(inputs, outputs)\n",
        "\n",
        "    # Compile the model with a sampled learning rate.\n",
        "    learning_rate = trial.suggest_float(\"learning_rate\",                  # Range of learning rate values\n",
        "                                        1e-5, 1e-2,\n",
        "                                        log=True) \n",
        "    momentum = trial.suggest_float(\"momentum\",                                # \n",
        "                                    1e-2, 1e0, log=True)\n",
        "\n",
        "    model.compile(loss=\"categorical_crossentropy\",                             # Computes the cross-entropy loss between true labels and predicted labels\n",
        "                  optimizer=SGD(learning_rate = learning_rate,\n",
        "                                momentum=momentum),\n",
        "                  metrics=\"accuracy\")\n",
        "\n",
        "    return model\n",
        "\n",
        "\"\"\"  Define objective function for Optuna \"\"\"\n",
        "\n",
        "def objective(trial):\n",
        "    \n",
        "    # Generate our trial model\n",
        "    model = create_model(trial)\n",
        "\n",
        "    ####\n",
        "    if os.path.exists(\"Kitchenware_data\"):\n",
        "      shutil.rmtree('Kitchenware_data')\n",
        "\n",
        "    Dir_Data = \"Kitchenware_data\"\n",
        "    Dir = (\"Full_Train\", \"Test\", \"Train\", \"Val\")\n",
        "\n",
        "    Full_Train_Size = 0.8\n",
        "    Random_State = trial.suggest_int(\"random_state\", 1, 2000, step=1)             \n",
        "\n",
        "    df_Full_Train, df_Test, df_Train, df_Val = Making_Directory(ProjectDirectory= Dir_Data,\n",
        "                                                                Directories = Dir,\n",
        "                                                                DataFrame = df_train,\n",
        "                                                                FullTrainSize = Full_Train_Size,\n",
        "                                                                RandomState = Random_State)\n",
        "    ####\n",
        "    TamImagen =  299\n",
        "    batch_size = 32\n",
        "\n",
        "    train_data_gen = ImageDataGenerator(zoom_range =   [0.80, 1.0],\n",
        "                                        brightness_range =[0.8,1.2],\n",
        "                                        vertical_flip = True,  \n",
        "                                        horizontal_flip = True, \n",
        "                                        #shear_range = 30,\n",
        "                                        #rotation_range = 90,                                \n",
        "                                        preprocessing_function=keras.applications.xception.preprocess_input)\n",
        "\n",
        "    test_data_gen = ImageDataGenerator(preprocessing_function=keras.applications.xception.preprocess_input)\n",
        "\n",
        "    train_generator = train_data_gen.flow_from_directory(\"./Kitchenware_data/Full_Train\", \n",
        "                                                        (TamImagen, TamImagen),\n",
        "                                                        batch_size = batch_size,\n",
        "                                                        class_mode = \"categorical\")\n",
        "\n",
        "    valid_generator = test_data_gen.flow_from_directory(\"./Kitchenware_data/Test\", \n",
        "                                                        (TamImagen, TamImagen),\n",
        "                                                        batch_size = batch_size,\n",
        "                                                        class_mode = \"categorical\")\n",
        "\n",
        "    ####\n",
        "    model.fit(train_generator,\n",
        "              steps_per_epoch = train_generator.n//batch_size,\n",
        "              validation_data = valid_generator,\n",
        "              validation_steps = valid_generator.n//batch_size,\n",
        "              epochs= trial.suggest_categorical(\"epochs\", [20]), \n",
        "              callbacks=[TFKerasPruningCallback(trial, \"val_accuracy\")],\n",
        "              workers=8,\n",
        "              verbose = 1)\n",
        "\n",
        "    # Evaluate the model accuracy on the validation set in each trial\n",
        "    score = model.evaluate(valid_generator, verbose=0)\n",
        "    \n",
        "    return score[1]\n"
      ],
      "metadata": {
        "id": "g_oyOA1cj9fY"
      },
      "execution_count": null,
      "outputs": []
    },
    {
      "cell_type": "code",
      "source": [
        "def MakeTrial(study_name, n_trials=None,timeout=None):\n",
        "  \n",
        "  print(f\"\\nStarting Trial: {study_name}\\n\")\n",
        "\n",
        "  study = optuna.create_study(study_name=study_name,\n",
        "                              direction=\"maximize\",\n",
        "                              pruner=optuna.pruners.MedianPruner())\n",
        "  \n",
        "  # Set 'n_trials' and/or 'timeout' in seconds for optimization \n",
        "  study.optimize(objective, n_trials=n_trials, timeout=timeout)\n",
        "  pruned_trials = study.get_trials(deepcopy=False, states=[TrialState.PRUNED])\n",
        "  complete_trials = study.get_trials(deepcopy=False, states=[TrialState.COMPLETE])\n",
        "\n",
        "  print(f\"\\nTrial Completed: {study_name}\\n\")\n",
        "\n",
        "  return study, pruned_trials, complete_trials"
      ],
      "metadata": {
        "id": "Ev6xj5xDkDWm"
      },
      "execution_count": null,
      "outputs": []
    },
    {
      "cell_type": "code",
      "source": [
        "study_name = f\"Kitchenware_CNN\" \n",
        "# Set 'n_trials' and/or 'timeout' in seconds for optimization \n",
        "study, pruned_trials, complete_trials = MakeTrial(study_name, timeout=18000 ) # 5 hours 1:35-6:35"
      ],
      "metadata": {
        "colab": {
          "base_uri": "https://localhost:8080/"
        },
        "id": "atQL3l8gkVAv",
        "outputId": "ba42857d-a273-492f-8279-8f9cc6eba89a"
      },
      "execution_count": null,
      "outputs": [
        {
          "output_type": "stream",
          "name": "stderr",
          "text": [
            "\u001b[32m[I 2022-12-26 18:34:04,197]\u001b[0m A new study created in memory with name: Kitchenware_CNN\u001b[0m\n"
          ]
        },
        {
          "output_type": "stream",
          "name": "stdout",
          "text": [
            "\n",
            "Starting Trial: Kitchenware_CNN\n",
            "\n",
            "Found 4447 images belonging to 6 classes.\n",
            "Found 1112 images belonging to 6 classes.\n",
            "Epoch 1/20\n",
            "138/138 [==============================] - 43s 282ms/step - loss: 1.4024 - accuracy: 0.4580 - val_loss: 0.7124 - val_accuracy: 0.8759\n",
            "Epoch 2/20\n",
            "138/138 [==============================] - 40s 277ms/step - loss: 0.7585 - accuracy: 0.7592 - val_loss: 0.4111 - val_accuracy: 0.9393\n",
            "Epoch 3/20\n",
            "138/138 [==============================] - 41s 280ms/step - loss: 0.5538 - accuracy: 0.8267 - val_loss: 0.3034 - val_accuracy: 0.9430\n",
            "Epoch 4/20\n",
            "138/138 [==============================] - 41s 283ms/step - loss: 0.4465 - accuracy: 0.8609 - val_loss: 0.2496 - val_accuracy: 0.9485\n",
            "Epoch 5/20\n",
            "138/138 [==============================] - 42s 291ms/step - loss: 0.3815 - accuracy: 0.8802 - val_loss: 0.2196 - val_accuracy: 0.9522\n",
            "Epoch 6/20\n",
            "138/138 [==============================] - 41s 287ms/step - loss: 0.3447 - accuracy: 0.8938 - val_loss: 0.1921 - val_accuracy: 0.9559\n",
            "Epoch 7/20\n",
            "138/138 [==============================] - 41s 284ms/step - loss: 0.3256 - accuracy: 0.9003 - val_loss: 0.1829 - val_accuracy: 0.9559\n",
            "Epoch 8/20\n",
            "138/138 [==============================] - 41s 284ms/step - loss: 0.3083 - accuracy: 0.8938 - val_loss: 0.1680 - val_accuracy: 0.9596\n",
            "Epoch 9/20\n",
            "138/138 [==============================] - 41s 284ms/step - loss: 0.2942 - accuracy: 0.9074 - val_loss: 0.1636 - val_accuracy: 0.9614\n",
            "Epoch 10/20\n",
            "138/138 [==============================] - 41s 284ms/step - loss: 0.2794 - accuracy: 0.9051 - val_loss: 0.1566 - val_accuracy: 0.9623\n",
            "Epoch 11/20\n",
            "138/138 [==============================] - 42s 291ms/step - loss: 0.2715 - accuracy: 0.9137 - val_loss: 0.1485 - val_accuracy: 0.9642\n",
            "Epoch 12/20\n",
            "138/138 [==============================] - 42s 291ms/step - loss: 0.2600 - accuracy: 0.9162 - val_loss: 0.1464 - val_accuracy: 0.9642\n",
            "Epoch 13/20\n",
            "138/138 [==============================] - 42s 292ms/step - loss: 0.2524 - accuracy: 0.9196 - val_loss: 0.1420 - val_accuracy: 0.9651\n",
            "Epoch 14/20\n",
            "138/138 [==============================] - 42s 290ms/step - loss: 0.2461 - accuracy: 0.9169 - val_loss: 0.1380 - val_accuracy: 0.9632\n",
            "Epoch 15/20\n",
            "138/138 [==============================] - 42s 292ms/step - loss: 0.2397 - accuracy: 0.9187 - val_loss: 0.1355 - val_accuracy: 0.9632\n",
            "Epoch 16/20\n",
            "138/138 [==============================] - 42s 291ms/step - loss: 0.2336 - accuracy: 0.9223 - val_loss: 0.1326 - val_accuracy: 0.9632\n",
            "Epoch 17/20\n",
            "138/138 [==============================] - 42s 290ms/step - loss: 0.2292 - accuracy: 0.9248 - val_loss: 0.1308 - val_accuracy: 0.9614\n",
            "Epoch 18/20\n",
            "138/138 [==============================] - 42s 294ms/step - loss: 0.2222 - accuracy: 0.9266 - val_loss: 0.1279 - val_accuracy: 0.9632\n",
            "Epoch 19/20\n",
            "138/138 [==============================] - 42s 290ms/step - loss: 0.2094 - accuracy: 0.9318 - val_loss: 0.1273 - val_accuracy: 0.9632\n",
            "Epoch 20/20\n",
            "138/138 [==============================] - 42s 294ms/step - loss: 0.2138 - accuracy: 0.9300 - val_loss: 0.1213 - val_accuracy: 0.9669\n"
          ]
        },
        {
          "output_type": "stream",
          "name": "stderr",
          "text": [
            "\u001b[32m[I 2022-12-26 18:48:18,544]\u001b[0m Trial 0 finished with value: 0.9649280309677124 and parameters: {'n_layers': 2, 'n_units_L0': 320, 'f_activation_L0': 'tanh', 'dropout_L0': 0.4, 'n_units_L1': 352, 'f_activation_L1': 'selu', 'dropout_L1': 0.6, 'learning_rate': 0.002171300715197644, 'momentum': 0.042944069543036964, 'random_state': 702, 'epochs': 20}. Best is trial 0 with value: 0.9649280309677124.\u001b[0m\n"
          ]
        },
        {
          "output_type": "stream",
          "name": "stdout",
          "text": [
            "Found 4447 images belonging to 6 classes.\n",
            "Found 1112 images belonging to 6 classes.\n",
            "Epoch 1/20\n",
            "138/138 [==============================] - 46s 295ms/step - loss: 1.9781 - accuracy: 0.1465 - val_loss: 1.9704 - val_accuracy: 0.1305\n",
            "Epoch 2/20\n",
            "138/138 [==============================] - 42s 294ms/step - loss: 1.9591 - accuracy: 0.1413 - val_loss: 1.9392 - val_accuracy: 0.1296\n",
            "Epoch 3/20\n",
            "138/138 [==============================] - 41s 286ms/step - loss: 1.9418 - accuracy: 0.1488 - val_loss: 1.9128 - val_accuracy: 0.1314\n",
            "Epoch 4/20\n",
            "138/138 [==============================] - 42s 288ms/step - loss: 1.9109 - accuracy: 0.1531 - val_loss: 1.8903 - val_accuracy: 0.1296\n",
            "Epoch 5/20\n",
            "138/138 [==============================] - 42s 289ms/step - loss: 1.8934 - accuracy: 0.1606 - val_loss: 1.8696 - val_accuracy: 0.1342\n",
            "Epoch 6/20\n",
            "138/138 [==============================] - 42s 289ms/step - loss: 1.8762 - accuracy: 0.1719 - val_loss: 1.8515 - val_accuracy: 0.1388\n",
            "Epoch 7/20\n",
            "138/138 [==============================] - 41s 284ms/step - loss: 1.8636 - accuracy: 0.1728 - val_loss: 1.8345 - val_accuracy: 0.1507\n",
            "Epoch 8/20\n",
            "138/138 [==============================] - 41s 287ms/step - loss: 1.8562 - accuracy: 0.1823 - val_loss: 1.8219 - val_accuracy: 0.1618\n",
            "Epoch 9/20\n",
            "138/138 [==============================] - 42s 289ms/step - loss: 1.8450 - accuracy: 0.1848 - val_loss: 1.8104 - val_accuracy: 0.1811\n",
            "Epoch 10/20\n",
            "138/138 [==============================] - 42s 289ms/step - loss: 1.8339 - accuracy: 0.1907 - val_loss: 1.7988 - val_accuracy: 0.2169\n",
            "Epoch 11/20\n",
            "138/138 [==============================] - 42s 291ms/step - loss: 1.8285 - accuracy: 0.1785 - val_loss: 1.7892 - val_accuracy: 0.2316\n",
            "Epoch 12/20\n",
            "138/138 [==============================] - 42s 290ms/step - loss: 1.8278 - accuracy: 0.1896 - val_loss: 1.7809 - val_accuracy: 0.2417\n",
            "Epoch 13/20\n",
            "138/138 [==============================] - 41s 284ms/step - loss: 1.8135 - accuracy: 0.2020 - val_loss: 1.7724 - val_accuracy: 0.2472\n",
            "Epoch 14/20\n",
            "138/138 [==============================] - 41s 283ms/step - loss: 1.8046 - accuracy: 0.2007 - val_loss: 1.7643 - val_accuracy: 0.2454\n",
            "Epoch 15/20\n",
            "138/138 [==============================] - 42s 288ms/step - loss: 1.7983 - accuracy: 0.2039 - val_loss: 1.7586 - val_accuracy: 0.2472\n",
            "Epoch 16/20\n",
            "138/138 [==============================] - 41s 281ms/step - loss: 1.7988 - accuracy: 0.2066 - val_loss: 1.7545 - val_accuracy: 0.2472\n",
            "Epoch 17/20\n",
            "138/138 [==============================] - 40s 279ms/step - loss: 1.7963 - accuracy: 0.2093 - val_loss: 1.7470 - val_accuracy: 0.2463\n",
            "Epoch 18/20\n",
            "138/138 [==============================] - 40s 277ms/step - loss: 1.7957 - accuracy: 0.2040 - val_loss: 1.7424 - val_accuracy: 0.2472\n",
            "Epoch 19/20\n",
            "138/138 [==============================] - 40s 277ms/step - loss: 1.7861 - accuracy: 0.2208 - val_loss: 1.7365 - val_accuracy: 0.2463\n",
            "Epoch 20/20\n",
            "138/138 [==============================] - 41s 286ms/step - loss: 1.7848 - accuracy: 0.2154 - val_loss: 1.7335 - val_accuracy: 0.2371\n"
          ]
        },
        {
          "output_type": "stream",
          "name": "stderr",
          "text": [
            "\u001b[32m[I 2022-12-26 19:02:29,436]\u001b[0m Trial 1 finished with value: 0.2374100685119629 and parameters: {'n_layers': 5, 'n_units_L0': 224, 'f_activation_L0': 'selu', 'dropout_L0': 0.8, 'n_units_L1': 160, 'f_activation_L1': 'relu', 'dropout_L1': 0.0, 'n_units_L2': 384, 'f_activation_L2': 'tanh', 'dropout_L2': 0.8, 'n_units_L3': 224, 'f_activation_L3': 'selu', 'dropout_L3': 0.2, 'n_units_L4': 96, 'f_activation_L4': 'sigmoid', 'dropout_L4': 0.0, 'learning_rate': 1.021504766070343e-05, 'momentum': 0.9195430389840488, 'random_state': 403, 'epochs': 20}. Best is trial 0 with value: 0.9649280309677124.\u001b[0m\n"
          ]
        },
        {
          "output_type": "stream",
          "name": "stdout",
          "text": [
            "Found 4447 images belonging to 6 classes.\n",
            "Found 1112 images belonging to 6 classes.\n",
            "Epoch 1/20\n",
            "138/138 [==============================] - 45s 291ms/step - loss: 0.6924 - accuracy: 0.7565 - val_loss: 0.1644 - val_accuracy: 0.9494\n",
            "Epoch 2/20\n",
            "138/138 [==============================] - 41s 282ms/step - loss: 0.2657 - accuracy: 0.8999 - val_loss: 0.1562 - val_accuracy: 0.9485\n",
            "Epoch 3/20\n",
            "138/138 [==============================] - 41s 281ms/step - loss: 0.2218 - accuracy: 0.9219 - val_loss: 0.1519 - val_accuracy: 0.9485\n",
            "Epoch 4/20\n",
            "138/138 [==============================] - 40s 279ms/step - loss: 0.2170 - accuracy: 0.9234 - val_loss: 0.1611 - val_accuracy: 0.9476\n",
            "Epoch 5/20\n",
            "138/138 [==============================] - 42s 290ms/step - loss: 0.1834 - accuracy: 0.9350 - val_loss: 0.1443 - val_accuracy: 0.9550\n",
            "Epoch 6/20\n",
            "138/138 [==============================] - 42s 288ms/step - loss: 0.1886 - accuracy: 0.9307 - val_loss: 0.1405 - val_accuracy: 0.9559\n",
            "Epoch 7/20\n",
            "138/138 [==============================] - 41s 286ms/step - loss: 0.1710 - accuracy: 0.9434 - val_loss: 0.1403 - val_accuracy: 0.9577\n",
            "Epoch 8/20\n",
            "138/138 [==============================] - 41s 285ms/step - loss: 0.1673 - accuracy: 0.9425 - val_loss: 0.1326 - val_accuracy: 0.9540\n",
            "Epoch 9/20\n",
            "138/138 [==============================] - 41s 282ms/step - loss: 0.1600 - accuracy: 0.9413 - val_loss: 0.1364 - val_accuracy: 0.9559\n",
            "Epoch 10/20\n",
            "138/138 [==============================] - 41s 285ms/step - loss: 0.1470 - accuracy: 0.9488 - val_loss: 0.1557 - val_accuracy: 0.9522\n",
            "Epoch 11/20\n",
            "138/138 [==============================] - 42s 288ms/step - loss: 0.1413 - accuracy: 0.9518 - val_loss: 0.1388 - val_accuracy: 0.9559\n",
            "Epoch 12/20\n",
            "138/138 [==============================] - 41s 282ms/step - loss: 0.1465 - accuracy: 0.9520 - val_loss: 0.1428 - val_accuracy: 0.9540\n",
            "Epoch 13/20\n",
            "138/138 [==============================] - 41s 284ms/step - loss: 0.1346 - accuracy: 0.9524 - val_loss: 0.1367 - val_accuracy: 0.9559\n",
            "Epoch 14/20\n",
            "138/138 [==============================] - 40s 276ms/step - loss: 0.1351 - accuracy: 0.9531 - val_loss: 0.1533 - val_accuracy: 0.9550\n",
            "Epoch 15/20\n",
            "138/138 [==============================] - 40s 276ms/step - loss: 0.1348 - accuracy: 0.9511 - val_loss: 0.1444 - val_accuracy: 0.9550\n",
            "Epoch 16/20\n",
            "138/138 [==============================] - 39s 273ms/step - loss: 0.1399 - accuracy: 0.9520 - val_loss: 0.1425 - val_accuracy: 0.9568\n",
            "Epoch 17/20\n",
            "138/138 [==============================] - 41s 285ms/step - loss: 0.1226 - accuracy: 0.9540 - val_loss: 0.1471 - val_accuracy: 0.9540\n",
            "Epoch 18/20\n",
            "138/138 [==============================] - 40s 276ms/step - loss: 0.1218 - accuracy: 0.9567 - val_loss: 0.1404 - val_accuracy: 0.9559\n",
            "Epoch 19/20\n",
            "138/138 [==============================] - 40s 275ms/step - loss: 0.1247 - accuracy: 0.9563 - val_loss: 0.1413 - val_accuracy: 0.9540\n",
            "Epoch 20/20\n",
            "138/138 [==============================] - 39s 273ms/step - loss: 0.1156 - accuracy: 0.9608 - val_loss: 0.1438 - val_accuracy: 0.9586\n"
          ]
        },
        {
          "output_type": "stream",
          "name": "stderr",
          "text": [
            "\u001b[32m[I 2022-12-26 19:16:27,400]\u001b[0m Trial 2 finished with value: 0.9586330652236938 and parameters: {'n_layers': 3, 'n_units_L0': 416, 'f_activation_L0': 'selu', 'dropout_L0': 0.6, 'n_units_L1': 480, 'f_activation_L1': 'elu', 'dropout_L1': 0.6, 'n_units_L2': 192, 'f_activation_L2': 'relu', 'dropout_L2': 0.0, 'learning_rate': 0.001956384185615305, 'momentum': 0.9514287270303394, 'random_state': 1223, 'epochs': 20}. Best is trial 0 with value: 0.9649280309677124.\u001b[0m\n"
          ]
        },
        {
          "output_type": "stream",
          "name": "stdout",
          "text": [
            "Found 4447 images belonging to 6 classes.\n",
            "Found 1112 images belonging to 6 classes.\n",
            "Epoch 1/20\n",
            "138/138 [==============================] - 43s 283ms/step - loss: 1.1818 - accuracy: 0.5860 - val_loss: 0.4652 - val_accuracy: 0.9053\n",
            "Epoch 2/20\n",
            "138/138 [==============================] - 40s 277ms/step - loss: 0.6055 - accuracy: 0.8082 - val_loss: 0.2485 - val_accuracy: 0.9393\n",
            "Epoch 3/20\n",
            "138/138 [==============================] - 40s 279ms/step - loss: 0.4385 - accuracy: 0.8609 - val_loss: 0.1862 - val_accuracy: 0.9439\n",
            "Epoch 4/20\n",
            "138/138 [==============================] - 40s 280ms/step - loss: 0.3814 - accuracy: 0.8757 - val_loss: 0.1647 - val_accuracy: 0.9458\n",
            "Epoch 5/20\n",
            "138/138 [==============================] - 41s 281ms/step - loss: 0.3336 - accuracy: 0.8870 - val_loss: 0.1525 - val_accuracy: 0.9476\n",
            "Epoch 6/20\n",
            "138/138 [==============================] - 41s 285ms/step - loss: 0.2912 - accuracy: 0.9012 - val_loss: 0.1452 - val_accuracy: 0.9504\n",
            "Epoch 7/20\n",
            "138/138 [==============================] - 42s 288ms/step - loss: 0.2785 - accuracy: 0.9035 - val_loss: 0.1347 - val_accuracy: 0.9568\n",
            "Epoch 8/20\n",
            "138/138 [==============================] - 41s 285ms/step - loss: 0.2639 - accuracy: 0.9126 - val_loss: 0.1344 - val_accuracy: 0.9559\n",
            "Epoch 9/20\n",
            "138/138 [==============================] - 41s 284ms/step - loss: 0.2458 - accuracy: 0.9200 - val_loss: 0.1272 - val_accuracy: 0.9531\n",
            "Epoch 10/20\n",
            "138/138 [==============================] - 41s 284ms/step - loss: 0.2500 - accuracy: 0.9146 - val_loss: 0.1243 - val_accuracy: 0.9550\n",
            "Epoch 11/20\n",
            "138/138 [==============================] - 41s 285ms/step - loss: 0.2504 - accuracy: 0.9139 - val_loss: 0.1273 - val_accuracy: 0.9586\n",
            "Epoch 12/20\n",
            "138/138 [==============================] - 41s 281ms/step - loss: 0.2298 - accuracy: 0.9191 - val_loss: 0.1203 - val_accuracy: 0.9605\n",
            "Epoch 13/20\n",
            "138/138 [==============================] - 41s 285ms/step - loss: 0.2219 - accuracy: 0.9219 - val_loss: 0.1187 - val_accuracy: 0.9596\n",
            "Epoch 14/20\n",
            "138/138 [==============================] - 41s 283ms/step - loss: 0.2133 - accuracy: 0.9284 - val_loss: 0.1162 - val_accuracy: 0.9605\n",
            "Epoch 15/20\n",
            "138/138 [==============================] - 41s 286ms/step - loss: 0.2058 - accuracy: 0.9307 - val_loss: 0.1176 - val_accuracy: 0.9596\n",
            "Epoch 16/20\n",
            "138/138 [==============================] - 41s 287ms/step - loss: 0.2065 - accuracy: 0.9307 - val_loss: 0.1185 - val_accuracy: 0.9586\n",
            "Epoch 17/20\n",
            "138/138 [==============================] - 40s 280ms/step - loss: 0.1947 - accuracy: 0.9361 - val_loss: 0.1046 - val_accuracy: 0.9632\n",
            "Epoch 18/20\n",
            "138/138 [==============================] - 41s 281ms/step - loss: 0.1962 - accuracy: 0.9352 - val_loss: 0.1129 - val_accuracy: 0.9614\n",
            "Epoch 19/20\n",
            "138/138 [==============================] - 42s 291ms/step - loss: 0.1945 - accuracy: 0.9377 - val_loss: 0.1136 - val_accuracy: 0.9605\n",
            "Epoch 20/20\n",
            "138/138 [==============================] - 42s 290ms/step - loss: 0.1869 - accuracy: 0.9395 - val_loss: 0.1131 - val_accuracy: 0.9614\n"
          ]
        },
        {
          "output_type": "stream",
          "name": "stderr",
          "text": [
            "\u001b[32m[I 2022-12-26 19:30:30,197]\u001b[0m Trial 3 finished with value: 0.9613309502601624 and parameters: {'n_layers': 3, 'n_units_L0': 416, 'f_activation_L0': 'relu', 'dropout_L0': 0.8, 'n_units_L1': 256, 'f_activation_L1': 'tanh', 'dropout_L1': 0.0, 'n_units_L2': 448, 'f_activation_L2': 'selu', 'dropout_L2': 0.0, 'learning_rate': 0.002369468770943314, 'momentum': 0.7068504824604666, 'random_state': 1308, 'epochs': 20}. Best is trial 0 with value: 0.9649280309677124.\u001b[0m\n"
          ]
        },
        {
          "output_type": "stream",
          "name": "stdout",
          "text": [
            "Found 4447 images belonging to 6 classes.\n",
            "Found 1112 images belonging to 6 classes.\n",
            "Epoch 1/20\n",
            "138/138 [==============================] - 44s 284ms/step - loss: 1.8333 - accuracy: 0.1287 - val_loss: 1.7988 - val_accuracy: 0.1314\n",
            "Epoch 2/20\n",
            "138/138 [==============================] - 40s 279ms/step - loss: 1.8057 - accuracy: 0.1724 - val_loss: 1.7775 - val_accuracy: 0.3125\n",
            "Epoch 3/20\n",
            "138/138 [==============================] - 41s 280ms/step - loss: 1.7817 - accuracy: 0.2079 - val_loss: 1.7630 - val_accuracy: 0.2730\n",
            "Epoch 4/20\n",
            "138/138 [==============================] - 40s 279ms/step - loss: 1.7692 - accuracy: 0.2206 - val_loss: 1.7547 - val_accuracy: 0.2886\n",
            "Epoch 5/20\n",
            "138/138 [==============================] - 42s 289ms/step - loss: 1.7632 - accuracy: 0.2204 - val_loss: 1.7468 - val_accuracy: 0.3116\n",
            "Epoch 6/20\n",
            "138/138 [==============================] - 41s 281ms/step - loss: 1.7546 - accuracy: 0.2383 - val_loss: 1.7412 - val_accuracy: 0.3097\n",
            "Epoch 7/20\n",
            "138/138 [==============================] - 40s 277ms/step - loss: 1.7509 - accuracy: 0.2399 - val_loss: 1.7356 - val_accuracy: 0.3143\n",
            "Epoch 8/20\n",
            "138/138 [==============================] - 40s 279ms/step - loss: 1.7446 - accuracy: 0.2439 - val_loss: 1.7330 - val_accuracy: 0.3226\n",
            "Epoch 9/20\n",
            "138/138 [==============================] - 42s 290ms/step - loss: 1.7417 - accuracy: 0.2485 - val_loss: 1.7273 - val_accuracy: 0.3336\n",
            "Epoch 10/20\n",
            "138/138 [==============================] - 41s 286ms/step - loss: 1.7427 - accuracy: 0.2482 - val_loss: 1.7225 - val_accuracy: 0.3438\n",
            "Epoch 11/20\n",
            "138/138 [==============================] - 42s 290ms/step - loss: 1.7368 - accuracy: 0.2557 - val_loss: 1.7183 - val_accuracy: 0.3529\n",
            "Epoch 12/20\n",
            "138/138 [==============================] - 41s 282ms/step - loss: 1.7319 - accuracy: 0.2596 - val_loss: 1.7139 - val_accuracy: 0.3585\n",
            "Epoch 13/20\n",
            "138/138 [==============================] - 41s 284ms/step - loss: 1.7268 - accuracy: 0.2618 - val_loss: 1.7094 - val_accuracy: 0.3649\n",
            "Epoch 14/20\n",
            "138/138 [==============================] - 42s 290ms/step - loss: 1.7223 - accuracy: 0.2745 - val_loss: 1.7048 - val_accuracy: 0.3686\n",
            "Epoch 15/20\n",
            "138/138 [==============================] - 42s 289ms/step - loss: 1.7157 - accuracy: 0.2895 - val_loss: 1.7002 - val_accuracy: 0.3640\n",
            "Epoch 16/20\n",
            "138/138 [==============================] - 41s 281ms/step - loss: 1.7142 - accuracy: 0.2899 - val_loss: 1.6921 - val_accuracy: 0.3741\n",
            "Epoch 17/20\n",
            "138/138 [==============================] - 42s 288ms/step - loss: 1.7085 - accuracy: 0.2879 - val_loss: 1.6884 - val_accuracy: 0.3796\n",
            "Epoch 18/20\n",
            "138/138 [==============================] - 41s 282ms/step - loss: 1.7022 - accuracy: 0.3189 - val_loss: 1.6815 - val_accuracy: 0.3897\n",
            "Epoch 19/20\n",
            "138/138 [==============================] - 42s 288ms/step - loss: 1.6921 - accuracy: 0.3248 - val_loss: 1.6740 - val_accuracy: 0.3961\n",
            "Epoch 20/20\n",
            "138/138 [==============================] - 41s 283ms/step - loss: 1.6874 - accuracy: 0.3271 - val_loss: 1.6687 - val_accuracy: 0.3989\n"
          ]
        },
        {
          "output_type": "stream",
          "name": "stderr",
          "text": [
            "\u001b[32m[I 2022-12-26 19:44:34,343]\u001b[0m Trial 4 finished with value: 0.3992805778980255 and parameters: {'n_layers': 4, 'n_units_L0': 128, 'f_activation_L0': 'selu', 'dropout_L0': 0.2, 'n_units_L1': 32, 'f_activation_L1': 'sigmoid', 'dropout_L1': 0.0, 'n_units_L2': 352, 'f_activation_L2': 'relu', 'dropout_L2': 0.0, 'n_units_L3': 160, 'f_activation_L3': 'elu', 'dropout_L3': 0.4, 'learning_rate': 0.0004079429033805302, 'momentum': 0.029547089189880922, 'random_state': 1564, 'epochs': 20}. Best is trial 0 with value: 0.9649280309677124.\u001b[0m\n"
          ]
        },
        {
          "output_type": "stream",
          "name": "stdout",
          "text": [
            "Found 4447 images belonging to 6 classes.\n",
            "Found 1112 images belonging to 6 classes.\n",
            "Epoch 1/20\n",
            "138/138 [==============================] - ETA: 0s - loss: 2.4302 - accuracy: 0.1792"
          ]
        },
        {
          "output_type": "stream",
          "name": "stderr",
          "text": [
            "\u001b[32m[I 2022-12-26 19:45:24,410]\u001b[0m Trial 5 pruned. Trial was pruned at epoch 0.\u001b[0m\n"
          ]
        },
        {
          "output_type": "stream",
          "name": "stdout",
          "text": [
            "Found 4447 images belonging to 6 classes.\n",
            "Found 1112 images belonging to 6 classes.\n",
            "Epoch 1/20\n",
            "138/138 [==============================] - ETA: 0s - loss: 1.8634 - accuracy: 0.1973"
          ]
        },
        {
          "output_type": "stream",
          "name": "stderr",
          "text": [
            "\u001b[32m[I 2022-12-26 19:46:14,849]\u001b[0m Trial 6 pruned. Trial was pruned at epoch 0.\u001b[0m\n"
          ]
        },
        {
          "output_type": "stream",
          "name": "stdout",
          "text": [
            "Found 4447 images belonging to 6 classes.\n",
            "Found 1112 images belonging to 6 classes.\n",
            "Epoch 1/20\n",
            "138/138 [==============================] - ETA: 0s - loss: 3.2659 - accuracy: 0.1683"
          ]
        },
        {
          "output_type": "stream",
          "name": "stderr",
          "text": [
            "\u001b[32m[I 2022-12-26 19:47:06,423]\u001b[0m Trial 7 pruned. Trial was pruned at epoch 0.\u001b[0m\n"
          ]
        },
        {
          "output_type": "stream",
          "name": "stdout",
          "text": [
            "Found 4447 images belonging to 6 classes.\n",
            "Found 1112 images belonging to 6 classes.\n",
            "Epoch 1/20\n",
            "138/138 [==============================] - ETA: 0s - loss: 2.1168 - accuracy: 0.1570"
          ]
        },
        {
          "output_type": "stream",
          "name": "stderr",
          "text": [
            "\u001b[32m[I 2022-12-26 19:47:56,718]\u001b[0m Trial 8 pruned. Trial was pruned at epoch 0.\u001b[0m\n"
          ]
        },
        {
          "output_type": "stream",
          "name": "stdout",
          "text": [
            "Found 4447 images belonging to 6 classes.\n",
            "Found 1112 images belonging to 6 classes.\n",
            "Epoch 1/20\n",
            "138/138 [==============================] - ETA: 0s - loss: 1.8610 - accuracy: 0.1778"
          ]
        },
        {
          "output_type": "stream",
          "name": "stderr",
          "text": [
            "\u001b[32m[I 2022-12-26 19:48:47,771]\u001b[0m Trial 9 pruned. Trial was pruned at epoch 0.\u001b[0m\n"
          ]
        },
        {
          "output_type": "stream",
          "name": "stdout",
          "text": [
            "Found 4447 images belonging to 6 classes.\n",
            "Found 1112 images belonging to 6 classes.\n",
            "Epoch 1/20\n",
            "138/138 [==============================] - 45s 293ms/step - loss: 1.0416 - accuracy: 0.7105 - val_loss: 0.5611 - val_accuracy: 0.9301\n",
            "Epoch 2/20\n",
            "138/138 [==============================] - 41s 281ms/step - loss: 0.5471 - accuracy: 0.8804 - val_loss: 0.3585 - val_accuracy: 0.9421\n",
            "Epoch 3/20\n",
            "138/138 [==============================] - 41s 281ms/step - loss: 0.4165 - accuracy: 0.9035 - val_loss: 0.2788 - val_accuracy: 0.9476\n",
            "Epoch 4/20\n",
            "138/138 [==============================] - 41s 284ms/step - loss: 0.3458 - accuracy: 0.9187 - val_loss: 0.2353 - val_accuracy: 0.9494\n",
            "Epoch 5/20\n",
            "138/138 [==============================] - 41s 283ms/step - loss: 0.3126 - accuracy: 0.9216 - val_loss: 0.2134 - val_accuracy: 0.9494\n",
            "Epoch 6/20\n",
            "138/138 [==============================] - 41s 285ms/step - loss: 0.2758 - accuracy: 0.9298 - val_loss: 0.1932 - val_accuracy: 0.9559\n",
            "Epoch 7/20\n",
            "138/138 [==============================] - 41s 283ms/step - loss: 0.2645 - accuracy: 0.9289 - val_loss: 0.1806 - val_accuracy: 0.9540\n",
            "Epoch 8/20\n",
            "138/138 [==============================] - 40s 279ms/step - loss: 0.2451 - accuracy: 0.9302 - val_loss: 0.1723 - val_accuracy: 0.9550\n",
            "Epoch 9/20\n",
            "138/138 [==============================] - 41s 283ms/step - loss: 0.2319 - accuracy: 0.9400 - val_loss: 0.1663 - val_accuracy: 0.9559\n",
            "Epoch 10/20\n",
            "138/138 [==============================] - 41s 286ms/step - loss: 0.2269 - accuracy: 0.9368 - val_loss: 0.1600 - val_accuracy: 0.9586\n",
            "Epoch 11/20\n",
            "138/138 [==============================] - 41s 282ms/step - loss: 0.2135 - accuracy: 0.9350 - val_loss: 0.1499 - val_accuracy: 0.9559\n",
            "Epoch 12/20\n",
            "138/138 [==============================] - 41s 283ms/step - loss: 0.2086 - accuracy: 0.9407 - val_loss: 0.1549 - val_accuracy: 0.9559\n",
            "Epoch 13/20\n",
            "138/138 [==============================] - 42s 287ms/step - loss: 0.2046 - accuracy: 0.9436 - val_loss: 0.1465 - val_accuracy: 0.9586\n",
            "Epoch 14/20\n",
            "138/138 [==============================] - 41s 282ms/step - loss: 0.2033 - accuracy: 0.9398 - val_loss: 0.1430 - val_accuracy: 0.9577\n",
            "Epoch 15/20\n",
            "138/138 [==============================] - 41s 283ms/step - loss: 0.1991 - accuracy: 0.9404 - val_loss: 0.1402 - val_accuracy: 0.9596\n",
            "Epoch 16/20\n",
            "138/138 [==============================] - 41s 286ms/step - loss: 0.1882 - accuracy: 0.9416 - val_loss: 0.1403 - val_accuracy: 0.9586\n",
            "Epoch 17/20\n",
            "138/138 [==============================] - 41s 284ms/step - loss: 0.1880 - accuracy: 0.9393 - val_loss: 0.1384 - val_accuracy: 0.9568\n",
            "Epoch 18/20\n",
            "138/138 [==============================] - 41s 287ms/step - loss: 0.1799 - accuracy: 0.9463 - val_loss: 0.1393 - val_accuracy: 0.9586\n",
            "Epoch 19/20\n",
            "138/138 [==============================] - 41s 284ms/step - loss: 0.1747 - accuracy: 0.9499 - val_loss: 0.1368 - val_accuracy: 0.9586\n",
            "Epoch 20/20\n",
            "138/138 [==============================] - 41s 287ms/step - loss: 0.1698 - accuracy: 0.9493 - val_loss: 0.1384 - val_accuracy: 0.9586\n"
          ]
        },
        {
          "output_type": "stream",
          "name": "stderr",
          "text": [
            "\u001b[32m[I 2022-12-26 20:02:53,237]\u001b[0m Trial 10 finished with value: 0.9595323801040649 and parameters: {'n_layers': 1, 'n_units_L0': 32, 'f_activation_L0': 'tanh', 'dropout_L0': 0.4, 'learning_rate': 0.009332046876563896, 'momentum': 0.010053041538086867, 'random_state': 834, 'epochs': 20}. Best is trial 0 with value: 0.9649280309677124.\u001b[0m\n"
          ]
        },
        {
          "output_type": "stream",
          "name": "stdout",
          "text": [
            "Found 4447 images belonging to 6 classes.\n",
            "Found 1112 images belonging to 6 classes.\n",
            "Epoch 1/20\n",
            "138/138 [==============================] - ETA: 0s - loss: 1.5223 - accuracy: 0.4057"
          ]
        },
        {
          "output_type": "stream",
          "name": "stderr",
          "text": [
            "\u001b[32m[I 2022-12-26 20:03:45,183]\u001b[0m Trial 11 pruned. Trial was pruned at epoch 0.\u001b[0m\n"
          ]
        },
        {
          "output_type": "stream",
          "name": "stdout",
          "text": [
            "Found 4447 images belonging to 6 classes.\n",
            "Found 1112 images belonging to 6 classes.\n",
            "Epoch 1/20\n",
            "138/138 [==============================] - ETA: 0s - loss: 1.5744 - accuracy: 0.4193"
          ]
        },
        {
          "output_type": "stream",
          "name": "stderr",
          "text": [
            "\u001b[32m[I 2022-12-26 20:04:37,253]\u001b[0m Trial 12 pruned. Trial was pruned at epoch 0.\u001b[0m\n"
          ]
        },
        {
          "output_type": "stream",
          "name": "stdout",
          "text": [
            "Found 4447 images belonging to 6 classes.\n",
            "Found 1112 images belonging to 6 classes.\n",
            "Epoch 1/20\n",
            "138/138 [==============================] - ETA: 0s - loss: 1.6235 - accuracy: 0.3508"
          ]
        },
        {
          "output_type": "stream",
          "name": "stderr",
          "text": [
            "\u001b[32m[I 2022-12-26 20:05:28,970]\u001b[0m Trial 13 pruned. Trial was pruned at epoch 0.\u001b[0m\n"
          ]
        },
        {
          "output_type": "stream",
          "name": "stdout",
          "text": [
            "Found 4447 images belonging to 6 classes.\n",
            "Found 1112 images belonging to 6 classes.\n",
            "Epoch 1/20\n",
            "138/138 [==============================] - ETA: 0s - loss: 1.9554 - accuracy: 0.2159"
          ]
        },
        {
          "output_type": "stream",
          "name": "stderr",
          "text": [
            "\u001b[32m[I 2022-12-26 20:06:20,696]\u001b[0m Trial 14 pruned. Trial was pruned at epoch 0.\u001b[0m\n"
          ]
        },
        {
          "output_type": "stream",
          "name": "stdout",
          "text": [
            "Found 4447 images belonging to 6 classes.\n",
            "Found 1112 images belonging to 6 classes.\n",
            "Epoch 1/20\n",
            "138/138 [==============================] - ETA: 0s - loss: 2.3051 - accuracy: 0.1794"
          ]
        },
        {
          "output_type": "stream",
          "name": "stderr",
          "text": [
            "\u001b[32m[I 2022-12-26 20:07:12,976]\u001b[0m Trial 15 pruned. Trial was pruned at epoch 0.\u001b[0m\n"
          ]
        },
        {
          "output_type": "stream",
          "name": "stdout",
          "text": [
            "Found 4447 images belonging to 6 classes.\n",
            "Found 1112 images belonging to 6 classes.\n",
            "Epoch 1/20\n",
            "138/138 [==============================] - ETA: 0s - loss: 1.7841 - accuracy: 0.2403"
          ]
        },
        {
          "output_type": "stream",
          "name": "stderr",
          "text": [
            "\u001b[32m[I 2022-12-26 20:08:04,739]\u001b[0m Trial 16 pruned. Trial was pruned at epoch 0.\u001b[0m\n"
          ]
        },
        {
          "output_type": "stream",
          "name": "stdout",
          "text": [
            "Found 4447 images belonging to 6 classes.\n",
            "Found 1112 images belonging to 6 classes.\n",
            "Epoch 1/20\n",
            "138/138 [==============================] - ETA: 0s - loss: 1.8043 - accuracy: 0.2202"
          ]
        },
        {
          "output_type": "stream",
          "name": "stderr",
          "text": [
            "\u001b[32m[I 2022-12-26 20:08:56,680]\u001b[0m Trial 17 pruned. Trial was pruned at epoch 0.\u001b[0m\n"
          ]
        },
        {
          "output_type": "stream",
          "name": "stdout",
          "text": [
            "Found 4447 images belonging to 6 classes.\n",
            "Found 1112 images belonging to 6 classes.\n",
            "Epoch 1/20\n",
            "138/138 [==============================] - ETA: 0s - loss: 1.9141 - accuracy: 0.2147"
          ]
        },
        {
          "output_type": "stream",
          "name": "stderr",
          "text": [
            "\u001b[32m[I 2022-12-26 20:09:47,490]\u001b[0m Trial 18 pruned. Trial was pruned at epoch 0.\u001b[0m\n"
          ]
        },
        {
          "output_type": "stream",
          "name": "stdout",
          "text": [
            "Found 4447 images belonging to 6 classes.\n",
            "Found 1112 images belonging to 6 classes.\n",
            "Epoch 1/20\n",
            "138/138 [==============================] - ETA: 0s - loss: 1.6007 - accuracy: 0.3581"
          ]
        },
        {
          "output_type": "stream",
          "name": "stderr",
          "text": [
            "\u001b[32m[I 2022-12-26 20:10:40,603]\u001b[0m Trial 19 pruned. Trial was pruned at epoch 0.\u001b[0m\n"
          ]
        },
        {
          "output_type": "stream",
          "name": "stdout",
          "text": [
            "Found 4447 images belonging to 6 classes.\n",
            "Found 1112 images belonging to 6 classes.\n",
            "Epoch 1/20\n",
            "138/138 [==============================] - ETA: 0s - loss: 2.2126 - accuracy: 0.1760"
          ]
        },
        {
          "output_type": "stream",
          "name": "stderr",
          "text": [
            "\u001b[32m[I 2022-12-26 20:11:32,553]\u001b[0m Trial 20 pruned. Trial was pruned at epoch 0.\u001b[0m\n"
          ]
        },
        {
          "output_type": "stream",
          "name": "stdout",
          "text": [
            "Found 4447 images belonging to 6 classes.\n",
            "Found 1112 images belonging to 6 classes.\n",
            "Epoch 1/20\n",
            "138/138 [==============================] - 46s 299ms/step - loss: 0.8961 - accuracy: 0.7649 - val_loss: 0.4726 - val_accuracy: 0.9182\n",
            "Epoch 2/20\n",
            "138/138 [==============================] - ETA: 0s - loss: 0.4349 - accuracy: 0.9065"
          ]
        },
        {
          "output_type": "stream",
          "name": "stderr",
          "text": [
            "\u001b[32m[I 2022-12-26 20:13:06,914]\u001b[0m Trial 21 pruned. Trial was pruned at epoch 1.\u001b[0m\n"
          ]
        },
        {
          "output_type": "stream",
          "name": "stdout",
          "text": [
            "Found 4447 images belonging to 6 classes.\n",
            "Found 1112 images belonging to 6 classes.\n",
            "Epoch 1/20\n",
            "138/138 [==============================] - ETA: 0s - loss: 1.2795 - accuracy: 0.5989"
          ]
        },
        {
          "output_type": "stream",
          "name": "stderr",
          "text": [
            "\u001b[32m[I 2022-12-26 20:13:58,912]\u001b[0m Trial 22 pruned. Trial was pruned at epoch 0.\u001b[0m\n"
          ]
        },
        {
          "output_type": "stream",
          "name": "stdout",
          "text": [
            "Found 4447 images belonging to 6 classes.\n",
            "Found 1112 images belonging to 6 classes.\n",
            "Epoch 1/20\n",
            "138/138 [==============================] - ETA: 0s - loss: 1.6053 - accuracy: 0.3522"
          ]
        },
        {
          "output_type": "stream",
          "name": "stderr",
          "text": [
            "\u001b[32m[I 2022-12-26 20:14:51,177]\u001b[0m Trial 23 pruned. Trial was pruned at epoch 0.\u001b[0m\n"
          ]
        },
        {
          "output_type": "stream",
          "name": "stdout",
          "text": [
            "Found 4447 images belonging to 6 classes.\n",
            "Found 1112 images belonging to 6 classes.\n",
            "Epoch 1/20\n",
            "138/138 [==============================] - ETA: 0s - loss: 1.4212 - accuracy: 0.5123"
          ]
        },
        {
          "output_type": "stream",
          "name": "stderr",
          "text": [
            "\u001b[32m[I 2022-12-26 20:15:42,059]\u001b[0m Trial 24 pruned. Trial was pruned at epoch 0.\u001b[0m\n"
          ]
        },
        {
          "output_type": "stream",
          "name": "stdout",
          "text": [
            "Found 4447 images belonging to 6 classes.\n",
            "Found 1112 images belonging to 6 classes.\n",
            "Epoch 1/20\n",
            "138/138 [==============================] - ETA: 0s - loss: 1.7341 - accuracy: 0.2997"
          ]
        },
        {
          "output_type": "stream",
          "name": "stderr",
          "text": [
            "\u001b[32m[I 2022-12-26 20:16:34,376]\u001b[0m Trial 25 pruned. Trial was pruned at epoch 0.\u001b[0m\n"
          ]
        },
        {
          "output_type": "stream",
          "name": "stdout",
          "text": [
            "Found 4447 images belonging to 6 classes.\n",
            "Found 1112 images belonging to 6 classes.\n",
            "Epoch 1/20\n",
            "138/138 [==============================] - ETA: 0s - loss: 1.7757 - accuracy: 0.2419"
          ]
        },
        {
          "output_type": "stream",
          "name": "stderr",
          "text": [
            "\u001b[32m[I 2022-12-26 20:17:26,901]\u001b[0m Trial 26 pruned. Trial was pruned at epoch 0.\u001b[0m\n"
          ]
        },
        {
          "output_type": "stream",
          "name": "stdout",
          "text": [
            "Found 4447 images belonging to 6 classes.\n",
            "Found 1112 images belonging to 6 classes.\n",
            "Epoch 1/20\n",
            "138/138 [==============================] - 45s 293ms/step - loss: 0.7915 - accuracy: 0.8054 - val_loss: 0.3617 - val_accuracy: 0.9311\n",
            "Epoch 2/20\n",
            "138/138 [==============================] - 42s 291ms/step - loss: 0.3719 - accuracy: 0.9089 - val_loss: 0.2394 - val_accuracy: 0.9403\n",
            "Epoch 3/20\n",
            "138/138 [==============================] - 42s 294ms/step - loss: 0.2839 - accuracy: 0.9253 - val_loss: 0.1967 - val_accuracy: 0.9494\n",
            "Epoch 4/20\n",
            "138/138 [==============================] - 42s 294ms/step - loss: 0.2491 - accuracy: 0.9311 - val_loss: 0.1749 - val_accuracy: 0.9504\n",
            "Epoch 5/20\n",
            "138/138 [==============================] - 42s 290ms/step - loss: 0.2331 - accuracy: 0.9320 - val_loss: 0.1617 - val_accuracy: 0.9513\n",
            "Epoch 6/20\n",
            "138/138 [==============================] - ETA: 0s - loss: 0.2125 - accuracy: 0.9354"
          ]
        },
        {
          "output_type": "stream",
          "name": "stderr",
          "text": [
            "\u001b[32m[I 2022-12-26 20:21:48,345]\u001b[0m Trial 27 pruned. Trial was pruned at epoch 5.\u001b[0m\n"
          ]
        },
        {
          "output_type": "stream",
          "name": "stdout",
          "text": [
            "Found 4447 images belonging to 6 classes.\n",
            "Found 1112 images belonging to 6 classes.\n",
            "Epoch 1/20\n",
            "138/138 [==============================] - ETA: 0s - loss: 1.6680 - accuracy: 0.3169"
          ]
        },
        {
          "output_type": "stream",
          "name": "stderr",
          "text": [
            "\u001b[32m[I 2022-12-26 20:22:41,218]\u001b[0m Trial 28 pruned. Trial was pruned at epoch 0.\u001b[0m\n"
          ]
        },
        {
          "output_type": "stream",
          "name": "stdout",
          "text": [
            "Found 4447 images belonging to 6 classes.\n",
            "Found 1112 images belonging to 6 classes.\n",
            "Epoch 1/20\n",
            "138/138 [==============================] - ETA: 0s - loss: 2.0198 - accuracy: 0.1830"
          ]
        },
        {
          "output_type": "stream",
          "name": "stderr",
          "text": [
            "\u001b[32m[I 2022-12-26 20:23:32,689]\u001b[0m Trial 29 pruned. Trial was pruned at epoch 0.\u001b[0m\n"
          ]
        },
        {
          "output_type": "stream",
          "name": "stdout",
          "text": [
            "Found 4447 images belonging to 6 classes.\n",
            "Found 1112 images belonging to 6 classes.\n",
            "Epoch 1/20\n",
            "138/138 [==============================] - ETA: 0s - loss: 1.8477 - accuracy: 0.1746"
          ]
        },
        {
          "output_type": "stream",
          "name": "stderr",
          "text": [
            "\u001b[32m[I 2022-12-26 20:24:24,903]\u001b[0m Trial 30 pruned. Trial was pruned at epoch 0.\u001b[0m\n"
          ]
        },
        {
          "output_type": "stream",
          "name": "stdout",
          "text": [
            "Found 4447 images belonging to 6 classes.\n",
            "Found 1112 images belonging to 6 classes.\n",
            "Epoch 1/20\n",
            "138/138 [==============================] - 45s 295ms/step - loss: 1.3190 - accuracy: 0.5044 - val_loss: 0.5578 - val_accuracy: 0.9136\n",
            "Epoch 2/20\n",
            "138/138 [==============================] - ETA: 0s - loss: 0.6542 - accuracy: 0.8014"
          ]
        },
        {
          "output_type": "stream",
          "name": "stderr",
          "text": [
            "\u001b[32m[I 2022-12-26 20:25:57,935]\u001b[0m Trial 31 pruned. Trial was pruned at epoch 1.\u001b[0m\n"
          ]
        },
        {
          "output_type": "stream",
          "name": "stdout",
          "text": [
            "Found 4447 images belonging to 6 classes.\n",
            "Found 1112 images belonging to 6 classes.\n",
            "Epoch 1/20\n",
            "138/138 [==============================] - 46s 298ms/step - loss: 0.7408 - accuracy: 0.7327 - val_loss: 0.2180 - val_accuracy: 0.9384\n",
            "Epoch 2/20\n",
            "138/138 [==============================] - 42s 288ms/step - loss: 0.3965 - accuracy: 0.8985 - val_loss: 0.2259 - val_accuracy: 0.9430\n",
            "Epoch 3/20\n",
            "138/138 [==============================] - ETA: 0s - loss: 0.3539 - accuracy: 0.9080"
          ]
        },
        {
          "output_type": "stream",
          "name": "stderr",
          "text": [
            "\u001b[32m[I 2022-12-26 20:28:13,761]\u001b[0m Trial 32 pruned. Trial was pruned at epoch 2.\u001b[0m\n"
          ]
        },
        {
          "output_type": "stream",
          "name": "stdout",
          "text": [
            "Found 4447 images belonging to 6 classes.\n",
            "Found 1112 images belonging to 6 classes.\n",
            "Epoch 1/20\n",
            "138/138 [==============================] - ETA: 0s - loss: 1.4046 - accuracy: 0.4668"
          ]
        },
        {
          "output_type": "stream",
          "name": "stderr",
          "text": [
            "\u001b[32m[I 2022-12-26 20:29:05,755]\u001b[0m Trial 33 pruned. Trial was pruned at epoch 0.\u001b[0m\n"
          ]
        },
        {
          "output_type": "stream",
          "name": "stdout",
          "text": [
            "Found 4447 images belonging to 6 classes.\n",
            "Found 1112 images belonging to 6 classes.\n",
            "Epoch 1/20\n",
            "138/138 [==============================] - 46s 299ms/step - loss: 1.2488 - accuracy: 0.5275 - val_loss: 0.3551 - val_accuracy: 0.9007\n",
            "Epoch 2/20\n",
            "138/138 [==============================] - ETA: 0s - loss: 0.5370 - accuracy: 0.8149"
          ]
        },
        {
          "output_type": "stream",
          "name": "stderr",
          "text": [
            "\u001b[32m[I 2022-12-26 20:30:39,579]\u001b[0m Trial 34 pruned. Trial was pruned at epoch 1.\u001b[0m\n"
          ]
        },
        {
          "output_type": "stream",
          "name": "stdout",
          "text": [
            "Found 4447 images belonging to 6 classes.\n",
            "Found 1112 images belonging to 6 classes.\n",
            "Epoch 1/20\n",
            "138/138 [==============================] - 46s 298ms/step - loss: 0.9086 - accuracy: 0.6809 - val_loss: 0.3051 - val_accuracy: 0.9237\n",
            "Epoch 2/20\n",
            "138/138 [==============================] - ETA: 0s - loss: 0.3839 - accuracy: 0.8813"
          ]
        },
        {
          "output_type": "stream",
          "name": "stderr",
          "text": [
            "\u001b[32m[I 2022-12-26 20:32:12,524]\u001b[0m Trial 35 pruned. Trial was pruned at epoch 1.\u001b[0m\n"
          ]
        },
        {
          "output_type": "stream",
          "name": "stdout",
          "text": [
            "Found 4447 images belonging to 6 classes.\n",
            "Found 1112 images belonging to 6 classes.\n",
            "Epoch 1/20\n",
            "138/138 [==============================] - ETA: 0s - loss: 1.9194 - accuracy: 0.1710"
          ]
        },
        {
          "output_type": "stream",
          "name": "stderr",
          "text": [
            "\u001b[32m[I 2022-12-26 20:33:03,804]\u001b[0m Trial 36 pruned. Trial was pruned at epoch 0.\u001b[0m\n"
          ]
        },
        {
          "output_type": "stream",
          "name": "stdout",
          "text": [
            "Found 4447 images belonging to 6 classes.\n",
            "Found 1112 images belonging to 6 classes.\n",
            "Epoch 1/20\n",
            "138/138 [==============================] - ETA: 0s - loss: 1.8811 - accuracy: 0.2349"
          ]
        },
        {
          "output_type": "stream",
          "name": "stderr",
          "text": [
            "\u001b[32m[I 2022-12-26 20:33:55,579]\u001b[0m Trial 37 pruned. Trial was pruned at epoch 0.\u001b[0m\n"
          ]
        },
        {
          "output_type": "stream",
          "name": "stdout",
          "text": [
            "Found 4447 images belonging to 6 classes.\n",
            "Found 1112 images belonging to 6 classes.\n",
            "Epoch 1/20\n",
            "138/138 [==============================] - ETA: 0s - loss: 2.0434 - accuracy: 0.1887"
          ]
        },
        {
          "output_type": "stream",
          "name": "stderr",
          "text": [
            "\u001b[32m[I 2022-12-26 20:34:47,339]\u001b[0m Trial 38 pruned. Trial was pruned at epoch 0.\u001b[0m\n"
          ]
        },
        {
          "output_type": "stream",
          "name": "stdout",
          "text": [
            "Found 4447 images belonging to 6 classes.\n",
            "Found 1112 images belonging to 6 classes.\n",
            "Epoch 1/20\n",
            "138/138 [==============================] - ETA: 0s - loss: 2.1421 - accuracy: 0.1026"
          ]
        },
        {
          "output_type": "stream",
          "name": "stderr",
          "text": [
            "\u001b[32m[I 2022-12-26 20:35:38,908]\u001b[0m Trial 39 pruned. Trial was pruned at epoch 0.\u001b[0m\n"
          ]
        },
        {
          "output_type": "stream",
          "name": "stdout",
          "text": [
            "Found 4447 images belonging to 6 classes.\n",
            "Found 1112 images belonging to 6 classes.\n",
            "Epoch 1/20\n",
            "138/138 [==============================] - ETA: 0s - loss: 1.8525 - accuracy: 0.1694"
          ]
        },
        {
          "output_type": "stream",
          "name": "stderr",
          "text": [
            "\u001b[32m[I 2022-12-26 20:36:31,015]\u001b[0m Trial 40 pruned. Trial was pruned at epoch 0.\u001b[0m\n"
          ]
        },
        {
          "output_type": "stream",
          "name": "stdout",
          "text": [
            "Found 4447 images belonging to 6 classes.\n",
            "Found 1112 images belonging to 6 classes.\n",
            "Epoch 1/20\n",
            "138/138 [==============================] - ETA: 0s - loss: 1.8773 - accuracy: 0.1597"
          ]
        },
        {
          "output_type": "stream",
          "name": "stderr",
          "text": [
            "\u001b[32m[I 2022-12-26 20:37:22,669]\u001b[0m Trial 41 pruned. Trial was pruned at epoch 0.\u001b[0m\n"
          ]
        },
        {
          "output_type": "stream",
          "name": "stdout",
          "text": [
            "Found 4447 images belonging to 6 classes.\n",
            "Found 1112 images belonging to 6 classes.\n",
            "Epoch 1/20\n",
            "138/138 [==============================] - ETA: 0s - loss: 1.8485 - accuracy: 0.1617"
          ]
        },
        {
          "output_type": "stream",
          "name": "stderr",
          "text": [
            "\u001b[32m[I 2022-12-26 20:38:14,664]\u001b[0m Trial 42 pruned. Trial was pruned at epoch 0.\u001b[0m\n"
          ]
        },
        {
          "output_type": "stream",
          "name": "stdout",
          "text": [
            "Found 4447 images belonging to 6 classes.\n",
            "Found 1112 images belonging to 6 classes.\n",
            "Epoch 1/20\n",
            "138/138 [==============================] - ETA: 0s - loss: 1.7589 - accuracy: 0.2347"
          ]
        },
        {
          "output_type": "stream",
          "name": "stderr",
          "text": [
            "\u001b[32m[I 2022-12-26 20:39:06,575]\u001b[0m Trial 43 pruned. Trial was pruned at epoch 0.\u001b[0m\n"
          ]
        },
        {
          "output_type": "stream",
          "name": "stdout",
          "text": [
            "Found 4447 images belonging to 6 classes.\n",
            "Found 1112 images belonging to 6 classes.\n",
            "Epoch 1/20\n",
            "138/138 [==============================] - ETA: 0s - loss: 1.8559 - accuracy: 0.1812"
          ]
        },
        {
          "output_type": "stream",
          "name": "stderr",
          "text": [
            "\u001b[32m[I 2022-12-26 20:39:58,697]\u001b[0m Trial 44 pruned. Trial was pruned at epoch 0.\u001b[0m\n"
          ]
        },
        {
          "output_type": "stream",
          "name": "stdout",
          "text": [
            "Found 4447 images belonging to 6 classes.\n",
            "Found 1112 images belonging to 6 classes.\n",
            "Epoch 1/20\n",
            "138/138 [==============================] - ETA: 0s - loss: 1.8899 - accuracy: 0.1794"
          ]
        },
        {
          "output_type": "stream",
          "name": "stderr",
          "text": [
            "\u001b[32m[I 2022-12-26 20:40:50,559]\u001b[0m Trial 45 pruned. Trial was pruned at epoch 0.\u001b[0m\n"
          ]
        },
        {
          "output_type": "stream",
          "name": "stdout",
          "text": [
            "Found 4447 images belonging to 6 classes.\n",
            "Found 1112 images belonging to 6 classes.\n",
            "Epoch 1/20\n",
            "138/138 [==============================] - ETA: 0s - loss: 1.8837 - accuracy: 0.1903"
          ]
        },
        {
          "output_type": "stream",
          "name": "stderr",
          "text": [
            "\u001b[32m[I 2022-12-26 20:41:43,092]\u001b[0m Trial 46 pruned. Trial was pruned at epoch 0.\u001b[0m\n"
          ]
        },
        {
          "output_type": "stream",
          "name": "stdout",
          "text": [
            "Found 4447 images belonging to 6 classes.\n",
            "Found 1112 images belonging to 6 classes.\n",
            "Epoch 1/20\n",
            "138/138 [==============================] - ETA: 0s - loss: 1.7997 - accuracy: 0.2020"
          ]
        },
        {
          "output_type": "stream",
          "name": "stderr",
          "text": [
            "\u001b[32m[I 2022-12-26 20:42:34,821]\u001b[0m Trial 47 pruned. Trial was pruned at epoch 0.\u001b[0m\n"
          ]
        },
        {
          "output_type": "stream",
          "name": "stdout",
          "text": [
            "Found 4447 images belonging to 6 classes.\n",
            "Found 1112 images belonging to 6 classes.\n",
            "Epoch 1/20\n",
            "138/138 [==============================] - 46s 297ms/step - loss: 2.3343 - accuracy: 0.3567 - val_loss: 0.3390 - val_accuracy: 0.8998\n",
            "Epoch 2/20\n",
            "138/138 [==============================] - ETA: 0s - loss: 1.1942 - accuracy: 0.6190"
          ]
        },
        {
          "output_type": "stream",
          "name": "stderr",
          "text": [
            "\u001b[32m[I 2022-12-26 20:44:08,478]\u001b[0m Trial 48 pruned. Trial was pruned at epoch 1.\u001b[0m\n"
          ]
        },
        {
          "output_type": "stream",
          "name": "stdout",
          "text": [
            "Found 4447 images belonging to 6 classes.\n",
            "Found 1112 images belonging to 6 classes.\n",
            "Epoch 1/20\n",
            "138/138 [==============================] - ETA: 0s - loss: 2.4653 - accuracy: 0.2163"
          ]
        },
        {
          "output_type": "stream",
          "name": "stderr",
          "text": [
            "\u001b[32m[I 2022-12-26 20:44:59,798]\u001b[0m Trial 49 pruned. Trial was pruned at epoch 0.\u001b[0m\n"
          ]
        },
        {
          "output_type": "stream",
          "name": "stdout",
          "text": [
            "Found 4447 images belonging to 6 classes.\n",
            "Found 1112 images belonging to 6 classes.\n",
            "Epoch 1/20\n",
            "138/138 [==============================] - 46s 298ms/step - loss: 0.4485 - accuracy: 0.8593 - val_loss: 0.1893 - val_accuracy: 0.9393\n",
            "Epoch 2/20\n",
            "138/138 [==============================] - 42s 290ms/step - loss: 0.1743 - accuracy: 0.9431 - val_loss: 0.1546 - val_accuracy: 0.9485\n",
            "Epoch 3/20\n",
            "138/138 [==============================] - 42s 293ms/step - loss: 0.1467 - accuracy: 0.9515 - val_loss: 0.1426 - val_accuracy: 0.9522\n",
            "Epoch 4/20\n",
            "138/138 [==============================] - 42s 288ms/step - loss: 0.1382 - accuracy: 0.9547 - val_loss: 0.1459 - val_accuracy: 0.9522\n",
            "Epoch 5/20\n",
            "138/138 [==============================] - 42s 289ms/step - loss: 0.1178 - accuracy: 0.9642 - val_loss: 0.1678 - val_accuracy: 0.9412\n",
            "Epoch 6/20\n",
            "138/138 [==============================] - 42s 291ms/step - loss: 0.1148 - accuracy: 0.9635 - val_loss: 0.1413 - val_accuracy: 0.9531\n",
            "Epoch 7/20\n",
            "138/138 [==============================] - ETA: 0s - loss: 0.1086 - accuracy: 0.9633"
          ]
        },
        {
          "output_type": "stream",
          "name": "stderr",
          "text": [
            "\u001b[32m[I 2022-12-26 20:50:03,775]\u001b[0m Trial 50 pruned. Trial was pruned at epoch 6.\u001b[0m\n"
          ]
        },
        {
          "output_type": "stream",
          "name": "stdout",
          "text": [
            "Found 4447 images belonging to 6 classes.\n",
            "Found 1112 images belonging to 6 classes.\n",
            "Epoch 1/20\n",
            "138/138 [==============================] - ETA: 0s - loss: 1.8911 - accuracy: 0.1574"
          ]
        },
        {
          "output_type": "stream",
          "name": "stderr",
          "text": [
            "\u001b[32m[I 2022-12-26 20:50:55,654]\u001b[0m Trial 51 pruned. Trial was pruned at epoch 0.\u001b[0m\n"
          ]
        },
        {
          "output_type": "stream",
          "name": "stdout",
          "text": [
            "Found 4447 images belonging to 6 classes.\n",
            "Found 1112 images belonging to 6 classes.\n",
            "Epoch 1/20\n",
            "138/138 [==============================] - ETA: 0s - loss: 1.9287 - accuracy: 0.1547"
          ]
        },
        {
          "output_type": "stream",
          "name": "stderr",
          "text": [
            "\u001b[32m[I 2022-12-26 20:51:48,149]\u001b[0m Trial 52 pruned. Trial was pruned at epoch 0.\u001b[0m\n"
          ]
        },
        {
          "output_type": "stream",
          "name": "stdout",
          "text": [
            "Found 4447 images belonging to 6 classes.\n",
            "Found 1112 images belonging to 6 classes.\n",
            "Epoch 1/20\n",
            "138/138 [==============================] - ETA: 0s - loss: 2.1707 - accuracy: 0.1690"
          ]
        },
        {
          "output_type": "stream",
          "name": "stderr",
          "text": [
            "\u001b[32m[I 2022-12-26 20:52:40,608]\u001b[0m Trial 53 pruned. Trial was pruned at epoch 0.\u001b[0m\n"
          ]
        },
        {
          "output_type": "stream",
          "name": "stdout",
          "text": [
            "Found 4447 images belonging to 6 classes.\n",
            "Found 1112 images belonging to 6 classes.\n",
            "Epoch 1/20\n",
            "138/138 [==============================] - ETA: 0s - loss: 1.8288 - accuracy: 0.1780"
          ]
        },
        {
          "output_type": "stream",
          "name": "stderr",
          "text": [
            "\u001b[32m[I 2022-12-26 20:53:33,166]\u001b[0m Trial 54 pruned. Trial was pruned at epoch 0.\u001b[0m\n"
          ]
        },
        {
          "output_type": "stream",
          "name": "stdout",
          "text": [
            "Found 4447 images belonging to 6 classes.\n",
            "Found 1112 images belonging to 6 classes.\n",
            "Epoch 1/20\n",
            "138/138 [==============================] - ETA: 0s - loss: 1.8622 - accuracy: 0.2340"
          ]
        },
        {
          "output_type": "stream",
          "name": "stderr",
          "text": [
            "\u001b[32m[I 2022-12-26 20:54:25,421]\u001b[0m Trial 55 pruned. Trial was pruned at epoch 0.\u001b[0m\n"
          ]
        },
        {
          "output_type": "stream",
          "name": "stdout",
          "text": [
            "Found 4447 images belonging to 6 classes.\n",
            "Found 1112 images belonging to 6 classes.\n",
            "Epoch 1/20\n",
            "138/138 [==============================] - 46s 301ms/step - loss: 1.0401 - accuracy: 0.5966 - val_loss: 0.2516 - val_accuracy: 0.9145\n",
            "Epoch 2/20\n",
            "138/138 [==============================] - ETA: 0s - loss: 0.4804 - accuracy: 0.8392"
          ]
        },
        {
          "output_type": "stream",
          "name": "stderr",
          "text": [
            "\u001b[32m[I 2022-12-26 20:55:59,613]\u001b[0m Trial 56 pruned. Trial was pruned at epoch 1.\u001b[0m\n"
          ]
        },
        {
          "output_type": "stream",
          "name": "stdout",
          "text": [
            "Found 4447 images belonging to 6 classes.\n",
            "Found 1112 images belonging to 6 classes.\n",
            "Epoch 1/20\n",
            "138/138 [==============================] - ETA: 0s - loss: 1.8537 - accuracy: 0.2129"
          ]
        },
        {
          "output_type": "stream",
          "name": "stderr",
          "text": [
            "\u001b[32m[I 2022-12-26 20:56:51,536]\u001b[0m Trial 57 pruned. Trial was pruned at epoch 0.\u001b[0m\n"
          ]
        },
        {
          "output_type": "stream",
          "name": "stdout",
          "text": [
            "Found 4447 images belonging to 6 classes.\n",
            "Found 1112 images belonging to 6 classes.\n",
            "Epoch 1/20\n",
            "138/138 [==============================] - 46s 302ms/step - loss: 1.1162 - accuracy: 0.6870 - val_loss: 0.5868 - val_accuracy: 0.9164\n",
            "Epoch 2/20\n",
            "138/138 [==============================] - ETA: 0s - loss: 0.5234 - accuracy: 0.8834"
          ]
        },
        {
          "output_type": "stream",
          "name": "stderr",
          "text": [
            "\u001b[32m[I 2022-12-26 20:58:25,853]\u001b[0m Trial 58 pruned. Trial was pruned at epoch 1.\u001b[0m\n"
          ]
        },
        {
          "output_type": "stream",
          "name": "stdout",
          "text": [
            "Found 4447 images belonging to 6 classes.\n",
            "Found 1112 images belonging to 6 classes.\n",
            "Epoch 1/20\n",
            "138/138 [==============================] - 45s 296ms/step - loss: 0.9694 - accuracy: 0.6965 - val_loss: 0.4880 - val_accuracy: 0.9053\n",
            "Epoch 2/20\n",
            "138/138 [==============================] - ETA: 0s - loss: 0.4698 - accuracy: 0.8809"
          ]
        },
        {
          "output_type": "stream",
          "name": "stderr",
          "text": [
            "\u001b[32m[I 2022-12-26 20:59:59,818]\u001b[0m Trial 59 pruned. Trial was pruned at epoch 1.\u001b[0m\n"
          ]
        },
        {
          "output_type": "stream",
          "name": "stdout",
          "text": [
            "Found 4447 images belonging to 6 classes.\n",
            "Found 1112 images belonging to 6 classes.\n",
            "Epoch 1/20\n",
            "138/138 [==============================] - ETA: 0s - loss: 2.2894 - accuracy: 0.1701"
          ]
        },
        {
          "output_type": "stream",
          "name": "stderr",
          "text": [
            "\u001b[32m[I 2022-12-26 21:00:51,856]\u001b[0m Trial 60 pruned. Trial was pruned at epoch 0.\u001b[0m\n"
          ]
        },
        {
          "output_type": "stream",
          "name": "stdout",
          "text": [
            "Found 4447 images belonging to 6 classes.\n",
            "Found 1112 images belonging to 6 classes.\n",
            "Epoch 1/20\n",
            "138/138 [==============================] - 46s 298ms/step - loss: 0.5479 - accuracy: 0.8550 - val_loss: 0.2226 - val_accuracy: 0.9384\n",
            "Epoch 2/20\n",
            "138/138 [==============================] - 42s 294ms/step - loss: 0.2085 - accuracy: 0.9327 - val_loss: 0.1625 - val_accuracy: 0.9494\n",
            "Epoch 3/20\n",
            "138/138 [==============================] - 42s 288ms/step - loss: 0.1599 - accuracy: 0.9527 - val_loss: 0.1453 - val_accuracy: 0.9531\n",
            "Epoch 4/20\n",
            "138/138 [==============================] - 42s 289ms/step - loss: 0.1471 - accuracy: 0.9524 - val_loss: 0.1504 - val_accuracy: 0.9485\n",
            "Epoch 5/20\n",
            "138/138 [==============================] - 42s 290ms/step - loss: 0.1402 - accuracy: 0.9547 - val_loss: 0.1407 - val_accuracy: 0.9559\n",
            "Epoch 6/20\n",
            "138/138 [==============================] - 42s 290ms/step - loss: 0.1256 - accuracy: 0.9610 - val_loss: 0.1352 - val_accuracy: 0.9522\n",
            "Epoch 7/20\n",
            "138/138 [==============================] - 42s 291ms/step - loss: 0.1267 - accuracy: 0.9574 - val_loss: 0.1374 - val_accuracy: 0.9476\n",
            "Epoch 8/20\n",
            "138/138 [==============================] - 42s 291ms/step - loss: 0.1169 - accuracy: 0.9619 - val_loss: 0.1426 - val_accuracy: 0.9476\n",
            "Epoch 9/20\n",
            "138/138 [==============================] - 42s 291ms/step - loss: 0.1062 - accuracy: 0.9656 - val_loss: 0.1457 - val_accuracy: 0.9494\n",
            "Epoch 10/20\n",
            "138/138 [==============================] - 42s 291ms/step - loss: 0.1046 - accuracy: 0.9681 - val_loss: 0.1290 - val_accuracy: 0.9577\n",
            "Epoch 11/20\n",
            "138/138 [==============================] - 42s 293ms/step - loss: 0.1003 - accuracy: 0.9690 - val_loss: 0.1361 - val_accuracy: 0.9550\n",
            "Epoch 12/20\n",
            "138/138 [==============================] - 43s 298ms/step - loss: 0.0973 - accuracy: 0.9635 - val_loss: 0.1414 - val_accuracy: 0.9476\n",
            "Epoch 13/20\n",
            "138/138 [==============================] - 43s 299ms/step - loss: 0.0897 - accuracy: 0.9701 - val_loss: 0.1316 - val_accuracy: 0.9550\n",
            "Epoch 14/20\n",
            "138/138 [==============================] - 43s 298ms/step - loss: 0.0778 - accuracy: 0.9769 - val_loss: 0.1405 - val_accuracy: 0.9550\n",
            "Epoch 15/20\n",
            "138/138 [==============================] - 43s 299ms/step - loss: 0.0782 - accuracy: 0.9778 - val_loss: 0.1365 - val_accuracy: 0.9522\n",
            "Epoch 16/20\n",
            "138/138 [==============================] - 43s 297ms/step - loss: 0.0832 - accuracy: 0.9751 - val_loss: 0.1405 - val_accuracy: 0.9513\n",
            "Epoch 17/20\n",
            "138/138 [==============================] - 43s 298ms/step - loss: 0.0719 - accuracy: 0.9776 - val_loss: 0.1475 - val_accuracy: 0.9494\n",
            "Epoch 18/20\n",
            "138/138 [==============================] - 43s 298ms/step - loss: 0.0759 - accuracy: 0.9762 - val_loss: 0.1347 - val_accuracy: 0.9550\n",
            "Epoch 19/20\n",
            "138/138 [==============================] - 43s 298ms/step - loss: 0.0679 - accuracy: 0.9798 - val_loss: 0.1402 - val_accuracy: 0.9540\n",
            "Epoch 20/20\n",
            "138/138 [==============================] - ETA: 0s - loss: 0.0698 - accuracy: 0.9780"
          ]
        },
        {
          "output_type": "stream",
          "name": "stderr",
          "text": [
            "\u001b[32m[I 2022-12-26 21:15:13,741]\u001b[0m Trial 61 pruned. Trial was pruned at epoch 19.\u001b[0m\n"
          ]
        },
        {
          "output_type": "stream",
          "name": "stdout",
          "text": [
            "Found 4447 images belonging to 6 classes.\n",
            "Found 1112 images belonging to 6 classes.\n",
            "Epoch 1/20\n",
            "138/138 [==============================] - 47s 305ms/step - loss: 0.4600 - accuracy: 0.8639 - val_loss: 0.1655 - val_accuracy: 0.9439\n",
            "Epoch 2/20\n",
            "138/138 [==============================] - 43s 299ms/step - loss: 0.1790 - accuracy: 0.9429 - val_loss: 0.1390 - val_accuracy: 0.9458\n",
            "Epoch 3/20\n",
            "138/138 [==============================] - 43s 297ms/step - loss: 0.1457 - accuracy: 0.9508 - val_loss: 0.1278 - val_accuracy: 0.9531\n",
            "Epoch 4/20\n",
            "138/138 [==============================] - 43s 300ms/step - loss: 0.1455 - accuracy: 0.9511 - val_loss: 0.1241 - val_accuracy: 0.9568\n",
            "Epoch 5/20\n",
            "138/138 [==============================] - 43s 297ms/step - loss: 0.1223 - accuracy: 0.9597 - val_loss: 0.1248 - val_accuracy: 0.9531\n",
            "Epoch 6/20\n",
            "138/138 [==============================] - 43s 298ms/step - loss: 0.1173 - accuracy: 0.9608 - val_loss: 0.1197 - val_accuracy: 0.9559\n",
            "Epoch 7/20\n",
            "138/138 [==============================] - 43s 297ms/step - loss: 0.1028 - accuracy: 0.9651 - val_loss: 0.1174 - val_accuracy: 0.9577\n",
            "Epoch 8/20\n",
            "138/138 [==============================] - 43s 298ms/step - loss: 0.0975 - accuracy: 0.9708 - val_loss: 0.1266 - val_accuracy: 0.9550\n",
            "Epoch 9/20\n",
            "138/138 [==============================] - 43s 299ms/step - loss: 0.0925 - accuracy: 0.9685 - val_loss: 0.1351 - val_accuracy: 0.9513\n",
            "Epoch 10/20\n",
            "138/138 [==============================] - 43s 299ms/step - loss: 0.0816 - accuracy: 0.9728 - val_loss: 0.1246 - val_accuracy: 0.9577\n",
            "Epoch 11/20\n",
            "138/138 [==============================] - 43s 300ms/step - loss: 0.0817 - accuracy: 0.9742 - val_loss: 0.1142 - val_accuracy: 0.9632\n",
            "Epoch 12/20\n",
            "138/138 [==============================] - 43s 299ms/step - loss: 0.0769 - accuracy: 0.9742 - val_loss: 0.1409 - val_accuracy: 0.9568\n",
            "Epoch 13/20\n",
            "138/138 [==============================] - 43s 300ms/step - loss: 0.0731 - accuracy: 0.9764 - val_loss: 0.1257 - val_accuracy: 0.9586\n",
            "Epoch 14/20\n",
            "138/138 [==============================] - 43s 299ms/step - loss: 0.0682 - accuracy: 0.9780 - val_loss: 0.1353 - val_accuracy: 0.9568\n",
            "Epoch 15/20\n",
            "138/138 [==============================] - 43s 298ms/step - loss: 0.0692 - accuracy: 0.9773 - val_loss: 0.1207 - val_accuracy: 0.9596\n",
            "Epoch 16/20\n",
            "138/138 [==============================] - 43s 297ms/step - loss: 0.0642 - accuracy: 0.9785 - val_loss: 0.1292 - val_accuracy: 0.9577\n",
            "Epoch 17/20\n",
            "138/138 [==============================] - 43s 297ms/step - loss: 0.0608 - accuracy: 0.9798 - val_loss: 0.1257 - val_accuracy: 0.9568\n",
            "Epoch 18/20\n",
            "138/138 [==============================] - 43s 298ms/step - loss: 0.0638 - accuracy: 0.9792 - val_loss: 0.1252 - val_accuracy: 0.9531\n",
            "Epoch 19/20\n",
            "138/138 [==============================] - 43s 297ms/step - loss: 0.0505 - accuracy: 0.9839 - val_loss: 0.1247 - val_accuracy: 0.9531\n",
            "Epoch 20/20\n",
            "138/138 [==============================] - 43s 295ms/step - loss: 0.0473 - accuracy: 0.9853 - val_loss: 0.1437 - val_accuracy: 0.9642\n"
          ]
        },
        {
          "output_type": "stream",
          "name": "stderr",
          "text": [
            "\u001b[32m[I 2022-12-26 21:30:00,154]\u001b[0m Trial 62 finished with value: 0.9640287756919861 and parameters: {'n_layers': 2, 'n_units_L0': 416, 'f_activation_L0': 'relu', 'dropout_L0': 0.0, 'n_units_L1': 224, 'f_activation_L1': 'elu', 'dropout_L1': 0.0, 'learning_rate': 0.008318241571830856, 'momentum': 0.8300428761740158, 'random_state': 933, 'epochs': 20}. Best is trial 0 with value: 0.9649280309677124.\u001b[0m\n"
          ]
        },
        {
          "output_type": "stream",
          "name": "stdout",
          "text": [
            "Found 4447 images belonging to 6 classes.\n",
            "Found 1112 images belonging to 6 classes.\n",
            "Epoch 1/20\n",
            "138/138 [==============================] - 47s 305ms/step - loss: 0.5781 - accuracy: 0.8516 - val_loss: 0.2048 - val_accuracy: 0.9375\n",
            "Epoch 2/20\n",
            "138/138 [==============================] - 43s 297ms/step - loss: 0.2200 - accuracy: 0.9359 - val_loss: 0.1551 - val_accuracy: 0.9458\n",
            "Epoch 3/20\n",
            "138/138 [==============================] - 43s 296ms/step - loss: 0.1847 - accuracy: 0.9404 - val_loss: 0.1387 - val_accuracy: 0.9550\n",
            "Epoch 4/20\n",
            "138/138 [==============================] - 43s 296ms/step - loss: 0.1683 - accuracy: 0.9465 - val_loss: 0.1281 - val_accuracy: 0.9577\n",
            "Epoch 5/20\n",
            "138/138 [==============================] - 43s 298ms/step - loss: 0.1645 - accuracy: 0.9488 - val_loss: 0.1284 - val_accuracy: 0.9531\n",
            "Epoch 6/20\n",
            "138/138 [==============================] - 43s 296ms/step - loss: 0.1463 - accuracy: 0.9545 - val_loss: 0.1204 - val_accuracy: 0.9577\n",
            "Epoch 7/20\n",
            "138/138 [==============================] - 43s 297ms/step - loss: 0.1380 - accuracy: 0.9570 - val_loss: 0.1239 - val_accuracy: 0.9531\n",
            "Epoch 8/20\n",
            "138/138 [==============================] - 43s 296ms/step - loss: 0.1290 - accuracy: 0.9599 - val_loss: 0.1222 - val_accuracy: 0.9596\n",
            "Epoch 9/20\n",
            "138/138 [==============================] - 43s 295ms/step - loss: 0.1229 - accuracy: 0.9613 - val_loss: 0.1162 - val_accuracy: 0.9605\n",
            "Epoch 10/20\n",
            "138/138 [==============================] - 42s 291ms/step - loss: 0.1220 - accuracy: 0.9619 - val_loss: 0.1256 - val_accuracy: 0.9540\n",
            "Epoch 11/20\n",
            "138/138 [==============================] - 42s 293ms/step - loss: 0.1081 - accuracy: 0.9676 - val_loss: 0.1167 - val_accuracy: 0.9605\n",
            "Epoch 12/20\n",
            "138/138 [==============================] - 43s 297ms/step - loss: 0.1086 - accuracy: 0.9663 - val_loss: 0.1137 - val_accuracy: 0.9577\n",
            "Epoch 13/20\n",
            "138/138 [==============================] - 43s 298ms/step - loss: 0.1050 - accuracy: 0.9676 - val_loss: 0.1212 - val_accuracy: 0.9550\n",
            "Epoch 14/20\n",
            "138/138 [==============================] - 43s 296ms/step - loss: 0.1013 - accuracy: 0.9692 - val_loss: 0.1204 - val_accuracy: 0.9605\n",
            "Epoch 15/20\n",
            "138/138 [==============================] - 43s 297ms/step - loss: 0.0970 - accuracy: 0.9701 - val_loss: 0.1214 - val_accuracy: 0.9568\n",
            "Epoch 16/20\n",
            "138/138 [==============================] - 43s 297ms/step - loss: 0.0925 - accuracy: 0.9719 - val_loss: 0.1208 - val_accuracy: 0.9559\n",
            "Epoch 17/20\n",
            "138/138 [==============================] - 43s 297ms/step - loss: 0.0912 - accuracy: 0.9735 - val_loss: 0.1249 - val_accuracy: 0.9577\n",
            "Epoch 18/20\n",
            "138/138 [==============================] - 43s 295ms/step - loss: 0.0913 - accuracy: 0.9719 - val_loss: 0.1168 - val_accuracy: 0.9605\n",
            "Epoch 19/20\n",
            "138/138 [==============================] - 43s 295ms/step - loss: 0.0860 - accuracy: 0.9758 - val_loss: 0.1160 - val_accuracy: 0.9623\n",
            "Epoch 20/20\n",
            "138/138 [==============================] - 43s 296ms/step - loss: 0.0803 - accuracy: 0.9778 - val_loss: 0.1138 - val_accuracy: 0.9623\n"
          ]
        },
        {
          "output_type": "stream",
          "name": "stderr",
          "text": [
            "\u001b[32m[I 2022-12-26 21:44:40,267]\u001b[0m Trial 63 finished with value: 0.9604316353797913 and parameters: {'n_layers': 1, 'n_units_L0': 480, 'f_activation_L0': 'relu', 'dropout_L0': 0.0, 'learning_rate': 0.00617960664750813, 'momentum': 0.8338294784655746, 'random_state': 543, 'epochs': 20}. Best is trial 0 with value: 0.9649280309677124.\u001b[0m\n"
          ]
        },
        {
          "output_type": "stream",
          "name": "stdout",
          "text": [
            "Found 4447 images belonging to 6 classes.\n",
            "Found 1112 images belonging to 6 classes.\n",
            "Epoch 1/20\n",
            "138/138 [==============================] - 46s 303ms/step - loss: 0.5303 - accuracy: 0.8634 - val_loss: 0.1961 - val_accuracy: 0.9522\n",
            "Epoch 2/20\n",
            "138/138 [==============================] - 43s 295ms/step - loss: 0.2145 - accuracy: 0.9343 - val_loss: 0.1473 - val_accuracy: 0.9568\n",
            "Epoch 3/20\n",
            "138/138 [==============================] - 42s 293ms/step - loss: 0.1791 - accuracy: 0.9427 - val_loss: 0.1301 - val_accuracy: 0.9577\n",
            "Epoch 4/20\n",
            "138/138 [==============================] - 42s 293ms/step - loss: 0.1605 - accuracy: 0.9484 - val_loss: 0.1254 - val_accuracy: 0.9614\n",
            "Epoch 5/20\n",
            "138/138 [==============================] - 42s 292ms/step - loss: 0.1546 - accuracy: 0.9495 - val_loss: 0.1205 - val_accuracy: 0.9605\n",
            "Epoch 6/20\n",
            "138/138 [==============================] - 43s 294ms/step - loss: 0.1426 - accuracy: 0.9527 - val_loss: 0.1196 - val_accuracy: 0.9623\n",
            "Epoch 7/20\n",
            "138/138 [==============================] - 42s 293ms/step - loss: 0.1332 - accuracy: 0.9554 - val_loss: 0.1169 - val_accuracy: 0.9632\n",
            "Epoch 8/20\n",
            "138/138 [==============================] - 43s 296ms/step - loss: 0.1225 - accuracy: 0.9613 - val_loss: 0.1153 - val_accuracy: 0.9614\n",
            "Epoch 9/20\n",
            "138/138 [==============================] - 43s 295ms/step - loss: 0.1221 - accuracy: 0.9565 - val_loss: 0.1200 - val_accuracy: 0.9614\n",
            "Epoch 10/20\n",
            "138/138 [==============================] - 43s 296ms/step - loss: 0.1058 - accuracy: 0.9696 - val_loss: 0.1131 - val_accuracy: 0.9697\n",
            "Epoch 11/20\n",
            "138/138 [==============================] - 43s 296ms/step - loss: 0.1030 - accuracy: 0.9660 - val_loss: 0.1197 - val_accuracy: 0.9632\n",
            "Epoch 12/20\n",
            "138/138 [==============================] - 43s 295ms/step - loss: 0.1071 - accuracy: 0.9635 - val_loss: 0.1133 - val_accuracy: 0.9651\n",
            "Epoch 13/20\n",
            "138/138 [==============================] - 43s 295ms/step - loss: 0.1002 - accuracy: 0.9694 - val_loss: 0.1110 - val_accuracy: 0.9669\n",
            "Epoch 14/20\n",
            "138/138 [==============================] - 43s 297ms/step - loss: 0.1022 - accuracy: 0.9685 - val_loss: 0.1329 - val_accuracy: 0.9577\n",
            "Epoch 15/20\n",
            "138/138 [==============================] - 43s 297ms/step - loss: 0.0894 - accuracy: 0.9744 - val_loss: 0.1139 - val_accuracy: 0.9669\n",
            "Epoch 16/20\n",
            "138/138 [==============================] - 43s 296ms/step - loss: 0.0900 - accuracy: 0.9733 - val_loss: 0.1109 - val_accuracy: 0.9697\n",
            "Epoch 17/20\n",
            "138/138 [==============================] - 43s 296ms/step - loss: 0.0887 - accuracy: 0.9717 - val_loss: 0.1107 - val_accuracy: 0.9688\n",
            "Epoch 18/20\n",
            "138/138 [==============================] - 43s 298ms/step - loss: 0.0857 - accuracy: 0.9719 - val_loss: 0.1205 - val_accuracy: 0.9632\n",
            "Epoch 19/20\n",
            "138/138 [==============================] - 43s 298ms/step - loss: 0.0811 - accuracy: 0.9726 - val_loss: 0.1205 - val_accuracy: 0.9669\n",
            "Epoch 20/20\n",
            "138/138 [==============================] - 43s 295ms/step - loss: 0.0784 - accuracy: 0.9740 - val_loss: 0.1111 - val_accuracy: 0.9706\n"
          ]
        },
        {
          "output_type": "stream",
          "name": "stderr",
          "text": [
            "\u001b[32m[I 2022-12-26 21:59:18,216]\u001b[0m Trial 64 finished with value: 0.9703237414360046 and parameters: {'n_layers': 1, 'n_units_L0': 480, 'f_activation_L0': 'relu', 'dropout_L0': 0.0, 'learning_rate': 0.007164294777909971, 'momentum': 0.8281463565323526, 'random_state': 563, 'epochs': 20}. Best is trial 64 with value: 0.9703237414360046.\u001b[0m\n"
          ]
        },
        {
          "output_type": "stream",
          "name": "stdout",
          "text": [
            "Found 4447 images belonging to 6 classes.\n",
            "Found 1112 images belonging to 6 classes.\n",
            "Epoch 1/20\n",
            "138/138 [==============================] - 46s 299ms/step - loss: 0.5519 - accuracy: 0.8510 - val_loss: 0.2377 - val_accuracy: 0.9311\n",
            "Epoch 2/20\n",
            "138/138 [==============================] - ETA: 0s - loss: 0.2090 - accuracy: 0.9386"
          ]
        },
        {
          "output_type": "stream",
          "name": "stderr",
          "text": [
            "\u001b[32m[I 2022-12-26 22:00:53,616]\u001b[0m Trial 65 pruned. Trial was pruned at epoch 1.\u001b[0m\n"
          ]
        },
        {
          "output_type": "stream",
          "name": "stdout",
          "text": [
            "Found 4447 images belonging to 6 classes.\n",
            "Found 1112 images belonging to 6 classes.\n",
            "Epoch 1/20\n",
            "138/138 [==============================] - ETA: 0s - loss: 1.1773 - accuracy: 0.6981"
          ]
        },
        {
          "output_type": "stream",
          "name": "stderr",
          "text": [
            "\u001b[32m[I 2022-12-26 22:01:46,832]\u001b[0m Trial 66 pruned. Trial was pruned at epoch 0.\u001b[0m\n"
          ]
        },
        {
          "output_type": "stream",
          "name": "stdout",
          "text": [
            "Found 4447 images belonging to 6 classes.\n",
            "Found 1112 images belonging to 6 classes.\n",
            "Epoch 1/20\n",
            "138/138 [==============================] - 46s 301ms/step - loss: 0.7162 - accuracy: 0.8365 - val_loss: 0.2830 - val_accuracy: 0.9403\n",
            "Epoch 2/20\n",
            "138/138 [==============================] - 43s 296ms/step - loss: 0.2764 - accuracy: 0.9307 - val_loss: 0.1856 - val_accuracy: 0.9504\n",
            "Epoch 3/20\n",
            "138/138 [==============================] - 43s 298ms/step - loss: 0.2208 - accuracy: 0.9382 - val_loss: 0.1660 - val_accuracy: 0.9494\n",
            "Epoch 4/20\n",
            "138/138 [==============================] - 43s 300ms/step - loss: 0.1913 - accuracy: 0.9413 - val_loss: 0.1546 - val_accuracy: 0.9494\n",
            "Epoch 5/20\n",
            "138/138 [==============================] - ETA: 0s - loss: 0.1710 - accuracy: 0.9452"
          ]
        },
        {
          "output_type": "stream",
          "name": "stderr",
          "text": [
            "\u001b[32m[I 2022-12-26 22:05:31,985]\u001b[0m Trial 67 pruned. Trial was pruned at epoch 4.\u001b[0m\n"
          ]
        },
        {
          "output_type": "stream",
          "name": "stdout",
          "text": [
            "Found 4447 images belonging to 6 classes.\n",
            "Found 1112 images belonging to 6 classes.\n",
            "Epoch 1/20\n",
            "138/138 [==============================] - 47s 304ms/step - loss: 0.7005 - accuracy: 0.8256 - val_loss: 0.2722 - val_accuracy: 0.9458\n",
            "Epoch 2/20\n",
            "138/138 [==============================] - 43s 299ms/step - loss: 0.2706 - accuracy: 0.9307 - val_loss: 0.1850 - val_accuracy: 0.9559\n",
            "Epoch 3/20\n",
            "138/138 [==============================] - 43s 299ms/step - loss: 0.2092 - accuracy: 0.9409 - val_loss: 0.1586 - val_accuracy: 0.9623\n",
            "Epoch 4/20\n",
            "138/138 [==============================] - 43s 299ms/step - loss: 0.1869 - accuracy: 0.9400 - val_loss: 0.1458 - val_accuracy: 0.9651\n",
            "Epoch 5/20\n",
            "138/138 [==============================] - 43s 298ms/step - loss: 0.1703 - accuracy: 0.9477 - val_loss: 0.1408 - val_accuracy: 0.9669\n",
            "Epoch 6/20\n",
            "138/138 [==============================] - 43s 300ms/step - loss: 0.1598 - accuracy: 0.9475 - val_loss: 0.1312 - val_accuracy: 0.9660\n",
            "Epoch 7/20\n",
            "138/138 [==============================] - 43s 300ms/step - loss: 0.1501 - accuracy: 0.9533 - val_loss: 0.1314 - val_accuracy: 0.9678\n",
            "Epoch 8/20\n",
            "138/138 [==============================] - 43s 299ms/step - loss: 0.1409 - accuracy: 0.9533 - val_loss: 0.1320 - val_accuracy: 0.9660\n",
            "Epoch 9/20\n",
            "138/138 [==============================] - 43s 300ms/step - loss: 0.1395 - accuracy: 0.9565 - val_loss: 0.1297 - val_accuracy: 0.9706\n",
            "Epoch 10/20\n",
            "138/138 [==============================] - 43s 298ms/step - loss: 0.1286 - accuracy: 0.9572 - val_loss: 0.1272 - val_accuracy: 0.9669\n",
            "Epoch 11/20\n",
            "138/138 [==============================] - 43s 297ms/step - loss: 0.1302 - accuracy: 0.9561 - val_loss: 0.1276 - val_accuracy: 0.9678\n",
            "Epoch 12/20\n",
            "138/138 [==============================] - 43s 297ms/step - loss: 0.1252 - accuracy: 0.9581 - val_loss: 0.1257 - val_accuracy: 0.9651\n",
            "Epoch 13/20\n",
            "138/138 [==============================] - 43s 299ms/step - loss: 0.1210 - accuracy: 0.9601 - val_loss: 0.1276 - val_accuracy: 0.9623\n",
            "Epoch 14/20\n",
            "138/138 [==============================] - 43s 299ms/step - loss: 0.1126 - accuracy: 0.9635 - val_loss: 0.1294 - val_accuracy: 0.9678\n",
            "Epoch 15/20\n",
            "138/138 [==============================] - 43s 298ms/step - loss: 0.1103 - accuracy: 0.9622 - val_loss: 0.1260 - val_accuracy: 0.9688\n",
            "Epoch 16/20\n",
            "138/138 [==============================] - 43s 296ms/step - loss: 0.1072 - accuracy: 0.9663 - val_loss: 0.1246 - val_accuracy: 0.9669\n",
            "Epoch 17/20\n",
            "138/138 [==============================] - 43s 297ms/step - loss: 0.1024 - accuracy: 0.9649 - val_loss: 0.1250 - val_accuracy: 0.9660\n",
            "Epoch 18/20\n",
            "138/138 [==============================] - 43s 298ms/step - loss: 0.1056 - accuracy: 0.9647 - val_loss: 0.1291 - val_accuracy: 0.9669\n",
            "Epoch 19/20\n",
            "138/138 [==============================] - 43s 296ms/step - loss: 0.1000 - accuracy: 0.9701 - val_loss: 0.1295 - val_accuracy: 0.9669\n",
            "Epoch 20/20\n",
            "138/138 [==============================] - 43s 295ms/step - loss: 0.0983 - accuracy: 0.9701 - val_loss: 0.1187 - val_accuracy: 0.9688\n"
          ]
        },
        {
          "output_type": "stream",
          "name": "stderr",
          "text": [
            "\u001b[32m[I 2022-12-26 22:20:17,938]\u001b[0m Trial 68 finished with value: 0.9667266011238098 and parameters: {'n_layers': 1, 'n_units_L0': 448, 'f_activation_L0': 'relu', 'dropout_L0': 0.0, 'learning_rate': 0.005446425381099318, 'momentum': 0.7729100342958012, 'random_state': 729, 'epochs': 20}. Best is trial 64 with value: 0.9703237414360046.\u001b[0m\n"
          ]
        },
        {
          "output_type": "stream",
          "name": "stdout",
          "text": [
            "Found 4447 images belonging to 6 classes.\n",
            "Found 1112 images belonging to 6 classes.\n",
            "Epoch 1/20\n",
            "138/138 [==============================] - 47s 302ms/step - loss: 0.8505 - accuracy: 0.8120 - val_loss: 0.3855 - val_accuracy: 0.9357\n",
            "Epoch 2/20\n",
            "138/138 [==============================] - 43s 296ms/step - loss: 0.3340 - accuracy: 0.9275 - val_loss: 0.2457 - val_accuracy: 0.9439\n",
            "Epoch 3/20\n",
            "138/138 [==============================] - 43s 294ms/step - loss: 0.2556 - accuracy: 0.9305 - val_loss: 0.1995 - val_accuracy: 0.9485\n",
            "Epoch 4/20\n",
            "138/138 [==============================] - 42s 292ms/step - loss: 0.2195 - accuracy: 0.9413 - val_loss: 0.1743 - val_accuracy: 0.9494\n",
            "Epoch 5/20\n",
            "138/138 [==============================] - ETA: 0s - loss: 0.2015 - accuracy: 0.9409"
          ]
        },
        {
          "output_type": "stream",
          "name": "stderr",
          "text": [
            "\u001b[32m[I 2022-12-26 22:24:00,543]\u001b[0m Trial 69 pruned. Trial was pruned at epoch 4.\u001b[0m\n"
          ]
        },
        {
          "output_type": "stream",
          "name": "stdout",
          "text": [
            "Found 4447 images belonging to 6 classes.\n",
            "Found 1112 images belonging to 6 classes.\n",
            "Epoch 1/20\n",
            "138/138 [==============================] - ETA: 0s - loss: 0.8446 - accuracy: 0.8163"
          ]
        },
        {
          "output_type": "stream",
          "name": "stderr",
          "text": [
            "\u001b[32m[I 2022-12-26 22:24:52,681]\u001b[0m Trial 70 pruned. Trial was pruned at epoch 0.\u001b[0m\n"
          ]
        },
        {
          "output_type": "stream",
          "name": "stdout",
          "text": [
            "Found 4447 images belonging to 6 classes.\n",
            "Found 1112 images belonging to 6 classes.\n",
            "Epoch 1/20\n",
            "138/138 [==============================] - ETA: 0s - loss: 0.7764 - accuracy: 0.8163"
          ]
        },
        {
          "output_type": "stream",
          "name": "stderr",
          "text": [
            "\u001b[32m[I 2022-12-26 22:25:44,693]\u001b[0m Trial 71 pruned. Trial was pruned at epoch 0.\u001b[0m\n"
          ]
        },
        {
          "output_type": "stream",
          "name": "stdout",
          "text": [
            "Found 4447 images belonging to 6 classes.\n",
            "Found 1112 images belonging to 6 classes.\n",
            "Epoch 1/20\n",
            "138/138 [==============================] - ETA: 0s - loss: 0.5316 - accuracy: 0.8308"
          ]
        },
        {
          "output_type": "stream",
          "name": "stderr",
          "text": [
            "\u001b[32m[I 2022-12-26 22:26:37,103]\u001b[0m Trial 72 pruned. Trial was pruned at epoch 0.\u001b[0m\n"
          ]
        },
        {
          "output_type": "stream",
          "name": "stdout",
          "text": [
            "Found 4447 images belonging to 6 classes.\n",
            "Found 1112 images belonging to 6 classes.\n",
            "Epoch 1/20\n",
            "138/138 [==============================] - 45s 297ms/step - loss: 0.6649 - accuracy: 0.8002 - val_loss: 0.2065 - val_accuracy: 0.9412\n",
            "Epoch 2/20\n",
            "138/138 [==============================] - 42s 290ms/step - loss: 0.2521 - accuracy: 0.9205 - val_loss: 0.1481 - val_accuracy: 0.9504\n",
            "Epoch 3/20\n",
            "138/138 [==============================] - 42s 289ms/step - loss: 0.2046 - accuracy: 0.9309 - val_loss: 0.1389 - val_accuracy: 0.9513\n",
            "Epoch 4/20\n",
            "138/138 [==============================] - 42s 290ms/step - loss: 0.1769 - accuracy: 0.9438 - val_loss: 0.1443 - val_accuracy: 0.9458\n",
            "Epoch 5/20\n",
            "138/138 [==============================] - 42s 290ms/step - loss: 0.1677 - accuracy: 0.9436 - val_loss: 0.1213 - val_accuracy: 0.9596\n",
            "Epoch 6/20\n",
            "138/138 [==============================] - 42s 290ms/step - loss: 0.1593 - accuracy: 0.9472 - val_loss: 0.1237 - val_accuracy: 0.9550\n",
            "Epoch 7/20\n",
            "138/138 [==============================] - 42s 289ms/step - loss: 0.1473 - accuracy: 0.9484 - val_loss: 0.1087 - val_accuracy: 0.9614\n",
            "Epoch 8/20\n",
            "138/138 [==============================] - 42s 288ms/step - loss: 0.1358 - accuracy: 0.9572 - val_loss: 0.1263 - val_accuracy: 0.9559\n",
            "Epoch 9/20\n",
            "138/138 [==============================] - 42s 288ms/step - loss: 0.1269 - accuracy: 0.9619 - val_loss: 0.1092 - val_accuracy: 0.9651\n",
            "Epoch 10/20\n",
            "138/138 [==============================] - 42s 290ms/step - loss: 0.1261 - accuracy: 0.9615 - val_loss: 0.1191 - val_accuracy: 0.9586\n",
            "Epoch 11/20\n",
            "138/138 [==============================] - 42s 289ms/step - loss: 0.1263 - accuracy: 0.9579 - val_loss: 0.1149 - val_accuracy: 0.9660\n",
            "Epoch 12/20\n",
            "138/138 [==============================] - 42s 290ms/step - loss: 0.1132 - accuracy: 0.9633 - val_loss: 0.1185 - val_accuracy: 0.9596\n",
            "Epoch 13/20\n",
            "138/138 [==============================] - 42s 293ms/step - loss: 0.1130 - accuracy: 0.9606 - val_loss: 0.1128 - val_accuracy: 0.9660\n",
            "Epoch 14/20\n",
            "138/138 [==============================] - 42s 290ms/step - loss: 0.1054 - accuracy: 0.9663 - val_loss: 0.1152 - val_accuracy: 0.9623\n",
            "Epoch 15/20\n",
            "138/138 [==============================] - 42s 290ms/step - loss: 0.1041 - accuracy: 0.9667 - val_loss: 0.1200 - val_accuracy: 0.9596\n",
            "Epoch 16/20\n",
            "138/138 [==============================] - 42s 290ms/step - loss: 0.1020 - accuracy: 0.9687 - val_loss: 0.1222 - val_accuracy: 0.9596\n",
            "Epoch 17/20\n",
            "138/138 [==============================] - 42s 289ms/step - loss: 0.0948 - accuracy: 0.9708 - val_loss: 0.1347 - val_accuracy: 0.9550\n",
            "Epoch 18/20\n",
            "138/138 [==============================] - 42s 291ms/step - loss: 0.0926 - accuracy: 0.9719 - val_loss: 0.1161 - val_accuracy: 0.9632\n",
            "Epoch 19/20\n",
            "138/138 [==============================] - 42s 291ms/step - loss: 0.0962 - accuracy: 0.9699 - val_loss: 0.1153 - val_accuracy: 0.9614\n",
            "Epoch 20/20\n",
            "138/138 [==============================] - 42s 291ms/step - loss: 0.0921 - accuracy: 0.9706 - val_loss: 0.1178 - val_accuracy: 0.9642\n"
          ]
        },
        {
          "output_type": "stream",
          "name": "stderr",
          "text": [
            "\u001b[32m[I 2022-12-26 22:40:58,914]\u001b[0m Trial 73 finished with value: 0.9640287756919861 and parameters: {'n_layers': 2, 'n_units_L0': 448, 'f_activation_L0': 'relu', 'dropout_L0': 0.0, 'n_units_L1': 256, 'f_activation_L1': 'elu', 'dropout_L1': 0.6, 'learning_rate': 0.0061722425126831, 'momentum': 0.7624760051024634, 'random_state': 461, 'epochs': 20}. Best is trial 64 with value: 0.9703237414360046.\u001b[0m\n"
          ]
        },
        {
          "output_type": "stream",
          "name": "stdout",
          "text": [
            "Found 4447 images belonging to 6 classes.\n",
            "Found 1112 images belonging to 6 classes.\n",
            "Epoch 1/20\n",
            "138/138 [==============================] - ETA: 0s - loss: 0.6825 - accuracy: 0.7934"
          ]
        },
        {
          "output_type": "stream",
          "name": "stderr",
          "text": [
            "\u001b[32m[I 2022-12-26 22:41:50,821]\u001b[0m Trial 74 pruned. Trial was pruned at epoch 0.\u001b[0m\n"
          ]
        },
        {
          "output_type": "stream",
          "name": "stdout",
          "text": [
            "Found 4447 images belonging to 6 classes.\n",
            "Found 1112 images belonging to 6 classes.\n",
            "Epoch 1/20\n",
            "138/138 [==============================] - 45s 296ms/step - loss: 0.7786 - accuracy: 0.8168 - val_loss: 0.3147 - val_accuracy: 0.9476\n",
            "Epoch 2/20\n",
            "138/138 [==============================] - 42s 289ms/step - loss: 0.3074 - accuracy: 0.9234 - val_loss: 0.1963 - val_accuracy: 0.9550\n",
            "Epoch 3/20\n",
            "138/138 [==============================] - 42s 289ms/step - loss: 0.2333 - accuracy: 0.9332 - val_loss: 0.1691 - val_accuracy: 0.9586\n",
            "Epoch 4/20\n",
            "138/138 [==============================] - 42s 288ms/step - loss: 0.2072 - accuracy: 0.9402 - val_loss: 0.1496 - val_accuracy: 0.9651\n",
            "Epoch 5/20\n",
            "138/138 [==============================] - 42s 290ms/step - loss: 0.1876 - accuracy: 0.9422 - val_loss: 0.1375 - val_accuracy: 0.9669\n",
            "Epoch 6/20\n",
            "138/138 [==============================] - 42s 291ms/step - loss: 0.1696 - accuracy: 0.9470 - val_loss: 0.1355 - val_accuracy: 0.9669\n",
            "Epoch 7/20\n",
            "138/138 [==============================] - 42s 288ms/step - loss: 0.1663 - accuracy: 0.9481 - val_loss: 0.1359 - val_accuracy: 0.9660\n",
            "Epoch 8/20\n",
            "138/138 [==============================] - 42s 288ms/step - loss: 0.1573 - accuracy: 0.9511 - val_loss: 0.1315 - val_accuracy: 0.9660\n",
            "Epoch 9/20\n",
            "138/138 [==============================] - 42s 288ms/step - loss: 0.1450 - accuracy: 0.9533 - val_loss: 0.1376 - val_accuracy: 0.9642\n",
            "Epoch 10/20\n",
            "138/138 [==============================] - 42s 288ms/step - loss: 0.1433 - accuracy: 0.9511 - val_loss: 0.1312 - val_accuracy: 0.9660\n",
            "Epoch 11/20\n",
            "138/138 [==============================] - 42s 294ms/step - loss: 0.1387 - accuracy: 0.9547 - val_loss: 0.1174 - val_accuracy: 0.9660\n",
            "Epoch 12/20\n",
            "138/138 [==============================] - 42s 291ms/step - loss: 0.1294 - accuracy: 0.9606 - val_loss: 0.1245 - val_accuracy: 0.9651\n",
            "Epoch 13/20\n",
            "138/138 [==============================] - 42s 294ms/step - loss: 0.1279 - accuracy: 0.9601 - val_loss: 0.1191 - val_accuracy: 0.9678\n",
            "Epoch 14/20\n",
            "138/138 [==============================] - 42s 290ms/step - loss: 0.1281 - accuracy: 0.9567 - val_loss: 0.1189 - val_accuracy: 0.9642\n",
            "Epoch 15/20\n",
            "138/138 [==============================] - 42s 291ms/step - loss: 0.1217 - accuracy: 0.9622 - val_loss: 0.1245 - val_accuracy: 0.9688\n",
            "Epoch 16/20\n",
            "138/138 [==============================] - 42s 291ms/step - loss: 0.1191 - accuracy: 0.9604 - val_loss: 0.1248 - val_accuracy: 0.9660\n",
            "Epoch 17/20\n",
            "138/138 [==============================] - 42s 291ms/step - loss: 0.1156 - accuracy: 0.9617 - val_loss: 0.1247 - val_accuracy: 0.9660\n",
            "Epoch 18/20\n",
            "138/138 [==============================] - 42s 291ms/step - loss: 0.1146 - accuracy: 0.9595 - val_loss: 0.1256 - val_accuracy: 0.9660\n",
            "Epoch 19/20\n",
            "138/138 [==============================] - 42s 291ms/step - loss: 0.1179 - accuracy: 0.9629 - val_loss: 0.1252 - val_accuracy: 0.9660\n",
            "Epoch 20/20\n",
            "138/138 [==============================] - 42s 290ms/step - loss: 0.1076 - accuracy: 0.9678 - val_loss: 0.1214 - val_accuracy: 0.9669\n"
          ]
        },
        {
          "output_type": "stream",
          "name": "stderr",
          "text": [
            "\u001b[32m[I 2022-12-26 22:56:13,484]\u001b[0m Trial 75 finished with value: 0.9649280309677124 and parameters: {'n_layers': 1, 'n_units_L0': 448, 'f_activation_L0': 'relu', 'dropout_L0': 0.0, 'learning_rate': 0.00822347529156899, 'momentum': 0.5659123158772276, 'random_state': 446, 'epochs': 20}. Best is trial 64 with value: 0.9703237414360046.\u001b[0m\n"
          ]
        },
        {
          "output_type": "stream",
          "name": "stdout",
          "text": [
            "Found 4447 images belonging to 6 classes.\n",
            "Found 1112 images belonging to 6 classes.\n",
            "Epoch 1/20\n",
            "138/138 [==============================] - 46s 299ms/step - loss: 0.6581 - accuracy: 0.8222 - val_loss: 0.2389 - val_accuracy: 0.9476\n",
            "Epoch 2/20\n",
            "138/138 [==============================] - 42s 291ms/step - loss: 0.2582 - accuracy: 0.9214 - val_loss: 0.1700 - val_accuracy: 0.9513\n",
            "Epoch 3/20\n",
            "138/138 [==============================] - 42s 289ms/step - loss: 0.2034 - accuracy: 0.9373 - val_loss: 0.1459 - val_accuracy: 0.9540\n",
            "Epoch 4/20\n",
            "138/138 [==============================] - 42s 290ms/step - loss: 0.1840 - accuracy: 0.9395 - val_loss: 0.1537 - val_accuracy: 0.9531\n",
            "Epoch 5/20\n",
            "138/138 [==============================] - 42s 291ms/step - loss: 0.1660 - accuracy: 0.9436 - val_loss: 0.1279 - val_accuracy: 0.9614\n",
            "Epoch 6/20\n",
            "138/138 [==============================] - 42s 289ms/step - loss: 0.1573 - accuracy: 0.9445 - val_loss: 0.1170 - val_accuracy: 0.9614\n",
            "Epoch 7/20\n",
            "138/138 [==============================] - 42s 290ms/step - loss: 0.1454 - accuracy: 0.9506 - val_loss: 0.1266 - val_accuracy: 0.9596\n",
            "Epoch 8/20\n",
            "138/138 [==============================] - 42s 290ms/step - loss: 0.1472 - accuracy: 0.9527 - val_loss: 0.1163 - val_accuracy: 0.9614\n",
            "Epoch 9/20\n",
            "138/138 [==============================] - 42s 290ms/step - loss: 0.1325 - accuracy: 0.9579 - val_loss: 0.1107 - val_accuracy: 0.9642\n",
            "Epoch 10/20\n",
            "138/138 [==============================] - 42s 291ms/step - loss: 0.1266 - accuracy: 0.9610 - val_loss: 0.1206 - val_accuracy: 0.9642\n",
            "Epoch 11/20\n",
            "138/138 [==============================] - 42s 290ms/step - loss: 0.1264 - accuracy: 0.9583 - val_loss: 0.1063 - val_accuracy: 0.9642\n",
            "Epoch 12/20\n",
            "138/138 [==============================] - 42s 290ms/step - loss: 0.1137 - accuracy: 0.9629 - val_loss: 0.1110 - val_accuracy: 0.9660\n",
            "Epoch 13/20\n",
            "138/138 [==============================] - 42s 291ms/step - loss: 0.1093 - accuracy: 0.9663 - val_loss: 0.1135 - val_accuracy: 0.9669\n",
            "Epoch 14/20\n",
            "138/138 [==============================] - 42s 290ms/step - loss: 0.1085 - accuracy: 0.9660 - val_loss: 0.1131 - val_accuracy: 0.9642\n",
            "Epoch 15/20\n",
            "138/138 [==============================] - 42s 291ms/step - loss: 0.1088 - accuracy: 0.9644 - val_loss: 0.1206 - val_accuracy: 0.9605\n",
            "Epoch 16/20\n",
            "138/138 [==============================] - 42s 290ms/step - loss: 0.1023 - accuracy: 0.9656 - val_loss: 0.1125 - val_accuracy: 0.9632\n",
            "Epoch 17/20\n",
            "138/138 [==============================] - 42s 290ms/step - loss: 0.0954 - accuracy: 0.9701 - val_loss: 0.1123 - val_accuracy: 0.9642\n",
            "Epoch 18/20\n",
            "138/138 [==============================] - 42s 288ms/step - loss: 0.0953 - accuracy: 0.9674 - val_loss: 0.1093 - val_accuracy: 0.9706\n",
            "Epoch 19/20\n",
            "138/138 [==============================] - 42s 288ms/step - loss: 0.0914 - accuracy: 0.9712 - val_loss: 0.1171 - val_accuracy: 0.9642\n",
            "Epoch 20/20\n",
            "138/138 [==============================] - 42s 290ms/step - loss: 0.0901 - accuracy: 0.9701 - val_loss: 0.1166 - val_accuracy: 0.9642\n"
          ]
        },
        {
          "output_type": "stream",
          "name": "stderr",
          "text": [
            "\u001b[32m[I 2022-12-26 23:10:36,039]\u001b[0m Trial 76 finished with value: 0.9649280309677124 and parameters: {'n_layers': 2, 'n_units_L0': 448, 'f_activation_L0': 'relu', 'dropout_L0': 0.0, 'n_units_L1': 256, 'f_activation_L1': 'elu', 'dropout_L1': 0.4, 'learning_rate': 0.00845339453979224, 'momentum': 0.6022107273120002, 'random_state': 310, 'epochs': 20}. Best is trial 64 with value: 0.9703237414360046.\u001b[0m\n"
          ]
        },
        {
          "output_type": "stream",
          "name": "stdout",
          "text": [
            "Found 4447 images belonging to 6 classes.\n",
            "Found 1112 images belonging to 6 classes.\n",
            "Epoch 1/20\n",
            "138/138 [==============================] - 46s 299ms/step - loss: 0.6805 - accuracy: 0.8100 - val_loss: 0.2177 - val_accuracy: 0.9540\n",
            "Epoch 2/20\n",
            "138/138 [==============================] - 42s 291ms/step - loss: 0.2526 - accuracy: 0.9266 - val_loss: 0.1508 - val_accuracy: 0.9568\n",
            "Epoch 3/20\n",
            "138/138 [==============================] - 42s 290ms/step - loss: 0.2059 - accuracy: 0.9357 - val_loss: 0.1389 - val_accuracy: 0.9623\n",
            "Epoch 4/20\n",
            "138/138 [==============================] - 42s 290ms/step - loss: 0.1795 - accuracy: 0.9384 - val_loss: 0.1232 - val_accuracy: 0.9605\n",
            "Epoch 5/20\n",
            "138/138 [==============================] - 42s 292ms/step - loss: 0.1702 - accuracy: 0.9445 - val_loss: 0.1239 - val_accuracy: 0.9623\n",
            "Epoch 6/20\n",
            "138/138 [==============================] - 42s 291ms/step - loss: 0.1534 - accuracy: 0.9484 - val_loss: 0.1219 - val_accuracy: 0.9623\n",
            "Epoch 7/20\n",
            "138/138 [==============================] - 42s 290ms/step - loss: 0.1488 - accuracy: 0.9513 - val_loss: 0.1165 - val_accuracy: 0.9632\n",
            "Epoch 8/20\n",
            "138/138 [==============================] - 42s 290ms/step - loss: 0.1396 - accuracy: 0.9520 - val_loss: 0.1155 - val_accuracy: 0.9651\n",
            "Epoch 9/20\n",
            "138/138 [==============================] - 42s 292ms/step - loss: 0.1260 - accuracy: 0.9599 - val_loss: 0.1062 - val_accuracy: 0.9660\n",
            "Epoch 10/20\n",
            "138/138 [==============================] - 42s 289ms/step - loss: 0.1264 - accuracy: 0.9592 - val_loss: 0.1185 - val_accuracy: 0.9688\n",
            "Epoch 11/20\n",
            "138/138 [==============================] - 42s 291ms/step - loss: 0.1251 - accuracy: 0.9581 - val_loss: 0.1102 - val_accuracy: 0.9669\n",
            "Epoch 12/20\n",
            "138/138 [==============================] - 42s 290ms/step - loss: 0.1195 - accuracy: 0.9617 - val_loss: 0.1123 - val_accuracy: 0.9632\n",
            "Epoch 13/20\n",
            "138/138 [==============================] - 42s 291ms/step - loss: 0.1131 - accuracy: 0.9606 - val_loss: 0.1147 - val_accuracy: 0.9614\n",
            "Epoch 14/20\n",
            "138/138 [==============================] - 42s 288ms/step - loss: 0.1115 - accuracy: 0.9642 - val_loss: 0.1099 - val_accuracy: 0.9678\n",
            "Epoch 15/20\n",
            "138/138 [==============================] - 42s 289ms/step - loss: 0.1093 - accuracy: 0.9663 - val_loss: 0.1083 - val_accuracy: 0.9678\n",
            "Epoch 16/20\n",
            "138/138 [==============================] - 42s 289ms/step - loss: 0.1048 - accuracy: 0.9667 - val_loss: 0.1178 - val_accuracy: 0.9669\n",
            "Epoch 17/20\n",
            "138/138 [==============================] - 42s 291ms/step - loss: 0.1019 - accuracy: 0.9685 - val_loss: 0.1148 - val_accuracy: 0.9660\n",
            "Epoch 18/20\n",
            "138/138 [==============================] - 42s 291ms/step - loss: 0.1044 - accuracy: 0.9656 - val_loss: 0.1250 - val_accuracy: 0.9642\n",
            "Epoch 19/20\n",
            "138/138 [==============================] - 42s 290ms/step - loss: 0.0952 - accuracy: 0.9685 - val_loss: 0.1127 - val_accuracy: 0.9651\n",
            "Epoch 20/20\n",
            "138/138 [==============================] - 42s 289ms/step - loss: 0.0915 - accuracy: 0.9712 - val_loss: 0.1107 - val_accuracy: 0.9669\n"
          ]
        },
        {
          "output_type": "stream",
          "name": "stderr",
          "text": [
            "\u001b[32m[I 2022-12-26 23:24:59,617]\u001b[0m Trial 77 finished with value: 0.9658273458480835 and parameters: {'n_layers': 2, 'n_units_L0': 448, 'f_activation_L0': 'relu', 'dropout_L0': 0.0, 'n_units_L1': 256, 'f_activation_L1': 'elu', 'dropout_L1': 0.4, 'learning_rate': 0.00784117875707295, 'momentum': 0.6099961502568131, 'random_state': 213, 'epochs': 20}. Best is trial 64 with value: 0.9703237414360046.\u001b[0m\n"
          ]
        },
        {
          "output_type": "stream",
          "name": "stdout",
          "text": [
            "Found 4447 images belonging to 6 classes.\n",
            "Found 1112 images belonging to 6 classes.\n",
            "Epoch 1/20\n",
            "138/138 [==============================] - ETA: 0s - loss: 0.6779 - accuracy: 0.8138"
          ]
        },
        {
          "output_type": "stream",
          "name": "stderr",
          "text": [
            "\u001b[32m[I 2022-12-26 23:25:51,484]\u001b[0m Trial 78 pruned. Trial was pruned at epoch 0.\u001b[0m\n"
          ]
        },
        {
          "output_type": "stream",
          "name": "stdout",
          "text": [
            "Found 4447 images belonging to 6 classes.\n",
            "Found 1112 images belonging to 6 classes.\n",
            "Epoch 1/20\n",
            "138/138 [==============================] - ETA: 0s - loss: 1.0345 - accuracy: 0.7243"
          ]
        },
        {
          "output_type": "stream",
          "name": "stderr",
          "text": [
            "\u001b[32m[I 2022-12-26 23:26:43,868]\u001b[0m Trial 79 pruned. Trial was pruned at epoch 0.\u001b[0m\n"
          ]
        },
        {
          "output_type": "stream",
          "name": "stdout",
          "text": [
            "Found 4447 images belonging to 6 classes.\n",
            "Found 1112 images belonging to 6 classes.\n",
            "Epoch 1/20\n",
            "138/138 [==============================] - 46s 300ms/step - loss: 0.8123 - accuracy: 0.7839 - val_loss: 0.2821 - val_accuracy: 0.9522\n",
            "Epoch 2/20\n",
            "138/138 [==============================] - 41s 287ms/step - loss: 0.2998 - accuracy: 0.9162 - val_loss: 0.1769 - val_accuracy: 0.9586\n",
            "Epoch 3/20\n",
            "138/138 [==============================] - 42s 288ms/step - loss: 0.2222 - accuracy: 0.9318 - val_loss: 0.1474 - val_accuracy: 0.9586\n",
            "Epoch 4/20\n",
            "138/138 [==============================] - 42s 289ms/step - loss: 0.1984 - accuracy: 0.9345 - val_loss: 0.1358 - val_accuracy: 0.9559\n",
            "Epoch 5/20\n",
            "138/138 [==============================] - 42s 289ms/step - loss: 0.1785 - accuracy: 0.9402 - val_loss: 0.1364 - val_accuracy: 0.9550\n",
            "Epoch 6/20\n",
            "138/138 [==============================] - 42s 289ms/step - loss: 0.1597 - accuracy: 0.9513 - val_loss: 0.1274 - val_accuracy: 0.9577\n",
            "Epoch 7/20\n",
            "138/138 [==============================] - 42s 288ms/step - loss: 0.1544 - accuracy: 0.9518 - val_loss: 0.1223 - val_accuracy: 0.9596\n",
            "Epoch 8/20\n",
            "138/138 [==============================] - 42s 289ms/step - loss: 0.1477 - accuracy: 0.9518 - val_loss: 0.1259 - val_accuracy: 0.9568\n",
            "Epoch 9/20\n",
            "138/138 [==============================] - ETA: 0s - loss: 0.1372 - accuracy: 0.9561"
          ]
        },
        {
          "output_type": "stream",
          "name": "stderr",
          "text": [
            "\u001b[32m[I 2022-12-26 23:33:10,345]\u001b[0m Trial 80 pruned. Trial was pruned at epoch 8.\u001b[0m\n"
          ]
        },
        {
          "output_type": "stream",
          "name": "stdout",
          "text": [
            "Found 4447 images belonging to 6 classes.\n",
            "Found 1112 images belonging to 6 classes.\n",
            "Epoch 1/20\n",
            "138/138 [==============================] - ETA: 0s - loss: 0.5569 - accuracy: 0.8439"
          ]
        },
        {
          "output_type": "stream",
          "name": "stderr",
          "text": [
            "\u001b[32m[I 2022-12-26 23:34:02,093]\u001b[0m Trial 81 pruned. Trial was pruned at epoch 0.\u001b[0m\n"
          ]
        },
        {
          "output_type": "stream",
          "name": "stdout",
          "text": [
            "Found 4447 images belonging to 6 classes.\n",
            "Found 1112 images belonging to 6 classes.\n",
            "Epoch 1/20\n",
            "138/138 [==============================] - ETA: 0s - loss: 0.8601 - accuracy: 0.7629"
          ]
        },
        {
          "output_type": "stream",
          "name": "stderr",
          "text": [
            "\u001b[32m[I 2022-12-26 23:34:54,851]\u001b[0m Trial 82 pruned. Trial was pruned at epoch 0.\u001b[0m\n"
          ]
        },
        {
          "output_type": "stream",
          "name": "stdout",
          "text": [
            "\n",
            "Trial Completed: Kitchenware_CNN\n",
            "\n"
          ]
        }
      ]
    },
    {
      "cell_type": "code",
      "source": [
        "def Study_Statistics(study, pruned_trials, complete_trials):\n",
        "  print(f\"{study.study_name} study statistics:\")\n",
        "  print(\"  Number of finished trials: \", len(study.trials))\n",
        "  print(\"  Number of pruned trials: \", len(pruned_trials))\n",
        "  print(\"  Number of complete trials: \", len(complete_trials))\n",
        "  # Best trial\n",
        "  print(\"Best trial:\")\n",
        "  trial = study.best_trial\n",
        "  # Accuracy value\n",
        "  print(\"  Value: \", trial.value)\n",
        "  # Best trial parameters\n",
        "  print(\"  Params: \")\n",
        "  for key, value in trial.params.items():\n",
        "      print(f\"    {key}: {value}\")\n",
        "\n",
        "Study_Statistics(study, pruned_trials, complete_trials)"
      ],
      "metadata": {
        "colab": {
          "base_uri": "https://localhost:8080/"
        },
        "id": "Vtl6V_NUr7Q9",
        "outputId": "a4263397-daf2-4a1f-a107-4abbee6e1d46"
      },
      "execution_count": null,
      "outputs": [
        {
          "output_type": "stream",
          "name": "stdout",
          "text": [
            "Kitchenware_CNN study statistics:\n",
            "  Number of finished trials:  83\n",
            "  Number of pruned trials:  69\n",
            "  Number of complete trials:  14\n",
            "Best trial:\n",
            "  Value:  0.9703237414360046\n",
            "  Params: \n",
            "    n_layers: 1\n",
            "    n_units_L0: 480\n",
            "    f_activation_L0: relu\n",
            "    dropout_L0: 0.0\n",
            "    learning_rate: 0.007164294777909971\n",
            "    momentum: 0.8281463565323526\n",
            "    random_state: 563\n",
            "    epochs: 20\n"
          ]
        }
      ]
    },
    {
      "cell_type": "markdown",
      "source": [
        "##5.2. Creating a larger model in epochs"
      ],
      "metadata": {
        "id": "lZjuInPbwnvQ"
      }
    },
    {
      "cell_type": "markdown",
      "source": [
        "<p align=\"justify\">After get the best parameters for our CNN model we need to evaluate its stability, because the number of epochs are not many in the trial. So, I decided to build a function to train our model with more epochs.</ p>"
      ],
      "metadata": {
        "id": "Ozw7u1mfwrew"
      }
    },
    {
      "cell_type": "code",
      "source": [
        "# This callback allows to get the best model when a model is being fitted\n",
        "from keras.callbacks import ModelCheckpoint\n",
        "\n",
        "# This function is similar to 'create_model(trial)' function \n",
        "# Also this function accepts as arguments the previous study \n",
        "def MakeCNN(study,\n",
        "            verbose):\n",
        "  #\n",
        "  BaseModel = tf.keras.applications.Xception(weights = \"imagenet\",\n",
        "                                            input_shape=(299, 299, 3),\n",
        "                                            include_top = False)\n",
        "  BaseModel.trainable = False\n",
        "  inputs = Input(shape=(299, 299, 3))\n",
        "  x = BaseModel(inputs, training=False)\n",
        "  x = GlobalAveragePooling2D()(x)\n",
        "\n",
        "  for i in range(study.best_trial.params['n_layers']):\n",
        "    x = Dense(# Number of neurons for the ith hidden layer\n",
        "              units= study.best_trial.params[f'n_units_L{i}'],\n",
        "              # Activation function\n",
        "              activation=study.best_trial.params[f'f_activation_L{i}'],\n",
        "              #  We can add an alias to the ith hidden layer\n",
        "              name= f'{i+1}HiddenLayer_'+str(study.best_trial.params[f'n_units_L{i}'])+'Neurons')(x)\n",
        "    \n",
        "    x = Dropout(rate= study.best_trial.params[f'dropout_L{i}'],        # Dropout layer rate\n",
        "                name=f\"{i+1}Dropout\")(x)\n",
        "\n",
        "  # At the end I add one last layer: Output Layer\n",
        "  outputs = Dense(units=6, \n",
        "                  activation = \"softmax\")(x)                           # Activation function for the output layer\n",
        "\n",
        "  model = Model(inputs, outputs)\n",
        "\n",
        "  # Model compilation\n",
        "  model.compile(loss=\"categorical_crossentropy\",\n",
        "                optimizer=SGD(learning_rate = study.best_trial.params['learning_rate'],\n",
        "                              momentum = study.best_trial.params['momentum']),\n",
        "                metrics=\"accuracy\")\n",
        "\n",
        "  # Path where our 'best_model.h5' file is going to be saved \n",
        "  checkpoint_filepath = './best_model.h5' \n",
        "\n",
        "  model_checkpoint_callback = ModelCheckpoint(filepath=checkpoint_filepath,\n",
        "                                              monitor='val_accuracy',\n",
        "                                              mode='max',\n",
        "                                              save_best_only=True)\n",
        "\n",
        "  ####\n",
        "  if os.path.exists(\"Kitchenware_data\"):\n",
        "    shutil.rmtree('Kitchenware_data')\n",
        "\n",
        "  Dir_Data = \"Kitchenware_data\"\n",
        "  Dir = (\"Full_Train\", \"Test\", \"Train\", \"Val\")\n",
        "\n",
        "  Full_Train_Size = 0.8\n",
        "  Random_State =study.best_trial.params['random_state']            \n",
        "\n",
        "  df_Full_Train, df_Test, df_Train, df_Val = Making_Directory(ProjectDirectory= Dir_Data,\n",
        "                                                              Directories = Dir,\n",
        "                                                              DataFrame = df_train,\n",
        "                                                              FullTrainSize = Full_Train_Size,\n",
        "                                                              RandomState = Random_State)\n",
        "  ####\n",
        "  TamImagen =  299\n",
        "  batch_size = 32\n",
        "\n",
        "  train_data_gen = ImageDataGenerator(zoom_range =   [0.80, 1.0],\n",
        "                                      brightness_range =[0.8,1.2],\n",
        "                                      vertical_flip = True,  \n",
        "                                      horizontal_flip = True, \n",
        "                                      #shear_range = 30,\n",
        "                                      #rotation_range = 90,                                \n",
        "                                      preprocessing_function=keras.applications.xception.preprocess_input)\n",
        "\n",
        "  test_data_gen = ImageDataGenerator(preprocessing_function=keras.applications.xception.preprocess_input)\n",
        "\n",
        "  train_generator = train_data_gen.flow_from_directory(\"./Kitchenware_data/Full_Train\", \n",
        "                                                      (TamImagen, TamImagen),\n",
        "                                                      batch_size = batch_size,\n",
        "                                                      class_mode = \"categorical\")\n",
        "\n",
        "  valid_generator = test_data_gen.flow_from_directory(\"./Kitchenware_data/Test\", \n",
        "                                                      (TamImagen, TamImagen),\n",
        "                                                      batch_size = batch_size,\n",
        "                                                      class_mode = \"categorical\")\n",
        "  \n",
        "  history = model.fit(train_generator,\n",
        "                      steps_per_epoch = train_generator.n//batch_size,\n",
        "                      validation_data = valid_generator,\n",
        "                      validation_steps = valid_generator.n//batch_size,\n",
        "                      epochs= int(study.best_trial.params['epochs']*5),\n",
        "                      callbacks=[model_checkpoint_callback],\n",
        "                      workers=8,\n",
        "                      verbose = 1)\n",
        "  return model,history"
      ],
      "metadata": {
        "id": "8gH7rIgDpYzj"
      },
      "execution_count": null,
      "outputs": []
    },
    {
      "cell_type": "code",
      "source": [
        "model, model_history = MakeCNN(study,\n",
        "                               verbose=1)"
      ],
      "metadata": {
        "id": "d1xkwigipg34",
        "colab": {
          "base_uri": "https://localhost:8080/"
        },
        "outputId": "03059d00-51fc-4b20-b79e-459d370ddb6a"
      },
      "execution_count": null,
      "outputs": [
        {
          "output_type": "stream",
          "name": "stdout",
          "text": [
            "Found 4447 images belonging to 6 classes.\n",
            "Found 1112 images belonging to 6 classes.\n",
            "Epoch 1/100\n",
            "138/138 [==============================] - 46s 299ms/step - loss: 0.5580 - accuracy: 0.8480 - val_loss: 0.1990 - val_accuracy: 0.9485\n",
            "Epoch 2/100\n",
            "138/138 [==============================] - 42s 292ms/step - loss: 0.2170 - accuracy: 0.9398 - val_loss: 0.1545 - val_accuracy: 0.9577\n",
            "Epoch 3/100\n",
            "138/138 [==============================] - 42s 290ms/step - loss: 0.1751 - accuracy: 0.9465 - val_loss: 0.1312 - val_accuracy: 0.9623\n",
            "Epoch 4/100\n",
            "138/138 [==============================] - 42s 289ms/step - loss: 0.1570 - accuracy: 0.9481 - val_loss: 0.1278 - val_accuracy: 0.9596\n",
            "Epoch 5/100\n",
            "138/138 [==============================] - 42s 288ms/step - loss: 0.1454 - accuracy: 0.9558 - val_loss: 0.1347 - val_accuracy: 0.9550\n",
            "Epoch 6/100\n",
            "138/138 [==============================] - 42s 293ms/step - loss: 0.1427 - accuracy: 0.9508 - val_loss: 0.1125 - val_accuracy: 0.9688\n",
            "Epoch 7/100\n",
            "138/138 [==============================] - 42s 288ms/step - loss: 0.1289 - accuracy: 0.9608 - val_loss: 0.1157 - val_accuracy: 0.9660\n",
            "Epoch 8/100\n",
            "138/138 [==============================] - 42s 288ms/step - loss: 0.1208 - accuracy: 0.9606 - val_loss: 0.1144 - val_accuracy: 0.9642\n",
            "Epoch 9/100\n",
            "138/138 [==============================] - 42s 289ms/step - loss: 0.1135 - accuracy: 0.9647 - val_loss: 0.1225 - val_accuracy: 0.9605\n",
            "Epoch 10/100\n",
            "138/138 [==============================] - 42s 287ms/step - loss: 0.1139 - accuracy: 0.9626 - val_loss: 0.1090 - val_accuracy: 0.9688\n",
            "Epoch 11/100\n",
            "138/138 [==============================] - 42s 291ms/step - loss: 0.1064 - accuracy: 0.9674 - val_loss: 0.1121 - val_accuracy: 0.9706\n",
            "Epoch 12/100\n",
            "138/138 [==============================] - 42s 291ms/step - loss: 0.0973 - accuracy: 0.9708 - val_loss: 0.1101 - val_accuracy: 0.9743\n",
            "Epoch 13/100\n",
            "138/138 [==============================] - 42s 292ms/step - loss: 0.0999 - accuracy: 0.9706 - val_loss: 0.1093 - val_accuracy: 0.9706\n",
            "Epoch 14/100\n",
            "138/138 [==============================] - 42s 288ms/step - loss: 0.1048 - accuracy: 0.9681 - val_loss: 0.1134 - val_accuracy: 0.9660\n",
            "Epoch 15/100\n",
            "138/138 [==============================] - 42s 290ms/step - loss: 0.0988 - accuracy: 0.9690 - val_loss: 0.1056 - val_accuracy: 0.9706\n",
            "Epoch 16/100\n",
            "138/138 [==============================] - 42s 289ms/step - loss: 0.0936 - accuracy: 0.9674 - val_loss: 0.1059 - val_accuracy: 0.9715\n",
            "Epoch 17/100\n",
            "138/138 [==============================] - 42s 289ms/step - loss: 0.0856 - accuracy: 0.9740 - val_loss: 0.1093 - val_accuracy: 0.9660\n",
            "Epoch 18/100\n",
            "138/138 [==============================] - 42s 289ms/step - loss: 0.0842 - accuracy: 0.9717 - val_loss: 0.1074 - val_accuracy: 0.9724\n",
            "Epoch 19/100\n",
            "138/138 [==============================] - 42s 289ms/step - loss: 0.0840 - accuracy: 0.9749 - val_loss: 0.1073 - val_accuracy: 0.9688\n",
            "Epoch 20/100\n",
            "138/138 [==============================] - 42s 289ms/step - loss: 0.0795 - accuracy: 0.9753 - val_loss: 0.1109 - val_accuracy: 0.9688\n",
            "Epoch 21/100\n",
            "138/138 [==============================] - 42s 290ms/step - loss: 0.0785 - accuracy: 0.9751 - val_loss: 0.1141 - val_accuracy: 0.9669\n",
            "Epoch 22/100\n",
            "138/138 [==============================] - 42s 289ms/step - loss: 0.0745 - accuracy: 0.9764 - val_loss: 0.1101 - val_accuracy: 0.9697\n",
            "Epoch 23/100\n",
            "138/138 [==============================] - 42s 289ms/step - loss: 0.0714 - accuracy: 0.9789 - val_loss: 0.1072 - val_accuracy: 0.9715\n",
            "Epoch 24/100\n",
            "138/138 [==============================] - 42s 289ms/step - loss: 0.0745 - accuracy: 0.9778 - val_loss: 0.0971 - val_accuracy: 0.9724\n",
            "Epoch 25/100\n",
            "138/138 [==============================] - 42s 290ms/step - loss: 0.0725 - accuracy: 0.9780 - val_loss: 0.1179 - val_accuracy: 0.9651\n",
            "Epoch 26/100\n",
            "138/138 [==============================] - 42s 289ms/step - loss: 0.0746 - accuracy: 0.9758 - val_loss: 0.1131 - val_accuracy: 0.9660\n",
            "Epoch 27/100\n",
            "138/138 [==============================] - 42s 289ms/step - loss: 0.0680 - accuracy: 0.9807 - val_loss: 0.1087 - val_accuracy: 0.9688\n",
            "Epoch 28/100\n",
            "138/138 [==============================] - 42s 289ms/step - loss: 0.0672 - accuracy: 0.9783 - val_loss: 0.1075 - val_accuracy: 0.9706\n",
            "Epoch 29/100\n",
            "138/138 [==============================] - 42s 289ms/step - loss: 0.0658 - accuracy: 0.9801 - val_loss: 0.1104 - val_accuracy: 0.9715\n",
            "Epoch 30/100\n",
            "138/138 [==============================] - 42s 294ms/step - loss: 0.0633 - accuracy: 0.9812 - val_loss: 0.1094 - val_accuracy: 0.9697\n",
            "Epoch 31/100\n",
            "138/138 [==============================] - 42s 292ms/step - loss: 0.0603 - accuracy: 0.9819 - val_loss: 0.1091 - val_accuracy: 0.9706\n",
            "Epoch 32/100\n",
            "138/138 [==============================] - 42s 291ms/step - loss: 0.0592 - accuracy: 0.9839 - val_loss: 0.1151 - val_accuracy: 0.9669\n",
            "Epoch 33/100\n",
            "138/138 [==============================] - 42s 292ms/step - loss: 0.0610 - accuracy: 0.9821 - val_loss: 0.1077 - val_accuracy: 0.9678\n",
            "Epoch 34/100\n",
            "138/138 [==============================] - 42s 290ms/step - loss: 0.0565 - accuracy: 0.9837 - val_loss: 0.1299 - val_accuracy: 0.9660\n",
            "Epoch 35/100\n",
            "138/138 [==============================] - 42s 291ms/step - loss: 0.0552 - accuracy: 0.9853 - val_loss: 0.1101 - val_accuracy: 0.9688\n",
            "Epoch 36/100\n",
            "138/138 [==============================] - 42s 290ms/step - loss: 0.0544 - accuracy: 0.9851 - val_loss: 0.1096 - val_accuracy: 0.9688\n",
            "Epoch 37/100\n",
            "138/138 [==============================] - 42s 291ms/step - loss: 0.0554 - accuracy: 0.9841 - val_loss: 0.1082 - val_accuracy: 0.9724\n",
            "Epoch 38/100\n",
            "138/138 [==============================] - 42s 290ms/step - loss: 0.0499 - accuracy: 0.9864 - val_loss: 0.1094 - val_accuracy: 0.9697\n",
            "Epoch 39/100\n",
            "138/138 [==============================] - 42s 289ms/step - loss: 0.0507 - accuracy: 0.9857 - val_loss: 0.1069 - val_accuracy: 0.9743\n",
            "Epoch 40/100\n",
            "138/138 [==============================] - 42s 289ms/step - loss: 0.0479 - accuracy: 0.9862 - val_loss: 0.1206 - val_accuracy: 0.9642\n",
            "Epoch 41/100\n",
            "138/138 [==============================] - 42s 289ms/step - loss: 0.0484 - accuracy: 0.9862 - val_loss: 0.0984 - val_accuracy: 0.9743\n",
            "Epoch 42/100\n",
            "138/138 [==============================] - 42s 290ms/step - loss: 0.0478 - accuracy: 0.9853 - val_loss: 0.1142 - val_accuracy: 0.9688\n",
            "Epoch 43/100\n",
            "138/138 [==============================] - 42s 291ms/step - loss: 0.0446 - accuracy: 0.9903 - val_loss: 0.1159 - val_accuracy: 0.9651\n",
            "Epoch 44/100\n",
            "138/138 [==============================] - 42s 290ms/step - loss: 0.0449 - accuracy: 0.9882 - val_loss: 0.1116 - val_accuracy: 0.9715\n",
            "Epoch 45/100\n",
            "138/138 [==============================] - 42s 289ms/step - loss: 0.0452 - accuracy: 0.9866 - val_loss: 0.1259 - val_accuracy: 0.9651\n",
            "Epoch 46/100\n",
            "138/138 [==============================] - 42s 290ms/step - loss: 0.0481 - accuracy: 0.9882 - val_loss: 0.1114 - val_accuracy: 0.9715\n",
            "Epoch 47/100\n",
            "138/138 [==============================] - 42s 288ms/step - loss: 0.0388 - accuracy: 0.9907 - val_loss: 0.1166 - val_accuracy: 0.9688\n",
            "Epoch 48/100\n",
            "138/138 [==============================] - 42s 289ms/step - loss: 0.0406 - accuracy: 0.9896 - val_loss: 0.1108 - val_accuracy: 0.9697\n",
            "Epoch 49/100\n",
            "138/138 [==============================] - 42s 289ms/step - loss: 0.0418 - accuracy: 0.9884 - val_loss: 0.1153 - val_accuracy: 0.9678\n",
            "Epoch 50/100\n",
            "138/138 [==============================] - 42s 291ms/step - loss: 0.0378 - accuracy: 0.9891 - val_loss: 0.1226 - val_accuracy: 0.9623\n",
            "Epoch 51/100\n",
            "138/138 [==============================] - 42s 289ms/step - loss: 0.0358 - accuracy: 0.9903 - val_loss: 0.1247 - val_accuracy: 0.9651\n",
            "Epoch 52/100\n",
            "138/138 [==============================] - 42s 289ms/step - loss: 0.0384 - accuracy: 0.9907 - val_loss: 0.1188 - val_accuracy: 0.9660\n",
            "Epoch 53/100\n",
            "138/138 [==============================] - 42s 290ms/step - loss: 0.0370 - accuracy: 0.9903 - val_loss: 0.1204 - val_accuracy: 0.9669\n",
            "Epoch 54/100\n",
            "138/138 [==============================] - 42s 290ms/step - loss: 0.0376 - accuracy: 0.9907 - val_loss: 0.1172 - val_accuracy: 0.9688\n",
            "Epoch 55/100\n",
            "138/138 [==============================] - 42s 289ms/step - loss: 0.0367 - accuracy: 0.9903 - val_loss: 0.1298 - val_accuracy: 0.9632\n",
            "Epoch 56/100\n",
            "138/138 [==============================] - 42s 291ms/step - loss: 0.0350 - accuracy: 0.9900 - val_loss: 0.1258 - val_accuracy: 0.9632\n",
            "Epoch 57/100\n",
            "138/138 [==============================] - 42s 291ms/step - loss: 0.0377 - accuracy: 0.9887 - val_loss: 0.1142 - val_accuracy: 0.9678\n",
            "Epoch 58/100\n",
            "138/138 [==============================] - 42s 292ms/step - loss: 0.0323 - accuracy: 0.9903 - val_loss: 0.1175 - val_accuracy: 0.9688\n",
            "Epoch 59/100\n",
            "138/138 [==============================] - 42s 289ms/step - loss: 0.0353 - accuracy: 0.9903 - val_loss: 0.1152 - val_accuracy: 0.9697\n",
            "Epoch 60/100\n",
            "138/138 [==============================] - 42s 289ms/step - loss: 0.0320 - accuracy: 0.9930 - val_loss: 0.1165 - val_accuracy: 0.9706\n",
            "Epoch 61/100\n",
            "138/138 [==============================] - 42s 289ms/step - loss: 0.0328 - accuracy: 0.9928 - val_loss: 0.1176 - val_accuracy: 0.9632\n",
            "Epoch 62/100\n",
            "138/138 [==============================] - 42s 289ms/step - loss: 0.0308 - accuracy: 0.9918 - val_loss: 0.1202 - val_accuracy: 0.9669\n",
            "Epoch 63/100\n",
            "138/138 [==============================] - 42s 289ms/step - loss: 0.0353 - accuracy: 0.9903 - val_loss: 0.1183 - val_accuracy: 0.9669\n",
            "Epoch 64/100\n",
            "138/138 [==============================] - 42s 290ms/step - loss: 0.0299 - accuracy: 0.9925 - val_loss: 0.1125 - val_accuracy: 0.9697\n",
            "Epoch 65/100\n",
            "138/138 [==============================] - 42s 292ms/step - loss: 0.0355 - accuracy: 0.9896 - val_loss: 0.1258 - val_accuracy: 0.9651\n",
            "Epoch 66/100\n",
            "138/138 [==============================] - 42s 291ms/step - loss: 0.0271 - accuracy: 0.9937 - val_loss: 0.1193 - val_accuracy: 0.9678\n",
            "Epoch 67/100\n",
            "138/138 [==============================] - 42s 290ms/step - loss: 0.0279 - accuracy: 0.9925 - val_loss: 0.1182 - val_accuracy: 0.9697\n",
            "Epoch 68/100\n",
            "138/138 [==============================] - 42s 288ms/step - loss: 0.0271 - accuracy: 0.9941 - val_loss: 0.1173 - val_accuracy: 0.9724\n",
            "Epoch 69/100\n",
            "138/138 [==============================] - 42s 290ms/step - loss: 0.0292 - accuracy: 0.9937 - val_loss: 0.1188 - val_accuracy: 0.9706\n",
            "Epoch 70/100\n",
            "138/138 [==============================] - 42s 290ms/step - loss: 0.0309 - accuracy: 0.9907 - val_loss: 0.1145 - val_accuracy: 0.9724\n",
            "Epoch 71/100\n",
            "138/138 [==============================] - 42s 290ms/step - loss: 0.0276 - accuracy: 0.9943 - val_loss: 0.1087 - val_accuracy: 0.9669\n",
            "Epoch 72/100\n",
            "138/138 [==============================] - 42s 290ms/step - loss: 0.0276 - accuracy: 0.9934 - val_loss: 0.1149 - val_accuracy: 0.9688\n",
            "Epoch 73/100\n",
            "138/138 [==============================] - 42s 291ms/step - loss: 0.0265 - accuracy: 0.9928 - val_loss: 0.1236 - val_accuracy: 0.9632\n",
            "Epoch 74/100\n",
            "138/138 [==============================] - 42s 290ms/step - loss: 0.0241 - accuracy: 0.9941 - val_loss: 0.1197 - val_accuracy: 0.9678\n",
            "Epoch 75/100\n",
            "138/138 [==============================] - 42s 289ms/step - loss: 0.0250 - accuracy: 0.9943 - val_loss: 0.1260 - val_accuracy: 0.9678\n",
            "Epoch 76/100\n",
            "138/138 [==============================] - 42s 289ms/step - loss: 0.0245 - accuracy: 0.9941 - val_loss: 0.1186 - val_accuracy: 0.9688\n",
            "Epoch 77/100\n",
            "138/138 [==============================] - 42s 290ms/step - loss: 0.0239 - accuracy: 0.9946 - val_loss: 0.1247 - val_accuracy: 0.9669\n",
            "Epoch 78/100\n",
            "138/138 [==============================] - 42s 290ms/step - loss: 0.0224 - accuracy: 0.9943 - val_loss: 0.1229 - val_accuracy: 0.9660\n",
            "Epoch 79/100\n",
            "138/138 [==============================] - 42s 289ms/step - loss: 0.0242 - accuracy: 0.9943 - val_loss: 0.1200 - val_accuracy: 0.9660\n",
            "Epoch 80/100\n",
            "138/138 [==============================] - 42s 291ms/step - loss: 0.0209 - accuracy: 0.9964 - val_loss: 0.1126 - val_accuracy: 0.9678\n",
            "Epoch 81/100\n",
            "138/138 [==============================] - 42s 290ms/step - loss: 0.0235 - accuracy: 0.9955 - val_loss: 0.1320 - val_accuracy: 0.9596\n",
            "Epoch 82/100\n",
            "138/138 [==============================] - 42s 289ms/step - loss: 0.0231 - accuracy: 0.9943 - val_loss: 0.1225 - val_accuracy: 0.9642\n",
            "Epoch 83/100\n",
            "138/138 [==============================] - 42s 288ms/step - loss: 0.0209 - accuracy: 0.9961 - val_loss: 0.1191 - val_accuracy: 0.9688\n",
            "Epoch 84/100\n",
            "138/138 [==============================] - 42s 289ms/step - loss: 0.0221 - accuracy: 0.9959 - val_loss: 0.1210 - val_accuracy: 0.9697\n",
            "Epoch 85/100\n",
            "138/138 [==============================] - 42s 288ms/step - loss: 0.0213 - accuracy: 0.9943 - val_loss: 0.1235 - val_accuracy: 0.9669\n",
            "Epoch 86/100\n",
            "138/138 [==============================] - 42s 290ms/step - loss: 0.0199 - accuracy: 0.9961 - val_loss: 0.1280 - val_accuracy: 0.9642\n",
            "Epoch 87/100\n",
            "138/138 [==============================] - 43s 296ms/step - loss: 0.0223 - accuracy: 0.9948 - val_loss: 0.1200 - val_accuracy: 0.9706\n",
            "Epoch 88/100\n",
            "138/138 [==============================] - 42s 289ms/step - loss: 0.0211 - accuracy: 0.9955 - val_loss: 0.1231 - val_accuracy: 0.9669\n",
            "Epoch 89/100\n",
            "138/138 [==============================] - 42s 290ms/step - loss: 0.0201 - accuracy: 0.9952 - val_loss: 0.1250 - val_accuracy: 0.9660\n",
            "Epoch 90/100\n",
            "138/138 [==============================] - 42s 290ms/step - loss: 0.0202 - accuracy: 0.9952 - val_loss: 0.1180 - val_accuracy: 0.9697\n",
            "Epoch 91/100\n",
            "138/138 [==============================] - 42s 288ms/step - loss: 0.0215 - accuracy: 0.9948 - val_loss: 0.1264 - val_accuracy: 0.9660\n",
            "Epoch 92/100\n",
            "138/138 [==============================] - 42s 290ms/step - loss: 0.0199 - accuracy: 0.9952 - val_loss: 0.1258 - val_accuracy: 0.9651\n",
            "Epoch 93/100\n",
            "138/138 [==============================] - 42s 288ms/step - loss: 0.0179 - accuracy: 0.9971 - val_loss: 0.1225 - val_accuracy: 0.9678\n",
            "Epoch 94/100\n",
            "138/138 [==============================] - 42s 290ms/step - loss: 0.0187 - accuracy: 0.9961 - val_loss: 0.1209 - val_accuracy: 0.9678\n",
            "Epoch 95/100\n",
            "138/138 [==============================] - 42s 290ms/step - loss: 0.0182 - accuracy: 0.9961 - val_loss: 0.1228 - val_accuracy: 0.9651\n",
            "Epoch 96/100\n",
            "138/138 [==============================] - 42s 290ms/step - loss: 0.0179 - accuracy: 0.9961 - val_loss: 0.1189 - val_accuracy: 0.9651\n",
            "Epoch 97/100\n",
            "138/138 [==============================] - 42s 289ms/step - loss: 0.0167 - accuracy: 0.9966 - val_loss: 0.1202 - val_accuracy: 0.9724\n",
            "Epoch 98/100\n",
            "138/138 [==============================] - 42s 289ms/step - loss: 0.0194 - accuracy: 0.9939 - val_loss: 0.1211 - val_accuracy: 0.9688\n",
            "Epoch 99/100\n",
            "138/138 [==============================] - 42s 289ms/step - loss: 0.0157 - accuracy: 0.9966 - val_loss: 0.1217 - val_accuracy: 0.9678\n",
            "Epoch 100/100\n",
            "138/138 [==============================] - 42s 290ms/step - loss: 0.0161 - accuracy: 0.9961 - val_loss: 0.1221 - val_accuracy: 0.9669\n"
          ]
        }
      ]
    },
    {
      "cell_type": "markdown",
      "source": [
        "##5.3. Model History Plot"
      ],
      "metadata": {
        "id": "ZEqo0hNPGcu6"
      }
    },
    {
      "cell_type": "code",
      "source": [
        "def plot_save_history(model_history):\n",
        "\n",
        "  fig,ax=plt.subplots(2,1,figsize=(15,8))\n",
        "  fig.subplots_adjust(hspace=0.4)\n",
        "\n",
        "  ax[0].plot(model_history.history[\"val_loss\"])\n",
        "  ax[0].set_title(\"Loss_Function_val\",fontsize=16)\n",
        "  ax[0].set_xlabel(\"Epochs\",fontsize=16)\n",
        "  ax[0].set_ylabel(\"Loss\",fontsize=16)\n",
        "  \n",
        "  ax[1].plot(model_history.history[\"val_accuracy\"])\n",
        "  ax[1].set_title(\"Accuracy_val\",fontsize=16)\n",
        "  ax[1].set_xlabel(\"Epochs\",fontsize=16)\n",
        "  ax[1].set_ylabel(\"Acc\",fontsize=16)\n",
        "  ax[1].set_ylim([0, 1])\n",
        "\n",
        "  plt.close()\n",
        "  \n",
        "  return fig"
      ],
      "metadata": {
        "id": "_H9iHhVHDpd8"
      },
      "execution_count": null,
      "outputs": []
    },
    {
      "cell_type": "code",
      "source": [
        "plot_save_history(model_history)"
      ],
      "metadata": {
        "colab": {
          "base_uri": "https://localhost:8080/",
          "height": 520
        },
        "id": "m-Qnt9mCGgnR",
        "outputId": "d19e180b-e474-478c-ce39-80da909b2968"
      },
      "execution_count": null,
      "outputs": [
        {
          "output_type": "execute_result",
          "data": {
            "image/png": "[encoded data removed]",
            "text/plain": [
              "<Figure size 1080x576 with 2 Axes>"
            ]
          },
          "metadata": {},
          "execution_count": 47
        }
      ]
    },
    {
      "cell_type": "markdown",
      "source": [
        "##5.4. Model Architecture Visualization"
      ],
      "metadata": {
        "id": "fTXtdAMI5XtZ"
      }
    },
    {
      "cell_type": "code",
      "source": [
        "from tensorflow.keras.utils import plot_model\n",
        "display(plot_model(model,\n",
        "                   show_shapes=True,\n",
        "                   show_layer_names=True,\n",
        "                   show_layer_activations=True))"
      ],
      "metadata": {
        "colab": {
          "base_uri": "https://localhost:8080/",
          "height": 644
        },
        "id": "RH8AcNU8GoJI",
        "outputId": "3d022271-faee-45e1-f6cb-abc846cbe7b4"
      },
      "execution_count": null,
      "outputs": [
        {
          "output_type": "display_data",
          "data": {
            "image/png": "[encoded data removed]",
            "text/plain": [
              "<IPython.core.display.Image object>"
            ]
          },
          "metadata": {}
        }
      ]
    },
    {
      "cell_type": "markdown",
      "source": [
        "#6. Loading model"
      ],
      "metadata": {
        "id": "sQqXNnaLIsvq"
      }
    },
    {
      "cell_type": "code",
      "source": [
        "from keras.models import load_model\n",
        "model_1 = load_model(\"best_model.h5\")"
      ],
      "metadata": {
        "id": "avL1rYZTHPY5"
      },
      "execution_count": null,
      "outputs": []
    },
    {
      "cell_type": "code",
      "source": [
        "####\n",
        "if os.path.exists(\"Kitchenware_data\"):\n",
        "  shutil.rmtree('Kitchenware_data')\n",
        "\n",
        "Dir_Data = \"Kitchenware_data\"\n",
        "Dir = (\"Full_Train\", \"Test\", \"Train\", \"Val\")\n",
        "\n",
        "Full_Train_Size = 0.8\n",
        "Random_State =  563 #study.best_trial.params['random_state']            \n",
        "\n",
        "df_Full_Train, df_Test, df_Train, df_Val = Making_Directory(ProjectDirectory= Dir_Data,\n",
        "                                                            Directories = Dir,\n",
        "                                                            DataFrame = df_train,\n",
        "                                                            FullTrainSize = Full_Train_Size,\n",
        "                                                            RandomState = Random_State)\n",
        "####\n",
        "TamImagen =  299\n",
        "batch_size = 32\n",
        "\n",
        "train_data_gen = ImageDataGenerator(zoom_range =   [0.80, 1.0],\n",
        "                                    brightness_range =[0.8,1.2],\n",
        "                                    vertical_flip = True,  \n",
        "                                    horizontal_flip = True, \n",
        "                                    #shear_range = 30,\n",
        "                                    #rotation_range = 90,                                \n",
        "                                    preprocessing_function=keras.applications.xception.preprocess_input)\n",
        "\n",
        "test_data_gen = ImageDataGenerator(preprocessing_function=keras.applications.xception.preprocess_input)\n",
        "\n",
        "train_generator = train_data_gen.flow_from_directory(\"./Kitchenware_data/Full_Train\", \n",
        "                                                    (TamImagen, TamImagen),\n",
        "                                                    batch_size = batch_size,\n",
        "                                                    class_mode = \"categorical\")\n",
        "\n",
        "valid_generator = test_data_gen.flow_from_directory(\"./Kitchenware_data/Test\", \n",
        "                                                    (TamImagen, TamImagen),\n",
        "                                                    batch_size = batch_size,\n",
        "                                                    class_mode = \"categorical\")\n",
        "\n",
        "model_1.evaluate(valid_generator)"
      ],
      "metadata": {
        "colab": {
          "base_uri": "https://localhost:8080/"
        },
        "id": "cN5Wur2_H2pJ",
        "outputId": "5b2e93fd-6c8b-4e79-885d-951a32df5df6"
      },
      "execution_count": null,
      "outputs": [
        {
          "output_type": "stream",
          "name": "stdout",
          "text": [
            "Found 4447 images belonging to 6 classes.\n",
            "Found 1112 images belonging to 6 classes.\n",
            "35/35 [==============================] - 31s 520ms/step - loss: 0.1102 - accuracy: 0.9739\n"
          ]
        },
        {
          "output_type": "execute_result",
          "data": {
            "text/plain": [
              "[0.11018715053796768, 0.9739208817481995]"
            ]
          },
          "metadata": {},
          "execution_count": 17
        }
      ]
    },
    {
      "cell_type": "markdown",
      "source": [
        "##6.1 Predict a single image"
      ],
      "metadata": {
        "id": "cxPJULdvehh2"
      }
    },
    {
      "cell_type": "code",
      "source": [
        "from PIL import Image"
      ],
      "metadata": {
        "id": "e8A1VFkPepX2"
      },
      "execution_count": null,
      "outputs": []
    },
    {
      "cell_type": "code",
      "source": [
        "def normalization(x):\n",
        "    x /= 127.5\n",
        "    x -= 1.\n",
        "    return x"
      ],
      "metadata": {
        "id": "GZsg1DoQfmRH"
      },
      "execution_count": null,
      "outputs": []
    },
    {
      "cell_type": "code",
      "source": [
        "# Download a fork and call it 'fork.jpg'\n",
        "img_path='fork.jpg'\n",
        "img = Image.open(img_path)\n",
        "img_resize = img.resize((299, 299))\n",
        "img_array = np.array(img_resize, dtype='float32')\n",
        "img_array_norm = normalization(img_array)\n",
        "img_reshape = img_array_norm.reshape(1,299,299,3)"
      ],
      "metadata": {
        "id": "aLoQsq8helmI"
      },
      "execution_count": null,
      "outputs": []
    },
    {
      "cell_type": "code",
      "source": [
        "pred = model_1.predict(img_reshape)\n",
        "pred"
      ],
      "metadata": {
        "colab": {
          "base_uri": "https://localhost:8080/"
        },
        "id": "MDG2ilJEdPnm",
        "outputId": "06bb8541-4db4-43e9-8211-dd9fc7839cba"
      },
      "execution_count": null,
      "outputs": [
        {
          "output_type": "stream",
          "name": "stdout",
          "text": [
            "1/1 [==============================] - 1s 999ms/step\n"
          ]
        },
        {
          "output_type": "execute_result",
          "data": {
            "text/plain": [
              "array([[4.1789963e-06, 9.2529655e-01, 2.7775521e-05, 4.5957766e-04,\n",
              "        9.2102691e-06, 7.4202716e-02]], dtype=float32)"
            ]
          },
          "metadata": {},
          "execution_count": 26
        }
      ]
    },
    {
      "cell_type": "code",
      "source": [
        "classes = np.array(list(train_generator.class_indices.keys()))\n",
        "classes"
      ],
      "metadata": {
        "colab": {
          "base_uri": "https://localhost:8080/"
        },
        "id": "VablAt72gyLc",
        "outputId": "2f8ea060-c3b8-4400-8b0d-912dbd26e605"
      },
      "execution_count": null,
      "outputs": [
        {
          "output_type": "execute_result",
          "data": {
            "text/plain": [
              "array(['cup', 'fork', 'glass', 'knife', 'plate', 'spoon'], dtype='<U5')"
            ]
          },
          "metadata": {},
          "execution_count": 41
        }
      ]
    },
    {
      "cell_type": "code",
      "source": [
        "classes[np.argmax(pred[0], axis=-1)]"
      ],
      "metadata": {
        "colab": {
          "base_uri": "https://localhost:8080/",
          "height": 35
        },
        "id": "ZhNBnyxmhjGW",
        "outputId": "39e928fb-6f7a-48db-f049-9581e6623f44"
      },
      "execution_count": null,
      "outputs": [
        {
          "output_type": "execute_result",
          "data": {
            "text/plain": [
              "'fork'"
            ],
            "application/vnd.google.colaboratory.intrinsic+json": {
              "type": "string"
            }
          },
          "metadata": {},
          "execution_count": 28
        }
      ]
    },
    {
      "cell_type": "markdown",
      "source": [
        "##6.2 Predict with test data"
      ],
      "metadata": {
        "id": "C5A6Np78aM2q"
      }
    },
    {
      "cell_type": "code",
      "source": [
        "df_test = pd.read_csv('data/test.csv', dtype={'Id': str})\n",
        "df_test['filename'] = 'data/images/' + df_test['Id'] + '.jpg'\n",
        "df_test.head()"
      ],
      "metadata": {
        "colab": {
          "base_uri": "https://localhost:8080/",
          "height": 206
        },
        "id": "u-a_B4WaaQeA",
        "outputId": "1f2c5760-1e5f-4aaf-a029-3505c433ea4d"
      },
      "execution_count": null,
      "outputs": [
        {
          "output_type": "execute_result",
          "data": {
            "text/plain": [
              "     Id              filename\n",
              "0  0678  data/images/0678.jpg\n",
              "1  3962  data/images/3962.jpg\n",
              "2  9271  data/images/9271.jpg\n",
              "3  5133  data/images/5133.jpg\n",
              "4  8842  data/images/8842.jpg"
            ],
            "text/html": [
              "\n",
              "  <div id=\"df-a3171df4-1390-41c8-864d-78ed19849888\">\n",
              "    <div class=\"colab-df-container\">\n",
              "      <div>\n",
              "<style scoped>\n",
              "    .dataframe tbody tr th:only-of-type {\n",
              "        vertical-align: middle;\n",
              "    }\n",
              "\n",
              "    .dataframe tbody tr th {\n",
              "        vertical-align: top;\n",
              "    }\n",
              "\n",
              "    .dataframe thead th {\n",
              "        text-align: right;\n",
              "    }\n",
              "</style>\n",
              "<table border=\"1\" class=\"dataframe\">\n",
              "  <thead>\n",
              "    <tr style=\"text-align: right;\">\n",
              "      <th></th>\n",
              "      <th>Id</th>\n",
              "      <th>filename</th>\n",
              "    </tr>\n",
              "  </thead>\n",
              "  <tbody>\n",
              "    <tr>\n",
              "      <th>0</th>\n",
              "      <td>0678</td>\n",
              "      <td>data/images/0678.jpg</td>\n",
              "    </tr>\n",
              "    <tr>\n",
              "      <th>1</th>\n",
              "      <td>3962</td>\n",
              "      <td>data/images/3962.jpg</td>\n",
              "    </tr>\n",
              "    <tr>\n",
              "      <th>2</th>\n",
              "      <td>9271</td>\n",
              "      <td>data/images/9271.jpg</td>\n",
              "    </tr>\n",
              "    <tr>\n",
              "      <th>3</th>\n",
              "      <td>5133</td>\n",
              "      <td>data/images/5133.jpg</td>\n",
              "    </tr>\n",
              "    <tr>\n",
              "      <th>4</th>\n",
              "      <td>8842</td>\n",
              "      <td>data/images/8842.jpg</td>\n",
              "    </tr>\n",
              "  </tbody>\n",
              "</table>\n",
              "</div>\n",
              "      <button class=\"colab-df-convert\" onclick=\"convertToInteractive('df-a3171df4-1390-41c8-864d-78ed19849888')\"\n",
              "              title=\"Convert this dataframe to an interactive table.\"\n",
              "              style=\"display:none;\">\n",
              "        \n",
              "  <svg xmlns=\"http://www.w3.org/2000/svg\" height=\"24px\"viewBox=\"0 0 24 24\"\n",
              "       width=\"24px\">\n",
              "    <path d=\"M0 0h24v24H0V0z\" fill=\"none\"/>\n",
              "    <path d=\"M18.56 5.44l.94 2.06.94-2.06 2.06-.94-2.06-.94-.94-2.06-.94 2.06-2.06.94zm-11 1L8.5 8.5l.94-2.06 2.06-.94-2.06-.94L8.5 2.5l-.94 2.06-2.06.94zm10 10l.94 2.06.94-2.06 2.06-.94-2.06-.94-.94-2.06-.94 2.06-2.06.94z\"/><path d=\"M17.41 7.96l-1.37-1.37c-.4-.4-.92-.59-1.43-.59-.52 0-1.04.2-1.43.59L10.3 9.45l-7.72 7.72c-.78.78-.78 2.05 0 2.83L4 21.41c.39.39.9.59 1.41.59.51 0 1.02-.2 1.41-.59l7.78-7.78 2.81-2.81c.8-.78.8-2.07 0-2.86zM5.41 20L4 18.59l7.72-7.72 1.47 1.35L5.41 20z\"/>\n",
              "  </svg>\n",
              "      </button>\n",
              "      \n",
              "  <style>\n",
              "    .colab-df-container {\n",
              "      display:flex;\n",
              "      flex-wrap:wrap;\n",
              "      gap: 12px;\n",
              "    }\n",
              "\n",
              "    .colab-df-convert {\n",
              "      background-color: #E8F0FE;\n",
              "      border: none;\n",
              "      border-radius: 50%;\n",
              "      cursor: pointer;\n",
              "      display: none;\n",
              "      fill: #1967D2;\n",
              "      height: 32px;\n",
              "      padding: 0 0 0 0;\n",
              "      width: 32px;\n",
              "    }\n",
              "\n",
              "    .colab-df-convert:hover {\n",
              "      background-color: #E2EBFA;\n",
              "      box-shadow: 0px 1px 2px rgba(60, 64, 67, 0.3), 0px 1px 3px 1px rgba(60, 64, 67, 0.15);\n",
              "      fill: #174EA6;\n",
              "    }\n",
              "\n",
              "    [theme=dark] .colab-df-convert {\n",
              "      background-color: #3B4455;\n",
              "      fill: #D2E3FC;\n",
              "    }\n",
              "\n",
              "    [theme=dark] .colab-df-convert:hover {\n",
              "      background-color: #434B5C;\n",
              "      box-shadow: 0px 1px 3px 1px rgba(0, 0, 0, 0.15);\n",
              "      filter: drop-shadow(0px 1px 2px rgba(0, 0, 0, 0.3));\n",
              "      fill: #FFFFFF;\n",
              "    }\n",
              "  </style>\n",
              "\n",
              "      <script>\n",
              "        const buttonEl =\n",
              "          document.querySelector('#df-a3171df4-1390-41c8-864d-78ed19849888 button.colab-df-convert');\n",
              "        buttonEl.style.display =\n",
              "          google.colab.kernel.accessAllowed ? 'block' : 'none';\n",
              "\n",
              "        async function convertToInteractive(key) {\n",
              "          const element = document.querySelector('#df-a3171df4-1390-41c8-864d-78ed19849888');\n",
              "          const dataTable =\n",
              "            await google.colab.kernel.invokeFunction('convertToInteractive',\n",
              "                                                     [key], {});\n",
              "          if (!dataTable) return;\n",
              "\n",
              "          const docLinkHtml = 'Like what you see? Visit the ' +\n",
              "            '<a target=\"_blank\" href=https://colab.research.google.com/notebooks/data_table.ipynb>data table notebook</a>'\n",
              "            + ' to learn more about interactive tables.';\n",
              "          element.innerHTML = '';\n",
              "          dataTable['output_type'] = 'display_data';\n",
              "          await google.colab.output.renderOutput(dataTable, element);\n",
              "          const docLink = document.createElement('div');\n",
              "          docLink.innerHTML = docLinkHtml;\n",
              "          element.appendChild(docLink);\n",
              "        }\n",
              "      </script>\n",
              "    </div>\n",
              "  </div>\n",
              "  "
            ]
          },
          "metadata": {},
          "execution_count": 29
        }
      ]
    },
    {
      "cell_type": "code",
      "source": [
        "from keras.preprocessing.image import ImageDataGenerator\n",
        "\n",
        "\n",
        "TamImagen =  299\n",
        "batch_size = 32\n",
        "\n",
        "test_gen = ImageDataGenerator(preprocessing_function=keras.applications.xception.preprocess_input)\n",
        "test_generator = test_gen.flow_from_dataframe(df_test,\n",
        "                                              x_col = 'filename',\n",
        "                                              target_size= (TamImagen, TamImagen),\n",
        "                                              batch_size = batch_size,\n",
        "                                              class_mode = \"input\",\n",
        "                                              shuffle=False)\n"
      ],
      "metadata": {
        "colab": {
          "base_uri": "https://localhost:8080/"
        },
        "id": "FBo1bbN3aXim",
        "outputId": "d32eb3af-5f62-45d4-ae53-6bd638bc1d42"
      },
      "execution_count": null,
      "outputs": [
        {
          "output_type": "stream",
          "name": "stdout",
          "text": [
            "Found 3808 validated image filenames.\n"
          ]
        }
      ]
    },
    {
      "cell_type": "code",
      "source": [
        "y_pred = model_1.predict(test_generator)"
      ],
      "metadata": {
        "colab": {
          "base_uri": "https://localhost:8080/"
        },
        "id": "rf2Pr7YRdi_2",
        "outputId": "d8675a44-32e2-43e7-84ff-7cbd68df73cc"
      },
      "execution_count": null,
      "outputs": [
        {
          "output_type": "stream",
          "name": "stdout",
          "text": [
            "119/119 [==============================] - 62s 519ms/step\n"
          ]
        },
        {
          "output_type": "execute_result",
          "data": {
            "text/plain": [
              "array([[1.0572191e-04, 5.2102543e-02, 1.8506371e-04, 5.2816644e-03,\n",
              "        8.0316393e-05, 9.4224477e-01],\n",
              "       [2.7731796e-06, 2.8442661e-03, 1.1773700e-04, 9.9178177e-01,\n",
              "        1.4195612e-05, 5.2391724e-03],\n",
              "       [1.8206291e-07, 9.9980897e-01, 7.9782631e-06, 2.0238242e-06,\n",
              "        1.2714501e-05, 1.6806743e-04],\n",
              "       ...,\n",
              "       [1.7057155e-06, 3.0966140e-03, 1.6130098e-05, 1.1749526e-06,\n",
              "        6.7168339e-06, 9.9687755e-01],\n",
              "       [3.0951019e-06, 9.8834980e-01, 1.0008611e-05, 2.5904825e-04,\n",
              "        1.9511155e-05, 1.1358583e-02],\n",
              "       [4.3228189e-07, 5.2567761e-05, 2.8435047e-06, 5.8497778e-07,\n",
              "        5.9140444e-07, 9.9994302e-01]], dtype=float32)"
            ]
          },
          "metadata": {},
          "execution_count": 39
        }
      ]
    },
    {
      "cell_type": "code",
      "source": [
        "predictions = classes[y_pred.argmax(axis=1)]\n",
        "predictions"
      ],
      "metadata": {
        "colab": {
          "base_uri": "https://localhost:8080/"
        },
        "id": "9UbGeqOuduEd",
        "outputId": "6d30a6c9-93e5-4e3d-aca5-d4758b3deb48"
      },
      "execution_count": null,
      "outputs": [
        {
          "output_type": "execute_result",
          "data": {
            "text/plain": [
              "array(['spoon', 'knife', 'fork', ..., 'spoon', 'fork', 'spoon'],\n",
              "      dtype='<U5')"
            ]
          },
          "metadata": {},
          "execution_count": 42
        }
      ]
    },
    {
      "cell_type": "code",
      "source": [
        "df_submission = pd.DataFrame()\n",
        "df_submission['filename'] = test_generator.filenames\n",
        "df_submission['label'] = predictions\n",
        "\n",
        "df_submission['Id'] = df_submission.filename.str[len('data/images/'):-4]\n",
        "del df_submission['filename']"
      ],
      "metadata": {
        "id": "pJE0BiDVdwyG"
      },
      "execution_count": null,
      "outputs": []
    },
    {
      "cell_type": "code",
      "source": [
        "df_submission"
      ],
      "metadata": {
        "colab": {
          "base_uri": "https://localhost:8080/",
          "height": 423
        },
        "id": "9AgOTskceLQF",
        "outputId": "7482f907-02aa-470c-d838-97283407a131"
      },
      "execution_count": null,
      "outputs": [
        {
          "output_type": "execute_result",
          "data": {
            "text/plain": [
              "      label    Id\n",
              "0     spoon  0678\n",
              "1     knife  3962\n",
              "2      fork  9271\n",
              "3     plate  5133\n",
              "4      fork  8842\n",
              "...     ...   ...\n",
              "3803  plate  7626\n",
              "3804    cup  2052\n",
              "3805  spoon  8827\n",
              "3806   fork  2299\n",
              "3807  spoon  2212\n",
              "\n",
              "[3808 rows x 2 columns]"
            ],
            "text/html": [
              "\n",
              "  <div id=\"df-f94c6323-82d7-495d-82e4-0204421ea3da\">\n",
              "    <div class=\"colab-df-container\">\n",
              "      <div>\n",
              "<style scoped>\n",
              "    .dataframe tbody tr th:only-of-type {\n",
              "        vertical-align: middle;\n",
              "    }\n",
              "\n",
              "    .dataframe tbody tr th {\n",
              "        vertical-align: top;\n",
              "    }\n",
              "\n",
              "    .dataframe thead th {\n",
              "        text-align: right;\n",
              "    }\n",
              "</style>\n",
              "<table border=\"1\" class=\"dataframe\">\n",
              "  <thead>\n",
              "    <tr style=\"text-align: right;\">\n",
              "      <th></th>\n",
              "      <th>label</th>\n",
              "      <th>Id</th>\n",
              "    </tr>\n",
              "  </thead>\n",
              "  <tbody>\n",
              "    <tr>\n",
              "      <th>0</th>\n",
              "      <td>spoon</td>\n",
              "      <td>0678</td>\n",
              "    </tr>\n",
              "    <tr>\n",
              "      <th>1</th>\n",
              "      <td>knife</td>\n",
              "      <td>3962</td>\n",
              "    </tr>\n",
              "    <tr>\n",
              "      <th>2</th>\n",
              "      <td>fork</td>\n",
              "      <td>9271</td>\n",
              "    </tr>\n",
              "    <tr>\n",
              "      <th>3</th>\n",
              "      <td>plate</td>\n",
              "      <td>5133</td>\n",
              "    </tr>\n",
              "    <tr>\n",
              "      <th>4</th>\n",
              "      <td>fork</td>\n",
              "      <td>8842</td>\n",
              "    </tr>\n",
              "    <tr>\n",
              "      <th>...</th>\n",
              "      <td>...</td>\n",
              "      <td>...</td>\n",
              "    </tr>\n",
              "    <tr>\n",
              "      <th>3803</th>\n",
              "      <td>plate</td>\n",
              "      <td>7626</td>\n",
              "    </tr>\n",
              "    <tr>\n",
              "      <th>3804</th>\n",
              "      <td>cup</td>\n",
              "      <td>2052</td>\n",
              "    </tr>\n",
              "    <tr>\n",
              "      <th>3805</th>\n",
              "      <td>spoon</td>\n",
              "      <td>8827</td>\n",
              "    </tr>\n",
              "    <tr>\n",
              "      <th>3806</th>\n",
              "      <td>fork</td>\n",
              "      <td>2299</td>\n",
              "    </tr>\n",
              "    <tr>\n",
              "      <th>3807</th>\n",
              "      <td>spoon</td>\n",
              "      <td>2212</td>\n",
              "    </tr>\n",
              "  </tbody>\n",
              "</table>\n",
              "<p>3808 rows × 2 columns</p>\n",
              "</div>\n",
              "      <button class=\"colab-df-convert\" onclick=\"convertToInteractive('df-f94c6323-82d7-495d-82e4-0204421ea3da')\"\n",
              "              title=\"Convert this dataframe to an interactive table.\"\n",
              "              style=\"display:none;\">\n",
              "        \n",
              "  <svg xmlns=\"http://www.w3.org/2000/svg\" height=\"24px\"viewBox=\"0 0 24 24\"\n",
              "       width=\"24px\">\n",
              "    <path d=\"M0 0h24v24H0V0z\" fill=\"none\"/>\n",
              "    <path d=\"M18.56 5.44l.94 2.06.94-2.06 2.06-.94-2.06-.94-.94-2.06-.94 2.06-2.06.94zm-11 1L8.5 8.5l.94-2.06 2.06-.94-2.06-.94L8.5 2.5l-.94 2.06-2.06.94zm10 10l.94 2.06.94-2.06 2.06-.94-2.06-.94-.94-2.06-.94 2.06-2.06.94z\"/><path d=\"M17.41 7.96l-1.37-1.37c-.4-.4-.92-.59-1.43-.59-.52 0-1.04.2-1.43.59L10.3 9.45l-7.72 7.72c-.78.78-.78 2.05 0 2.83L4 21.41c.39.39.9.59 1.41.59.51 0 1.02-.2 1.41-.59l7.78-7.78 2.81-2.81c.8-.78.8-2.07 0-2.86zM5.41 20L4 18.59l7.72-7.72 1.47 1.35L5.41 20z\"/>\n",
              "  </svg>\n",
              "      </button>\n",
              "      \n",
              "  <style>\n",
              "    .colab-df-container {\n",
              "      display:flex;\n",
              "      flex-wrap:wrap;\n",
              "      gap: 12px;\n",
              "    }\n",
              "\n",
              "    .colab-df-convert {\n",
              "      background-color: #E8F0FE;\n",
              "      border: none;\n",
              "      border-radius: 50%;\n",
              "      cursor: pointer;\n",
              "      display: none;\n",
              "      fill: #1967D2;\n",
              "      height: 32px;\n",
              "      padding: 0 0 0 0;\n",
              "      width: 32px;\n",
              "    }\n",
              "\n",
              "    .colab-df-convert:hover {\n",
              "      background-color: #E2EBFA;\n",
              "      box-shadow: 0px 1px 2px rgba(60, 64, 67, 0.3), 0px 1px 3px 1px rgba(60, 64, 67, 0.15);\n",
              "      fill: #174EA6;\n",
              "    }\n",
              "\n",
              "    [theme=dark] .colab-df-convert {\n",
              "      background-color: #3B4455;\n",
              "      fill: #D2E3FC;\n",
              "    }\n",
              "\n",
              "    [theme=dark] .colab-df-convert:hover {\n",
              "      background-color: #434B5C;\n",
              "      box-shadow: 0px 1px 3px 1px rgba(0, 0, 0, 0.15);\n",
              "      filter: drop-shadow(0px 1px 2px rgba(0, 0, 0, 0.3));\n",
              "      fill: #FFFFFF;\n",
              "    }\n",
              "  </style>\n",
              "\n",
              "      <script>\n",
              "        const buttonEl =\n",
              "          document.querySelector('#df-f94c6323-82d7-495d-82e4-0204421ea3da button.colab-df-convert');\n",
              "        buttonEl.style.display =\n",
              "          google.colab.kernel.accessAllowed ? 'block' : 'none';\n",
              "\n",
              "        async function convertToInteractive(key) {\n",
              "          const element = document.querySelector('#df-f94c6323-82d7-495d-82e4-0204421ea3da');\n",
              "          const dataTable =\n",
              "            await google.colab.kernel.invokeFunction('convertToInteractive',\n",
              "                                                     [key], {});\n",
              "          if (!dataTable) return;\n",
              "\n",
              "          const docLinkHtml = 'Like what you see? Visit the ' +\n",
              "            '<a target=\"_blank\" href=https://colab.research.google.com/notebooks/data_table.ipynb>data table notebook</a>'\n",
              "            + ' to learn more about interactive tables.';\n",
              "          element.innerHTML = '';\n",
              "          dataTable['output_type'] = 'display_data';\n",
              "          await google.colab.output.renderOutput(dataTable, element);\n",
              "          const docLink = document.createElement('div');\n",
              "          docLink.innerHTML = docLinkHtml;\n",
              "          element.appendChild(docLink);\n",
              "        }\n",
              "      </script>\n",
              "    </div>\n",
              "  </div>\n",
              "  "
            ]
          },
          "metadata": {},
          "execution_count": 45
        }
      ]
    },
    {
      "cell_type": "code",
      "source": [
        "df_submission[['Id', 'label']].to_csv('submission.csv', index=False)"
      ],
      "metadata": {
        "id": "5FTNsF6OeTrd"
      },
      "execution_count": null,
      "outputs": []
    },
    {
      "cell_type": "code",
      "source": [
        "!kaggle competitions submit kitchenware-classification -f submission.csv -m 'validation: 97392'"
      ],
      "metadata": {
        "colab": {
          "base_uri": "https://localhost:8080/"
        },
        "id": "jTa08yihfFMO",
        "outputId": "467168d8-02e9-4a55-ea17-fb1a0e63af0b"
      },
      "execution_count": null,
      "outputs": [
        {
          "output_type": "stream",
          "name": "stdout",
          "text": [
            "100% 38.9k/38.9k [00:00<00:00, 59.7kB/s]\n",
            "Successfully submitted to Kitchenware Classification"
          ]
        }
      ]
    },
    {
      "cell_type": "markdown",
      "source": [
        "#7. References"
      ],
      "metadata": {
        "id": "it29BXzP6Mwc"
      }
    },
    {
      "cell_type": "markdown",
      "source": [
        "## Data Set-Kaggle\n",
        "\n",
        "https://www.kaggle.com/competitions/kitchenware-classification/data\n",
        "\n",
        "## Optuna library\n",
        "\n",
        "https://optuna.readthedocs.io/en/stable/index.html\n",
        "\n",
        "## Optuna integracion TFKerasPruningCallback\n",
        "\n",
        "https://optuna.readthedocs.io/en/stable/reference/generated/optuna.integration.TFKerasPruningCallback.html\n",
        "\n",
        "## Optuna example Keras\n",
        "\n",
        "https://github.com/optuna/optuna-examples/tree/main/keras\n",
        "\n",
        "## Keras\n",
        "\n",
        "https://keras.io/\n"
      ],
      "metadata": {
        "id": "DnLnO5VZ6oMA"
      }
    }
  ]
}